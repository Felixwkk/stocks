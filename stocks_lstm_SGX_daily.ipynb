{
  "nbformat": 4,
  "nbformat_minor": 0,
  "metadata": {
    "colab": {
      "name": "stocks lstm SGX daily",
      "provenance": [],
      "collapsed_sections": [],
      "include_colab_link": true
    },
    "kernelspec": {
      "name": "python3",
      "display_name": "Python 3"
    },
    "accelerator": "GPU"
  },
  "cells": [
    {
      "cell_type": "markdown",
      "metadata": {
        "id": "view-in-github",
        "colab_type": "text"
      },
      "source": [
        "<a href=\"https://colab.research.google.com/github/Felixwkk/stocks/blob/master/stocks_lstm_SGX_daily.ipynb\" target=\"_parent\"><img src=\"https://colab.research.google.com/assets/colab-badge.svg\" alt=\"Open In Colab\"/></a>"
      ]
    },
    {
      "cell_type": "code",
      "metadata": {
        "id": "ycWbBSARYAYO",
        "colab_type": "code",
        "outputId": "acfdc96d-15c2-48c4-9153-e362b3694c86",
        "colab": {
          "base_uri": "https://localhost:8080/",
          "height": 297
        }
      },
      "source": [
        "# Try to use GPU to train the model\n",
        "\n",
        "!pip install gputil\n",
        "!pip install psutil\n",
        "!pip install humanize\n",
        "import psutil\n",
        "import humanize\n",
        "import os\n",
        "import numpy as np\n",
        "import matplotlib.pyplot as plt\n",
        "import pandas as pd\n",
        "import pandas_datareader as spr\n",
        "import datetime\n",
        "import tensorflow as tf\n",
        "tf.test.gpu_device_name()\n",
        "from tensorflow.python.client import device_lib\n",
        "device_lib.list_local_devices()\n",
        "\n",
        "import GPUtil as GPU\n",
        "GPUs = GPU.getGPUs()\n",
        "# XXX: only one GPU on Colab and isn’t guaranteed\n",
        "gpu = GPUs[0]\n",
        "def printm():\n",
        " process = psutil.Process(os.getpid())\n",
        " print(\"Gen RAM Free: \" + humanize.naturalsize( psutil.virtual_memory().available ), \" | Proc size: \" + humanize.naturalsize( process.memory_info().rss))\n",
        " print(\"GPU RAM Free: {0:.0f}MB | Used: {1:.0f}MB | Util {2:3.0f}% | Total {3:.0f}MB\".format(gpu.memoryFree, gpu.memoryUsed, gpu.memoryUtil*100, gpu.memoryTotal))\n",
        "printm()"
      ],
      "execution_count": 0,
      "outputs": [
        {
          "output_type": "stream",
          "text": [
            "Collecting gputil\n",
            "  Downloading https://files.pythonhosted.org/packages/ed/0e/5c61eedde9f6c87713e89d794f01e378cfd9565847d4576fa627d758c554/GPUtil-1.4.0.tar.gz\n",
            "Building wheels for collected packages: gputil\n",
            "  Building wheel for gputil (setup.py) ... \u001b[?25l\u001b[?25hdone\n",
            "  Created wheel for gputil: filename=GPUtil-1.4.0-cp36-none-any.whl size=7410 sha256=d6570473f56db7e81efb079a11de24df63419e1def815359ce7552e3335eb7aa\n",
            "  Stored in directory: /root/.cache/pip/wheels/3d/77/07/80562de4bb0786e5ea186911a2c831fdd0018bda69beab71fd\n",
            "Successfully built gputil\n",
            "Installing collected packages: gputil\n",
            "Successfully installed gputil-1.4.0\n",
            "Requirement already satisfied: psutil in /usr/local/lib/python3.6/dist-packages (5.4.8)\n",
            "Requirement already satisfied: humanize in /usr/local/lib/python3.6/dist-packages (0.5.1)\n"
          ],
          "name": "stdout"
        },
        {
          "output_type": "display_data",
          "data": {
            "text/html": [
              "<p style=\"color: red;\">\n",
              "The default version of TensorFlow in Colab will soon switch to TensorFlow 2.x.<br>\n",
              "We recommend you <a href=\"https://www.tensorflow.org/guide/migrate\" target=\"_blank\">upgrade</a> now \n",
              "or ensure your notebook will continue to use TensorFlow 1.x via the <code>%tensorflow_version 1.x</code> magic:\n",
              "<a href=\"https://colab.research.google.com/notebooks/tensorflow_version.ipynb\" target=\"_blank\">more info</a>.</p>\n"
            ],
            "text/plain": [
              "<IPython.core.display.HTML object>"
            ]
          },
          "metadata": {
            "tags": []
          }
        },
        {
          "output_type": "stream",
          "text": [
            "Gen RAM Free: 12.6 GB  | Proc size: 455.3 MB\n",
            "GPU RAM Free: 11372MB | Used: 69MB | Util   1% | Total 11441MB\n"
          ],
          "name": "stdout"
        }
      ]
    },
    {
      "cell_type": "code",
      "metadata": {
        "id": "u60Vr13oYORW",
        "colab_type": "code",
        "outputId": "5683af13-8b25-4dcd-b25f-a9a4cc8c5b04",
        "colab": {
          "base_uri": "https://localhost:8080/",
          "height": 370
        }
      },
      "source": [
        "# reading SGX data from Yahoo!\n",
        "stocks = spr.get_data_yahoo('S68.SI', start = datetime.datetime(2013,1,1), end = datetime.datetime(2018, 12, 31))\n",
        "stocks.head()"
      ],
      "execution_count": 0,
      "outputs": [
        {
          "output_type": "error",
          "ename": "RemoteDataError",
          "evalue": "ignored",
          "traceback": [
            "\u001b[0;31m---------------------------------------------------------------------------\u001b[0m",
            "\u001b[0;31mRemoteDataError\u001b[0m                           Traceback (most recent call last)",
            "\u001b[0;32m<ipython-input-6-bdb1208cb6d2>\u001b[0m in \u001b[0;36m<module>\u001b[0;34m()\u001b[0m\n\u001b[0;32m----> 1\u001b[0;31m \u001b[0mstocks\u001b[0m \u001b[0;34m=\u001b[0m \u001b[0mspr\u001b[0m\u001b[0;34m.\u001b[0m\u001b[0mget_data_yahoo\u001b[0m\u001b[0;34m(\u001b[0m\u001b[0;34m'S68.SI'\u001b[0m\u001b[0;34m,\u001b[0m \u001b[0mstart\u001b[0m \u001b[0;34m=\u001b[0m \u001b[0mdatetime\u001b[0m\u001b[0;34m.\u001b[0m\u001b[0mdatetime\u001b[0m\u001b[0;34m(\u001b[0m\u001b[0;36m2013\u001b[0m\u001b[0;34m,\u001b[0m\u001b[0;36m1\u001b[0m\u001b[0;34m,\u001b[0m\u001b[0;36m1\u001b[0m\u001b[0;34m)\u001b[0m\u001b[0;34m,\u001b[0m \u001b[0mend\u001b[0m \u001b[0;34m=\u001b[0m \u001b[0mdatetime\u001b[0m\u001b[0;34m.\u001b[0m\u001b[0mdatetime\u001b[0m\u001b[0;34m(\u001b[0m\u001b[0;36m2018\u001b[0m\u001b[0;34m,\u001b[0m \u001b[0;36m12\u001b[0m\u001b[0;34m,\u001b[0m \u001b[0;36m31\u001b[0m\u001b[0;34m)\u001b[0m\u001b[0;34m)\u001b[0m\u001b[0;34m\u001b[0m\u001b[0;34m\u001b[0m\u001b[0m\n\u001b[0m\u001b[1;32m      2\u001b[0m \u001b[0mstocks\u001b[0m\u001b[0;34m.\u001b[0m\u001b[0mhead\u001b[0m\u001b[0;34m(\u001b[0m\u001b[0;34m)\u001b[0m\u001b[0;34m\u001b[0m\u001b[0;34m\u001b[0m\u001b[0m\n",
            "\u001b[0;32m/usr/local/lib/python3.6/dist-packages/pandas_datareader/data.py\u001b[0m in \u001b[0;36mget_data_yahoo\u001b[0;34m(*args, **kwargs)\u001b[0m\n\u001b[1;32m     68\u001b[0m \u001b[0;34m\u001b[0m\u001b[0m\n\u001b[1;32m     69\u001b[0m \u001b[0;32mdef\u001b[0m \u001b[0mget_data_yahoo\u001b[0m\u001b[0;34m(\u001b[0m\u001b[0;34m*\u001b[0m\u001b[0margs\u001b[0m\u001b[0;34m,\u001b[0m \u001b[0;34m**\u001b[0m\u001b[0mkwargs\u001b[0m\u001b[0;34m)\u001b[0m\u001b[0;34m:\u001b[0m\u001b[0;34m\u001b[0m\u001b[0;34m\u001b[0m\u001b[0m\n\u001b[0;32m---> 70\u001b[0;31m     \u001b[0;32mreturn\u001b[0m \u001b[0mYahooDailyReader\u001b[0m\u001b[0;34m(\u001b[0m\u001b[0;34m*\u001b[0m\u001b[0margs\u001b[0m\u001b[0;34m,\u001b[0m \u001b[0;34m**\u001b[0m\u001b[0mkwargs\u001b[0m\u001b[0;34m)\u001b[0m\u001b[0;34m.\u001b[0m\u001b[0mread\u001b[0m\u001b[0;34m(\u001b[0m\u001b[0;34m)\u001b[0m\u001b[0;34m\u001b[0m\u001b[0;34m\u001b[0m\u001b[0m\n\u001b[0m\u001b[1;32m     71\u001b[0m \u001b[0;34m\u001b[0m\u001b[0m\n\u001b[1;32m     72\u001b[0m \u001b[0;34m\u001b[0m\u001b[0m\n",
            "\u001b[0;32m/usr/local/lib/python3.6/dist-packages/pandas_datareader/base.py\u001b[0m in \u001b[0;36mread\u001b[0;34m(self)\u001b[0m\n\u001b[1;32m    208\u001b[0m         \u001b[0;32mif\u001b[0m \u001b[0misinstance\u001b[0m\u001b[0;34m(\u001b[0m\u001b[0mself\u001b[0m\u001b[0;34m.\u001b[0m\u001b[0msymbols\u001b[0m\u001b[0;34m,\u001b[0m \u001b[0;34m(\u001b[0m\u001b[0mstring_types\u001b[0m\u001b[0;34m,\u001b[0m \u001b[0mint\u001b[0m\u001b[0;34m)\u001b[0m\u001b[0;34m)\u001b[0m\u001b[0;34m:\u001b[0m\u001b[0;34m\u001b[0m\u001b[0;34m\u001b[0m\u001b[0m\n\u001b[1;32m    209\u001b[0m             df = self._read_one_data(self.url,\n\u001b[0;32m--> 210\u001b[0;31m                                      params=self._get_params(self.symbols))\n\u001b[0m\u001b[1;32m    211\u001b[0m         \u001b[0;31m# Or multiple symbols, (e.g., ['GOOG', 'AAPL', 'MSFT'])\u001b[0m\u001b[0;34m\u001b[0m\u001b[0;34m\u001b[0m\u001b[0;34m\u001b[0m\u001b[0m\n\u001b[1;32m    212\u001b[0m         \u001b[0;32melif\u001b[0m \u001b[0misinstance\u001b[0m\u001b[0;34m(\u001b[0m\u001b[0mself\u001b[0m\u001b[0;34m.\u001b[0m\u001b[0msymbols\u001b[0m\u001b[0;34m,\u001b[0m \u001b[0mDataFrame\u001b[0m\u001b[0;34m)\u001b[0m\u001b[0;34m:\u001b[0m\u001b[0;34m\u001b[0m\u001b[0;34m\u001b[0m\u001b[0m\n",
            "\u001b[0;32m/usr/local/lib/python3.6/dist-packages/pandas_datareader/yahoo/daily.py\u001b[0m in \u001b[0;36m_read_one_data\u001b[0;34m(self, url, params)\u001b[0m\n\u001b[1;32m    127\u001b[0m         \u001b[0murl\u001b[0m \u001b[0;34m=\u001b[0m \u001b[0murl\u001b[0m\u001b[0;34m.\u001b[0m\u001b[0mformat\u001b[0m\u001b[0;34m(\u001b[0m\u001b[0msymbol\u001b[0m\u001b[0;34m)\u001b[0m\u001b[0;34m\u001b[0m\u001b[0;34m\u001b[0m\u001b[0m\n\u001b[1;32m    128\u001b[0m \u001b[0;34m\u001b[0m\u001b[0m\n\u001b[0;32m--> 129\u001b[0;31m         \u001b[0mresp\u001b[0m \u001b[0;34m=\u001b[0m \u001b[0mself\u001b[0m\u001b[0;34m.\u001b[0m\u001b[0m_get_response\u001b[0m\u001b[0;34m(\u001b[0m\u001b[0murl\u001b[0m\u001b[0;34m,\u001b[0m \u001b[0mparams\u001b[0m\u001b[0;34m=\u001b[0m\u001b[0mparams\u001b[0m\u001b[0;34m)\u001b[0m\u001b[0;34m\u001b[0m\u001b[0;34m\u001b[0m\u001b[0m\n\u001b[0m\u001b[1;32m    130\u001b[0m         \u001b[0mptrn\u001b[0m \u001b[0;34m=\u001b[0m \u001b[0;34mr'root\\.App\\.main = (.*?);\\n}\\(this\\)\\);'\u001b[0m\u001b[0;34m\u001b[0m\u001b[0;34m\u001b[0m\u001b[0m\n\u001b[1;32m    131\u001b[0m         \u001b[0;32mtry\u001b[0m\u001b[0;34m:\u001b[0m\u001b[0;34m\u001b[0m\u001b[0;34m\u001b[0m\u001b[0m\n",
            "\u001b[0;32m/usr/local/lib/python3.6/dist-packages/pandas_datareader/base.py\u001b[0m in \u001b[0;36m_get_response\u001b[0;34m(self, url, params, headers)\u001b[0m\n\u001b[1;32m    153\u001b[0m             \u001b[0mmsg\u001b[0m \u001b[0;34m+=\u001b[0m \u001b[0;34m'\\nResponse Text:\\n{0}'\u001b[0m\u001b[0;34m.\u001b[0m\u001b[0mformat\u001b[0m\u001b[0;34m(\u001b[0m\u001b[0mlast_response_text\u001b[0m\u001b[0;34m)\u001b[0m\u001b[0;34m\u001b[0m\u001b[0;34m\u001b[0m\u001b[0m\n\u001b[1;32m    154\u001b[0m \u001b[0;34m\u001b[0m\u001b[0m\n\u001b[0;32m--> 155\u001b[0;31m         \u001b[0;32mraise\u001b[0m \u001b[0mRemoteDataError\u001b[0m\u001b[0;34m(\u001b[0m\u001b[0mmsg\u001b[0m\u001b[0;34m)\u001b[0m\u001b[0;34m\u001b[0m\u001b[0;34m\u001b[0m\u001b[0m\n\u001b[0m\u001b[1;32m    156\u001b[0m \u001b[0;34m\u001b[0m\u001b[0m\n\u001b[1;32m    157\u001b[0m     \u001b[0;32mdef\u001b[0m \u001b[0m_get_crumb\u001b[0m\u001b[0;34m(\u001b[0m\u001b[0mself\u001b[0m\u001b[0;34m,\u001b[0m \u001b[0;34m*\u001b[0m\u001b[0margs\u001b[0m\u001b[0;34m)\u001b[0m\u001b[0;34m:\u001b[0m\u001b[0;34m\u001b[0m\u001b[0;34m\u001b[0m\u001b[0m\n",
            "\u001b[0;31mRemoteDataError\u001b[0m: Unable to read URL: https://finance.yahoo.com/quote/S68.SI/history?period1=1357012800&period2=1546315199&interval=1d&frequency=1d&filter=history\nResponse Text:\nb'\\x1f\\x8b\\x08\\x00\\x00\\x00\\x00\\x00\\x00\\x03\\x85V{o\\xdb6\\x10\\xff\\x7f\\x9f\\x82e\\x90\\xd7jZ\\x92\\x9b,\\x89m\\xb9\\xe8\\xfa\\x00\\x02\\x14\\xeb\\xd0&\\xd8\\x8aa0h\\xe9,\\x11\\x91H\\x96\\xa4\\xfcH\\x91\\xef\\xbe\\xa3d\\xc9\\x8e\\x93`\\x12\\x0c\\x1d\\xef\\xc5\\xbb\\xdf\\xf1\\x8e\\x1e\\xbf\\xfa\\xf0\\xe5\\xfd\\xcd\\xf7??\\x92\\xdc\\x95\\xc5\\xe4\\x17B\\xc6\\x9e \\x05\\x97YLA\\xb2\\xca\\xd2\\xc98\\x07\\x9e\\xd6\\xb2\\x12\\x1cGM\\xa7\\x19\\xfc\\xa8\\xc4\"\\xa6\\x89\\x92\\x0e\\xa4cn\\xad\\x81\\x92\\xcd*\\xa6\\x0eV.\\xf0\\x8eF$\\xc9\\xb9\\xb1\\xe0\\xe2\\xdb\\x9bO\\xec\\x92z/\\xfei<\\xb52Z\\xb9\\xf9\\xae\\xd0\\tW\\xc0\\xe4;\\xcf\\x95\\x1a\\x07\\xcd\\xe2\\x91\\x9d\\xe4%\\xc4t!`\\xa9\\x95q;\\xfb.E\\xea\\xf28\\x85\\x85H\\x80\\xd5\\x8b\\x9e\\x90\\xc2\\t^0\\x9b\\xf0\\x02\\xe2\\xa8W\"\\xa3\\xc4u%\\xf6\\x82\\xd9M\\xebov\\xfb\\x8e\\xbdW\\xa5\\xe6N\\xcc\\x8a\\xdd\\xcc\\xae?\\xc6\\x90f\\xd0Kr\\xa30\\x88h\\xeb\\xc4\\xbau\\x13g\\r\\xe0\\xcf\\r;\\x07\\x91\\xe5nH\\xa20<\\x1c!\\xef\\x01\\x7f3\\x95\\xae;\\x85\\x19O\\xee2\\xa3*\\x99\\x0e\\xc9\\xc1\\x9c\\xe3\\x9b\\x90\\xca\\x14\\'>\\x1c;\\x0c\\x02\\xdb_\\x8b2\\xeb\\'\\xaa\\x0c\\xa4\\x0c\\x90\\x0c,O\\x99\\xe62\\xe5l\\x10Fg\\xe1`\\x10\\x86\\xbf\\xbd\\x89\\xfaZf\\xa7\\xe4<<\\xf4\\xbf\\xd1\\x13\\xe7\\xcc\\x8a{\\x18b\\x1e\\x0b0\\xa3\\x17b\\xf3\\x8f\\xaf\\x1c\\xe3\\x85\\xc8$*c\\xc6[\\xed9B0$o\\xc2\\x90D\\x97zEh\\x0e\\xc5\\x02\\x9cH\\xb0\\x1cP\\x01\\xed\\x91\\x8e\\xd1#\\xb8I\\xca%\\x12\\x0ekX\\xe2\\x97\\x1b\\xacA\\x8fX.-\\xb3`\\xc4\\xbc\\xc5\\xc2q\\xc4\\xf7E\\xb4\\xfcS\\x97q/Ho\\xc4\\n\\xbeV\\x15*\\xcf\\xc5\\n\\xd2.ceR0,QE\\xc1\\xb5\\xad3n\\xa8=\\x05\\xaby\"d6$\\xe1c\\xc1\\x90H%\\xa1\\x8d.\\x8f\\xba\\xd0|\\xfa\\x1b\\x10\\xcf\\x06z\\xb5\\x8b\\n[n\\xc2>\\x0b;o\\xb8\\xadBg\\x07\\xc8\\n\\xaf\\xc2\\xd6\\x9f\\xee\\xdc\\xb5\\xf2\\xe8\\x9d\\x7f[\\xf9A\\t\\xd6\\xf2\\x0c\\xd8\\xde\\xbe..."
          ]
        }
      ]
    },
    {
      "cell_type": "code",
      "metadata": {
        "id": "UccA_qG161ql",
        "colab_type": "code",
        "colab": {}
      },
      "source": [
        "stocks.tail()"
      ],
      "execution_count": 0,
      "outputs": []
    },
    {
      "cell_type": "code",
      "metadata": {
        "id": "nO7VgSNYY8FC",
        "colab_type": "code",
        "outputId": "468cc066-b365-4037-bd3e-f3bb972a172d",
        "colab": {
          "base_uri": "https://localhost:8080/",
          "height": 214
        }
      },
      "source": [
        "# retaining only the Open Column\n",
        "stocks_processed = stocks.iloc[:, 0:1].values\n",
        "print(len(stocks_processed))\n",
        "stocks_processed"
      ],
      "execution_count": 0,
      "outputs": [
        {
          "output_type": "error",
          "ename": "NameError",
          "evalue": "ignored",
          "traceback": [
            "\u001b[0;31m---------------------------------------------------------------------------\u001b[0m",
            "\u001b[0;31mNameError\u001b[0m                                 Traceback (most recent call last)",
            "\u001b[0;32m<ipython-input-4-832cc1df2d71>\u001b[0m in \u001b[0;36m<module>\u001b[0;34m()\u001b[0m\n\u001b[0;32m----> 1\u001b[0;31m \u001b[0mstocks_processed\u001b[0m \u001b[0;34m=\u001b[0m \u001b[0mstocks\u001b[0m\u001b[0;34m.\u001b[0m\u001b[0miloc\u001b[0m\u001b[0;34m[\u001b[0m\u001b[0;34m:\u001b[0m\u001b[0;34m,\u001b[0m \u001b[0;36m0\u001b[0m\u001b[0;34m:\u001b[0m\u001b[0;36m1\u001b[0m\u001b[0;34m]\u001b[0m\u001b[0;34m.\u001b[0m\u001b[0mvalues\u001b[0m\u001b[0;34m\u001b[0m\u001b[0;34m\u001b[0m\u001b[0m\n\u001b[0m\u001b[1;32m      2\u001b[0m \u001b[0mprint\u001b[0m\u001b[0;34m(\u001b[0m\u001b[0mlen\u001b[0m\u001b[0;34m(\u001b[0m\u001b[0mstocks_processed\u001b[0m\u001b[0;34m)\u001b[0m\u001b[0;34m)\u001b[0m\u001b[0;34m\u001b[0m\u001b[0;34m\u001b[0m\u001b[0m\n\u001b[1;32m      3\u001b[0m \u001b[0mstocks_processed\u001b[0m\u001b[0;34m\u001b[0m\u001b[0;34m\u001b[0m\u001b[0m\n",
            "\u001b[0;31mNameError\u001b[0m: name 'stocks' is not defined"
          ]
        }
      ]
    },
    {
      "cell_type": "code",
      "metadata": {
        "id": "xtzHrroMZeye",
        "colab_type": "code",
        "colab": {}
      },
      "source": [
        "# normalising the test data\n",
        "from sklearn.preprocessing import MinMaxScaler\n",
        "scaler = MinMaxScaler(feature_range = (0, 1))\n",
        "\n",
        "stocks_training_scaled = scaler.fit_transform(stocks_processed)"
      ],
      "execution_count": 0,
      "outputs": []
    },
    {
      "cell_type": "code",
      "metadata": {
        "id": "3_H85VoGZphC",
        "colab_type": "code",
        "colab": {}
      },
      "source": [
        "# based on 60 days past history\n",
        "days = 60\n",
        "features_set = []\n",
        "labels = []\n",
        "for i in range(days, len(stocks_processed)):\n",
        "    features_set.append(stocks_training_scaled[i-days:i, 0]) # create 60days of training data into a single cell\n",
        "    labels.append(stocks_training_scaled[i, 0]) # 61st day stock value into a list"
      ],
      "execution_count": 0,
      "outputs": []
    },
    {
      "cell_type": "code",
      "metadata": {
        "id": "cTKvDT47yplz",
        "colab_type": "code",
        "outputId": "995c2ead-c024-4e61-99b0-1932ce01cd24",
        "colab": {
          "base_uri": "https://localhost:8080/",
          "height": 54
        }
      },
      "source": [
        "print('length of training data = ',len(stocks_processed),'Features =' ,len(features_set),',Labels =', len(labels))"
      ],
      "execution_count": 0,
      "outputs": [
        {
          "output_type": "stream",
          "text": [
            "length of training data =  1505 Features = 1445 ,Labels = 1445\n"
          ],
          "name": "stdout"
        }
      ]
    },
    {
      "cell_type": "code",
      "metadata": {
        "id": "O8CQ8JXXjaYi",
        "colab_type": "code",
        "colab": {}
      },
      "source": [
        "# transforming the data into arrays\n",
        "features_set, labels = np.array(features_set), np.array(labels)"
      ],
      "execution_count": 0,
      "outputs": []
    },
    {
      "cell_type": "code",
      "metadata": {
        "id": "F6zJ4iOyjwF7",
        "colab_type": "code",
        "colab": {}
      },
      "source": [
        "# creating a 3 dimensional array for LSTM\n",
        "features_set = np.reshape(features_set, (features_set.shape[0], features_set.shape[1], 1))\n"
      ],
      "execution_count": 0,
      "outputs": []
    },
    {
      "cell_type": "code",
      "metadata": {
        "id": "sUbZTjGBkViH",
        "colab_type": "code",
        "outputId": "cbea5f38-7431-49e6-981d-6065811d028c",
        "colab": {
          "base_uri": "https://localhost:8080/",
          "height": 104
        }
      },
      "source": [
        "# prepaing Keras\n",
        "from keras.models import Sequential\n",
        "from keras.layers import Dense\n",
        "from keras.layers import LSTM\n",
        "from keras.layers import Dropout\n",
        "import tensorflow as tf\n",
        "print(tf.__version__)\n",
        "model = Sequential()"
      ],
      "execution_count": 0,
      "outputs": [
        {
          "output_type": "stream",
          "text": [
            "1.15.0\n",
            "WARNING:tensorflow:From /usr/local/lib/python3.6/dist-packages/keras/backend/tensorflow_backend.py:66: The name tf.get_default_graph is deprecated. Please use tf.compat.v1.get_default_graph instead.\n",
            "\n"
          ],
          "name": "stdout"
        },
        {
          "output_type": "stream",
          "text": [
            "Using TensorFlow backend.\n"
          ],
          "name": "stderr"
        }
      ]
    },
    {
      "cell_type": "code",
      "metadata": {
        "id": "VbmEUDsFkZ4W",
        "colab_type": "code",
        "outputId": "0479e132-77e1-46c4-bb1d-c65eeaddf50e",
        "colab": {
          "base_uri": "https://localhost:8080/",
          "height": 104
        }
      },
      "source": [
        "# Building the LSTM model\n",
        "model.add(LSTM(units=60, return_sequences=True, input_shape=(features_set.shape[1], 1)))\n"
      ],
      "execution_count": 0,
      "outputs": [
        {
          "output_type": "stream",
          "text": [
            "WARNING:tensorflow:From /usr/local/lib/python3.6/dist-packages/keras/backend/tensorflow_backend.py:541: The name tf.placeholder is deprecated. Please use tf.compat.v1.placeholder instead.\n",
            "\n",
            "WARNING:tensorflow:From /usr/local/lib/python3.6/dist-packages/keras/backend/tensorflow_backend.py:4432: The name tf.random_uniform is deprecated. Please use tf.random.uniform instead.\n",
            "\n"
          ],
          "name": "stdout"
        }
      ]
    },
    {
      "cell_type": "code",
      "metadata": {
        "id": "zeCXJ2GTk2R0",
        "colab_type": "code",
        "outputId": "1e45a3e0-13e0-4ac1-ccb7-08ebec064ae4",
        "colab": {
          "base_uri": "https://localhost:8080/",
          "height": 120
        }
      },
      "source": [
        "model.add(Dropout(0.2))\n"
      ],
      "execution_count": 0,
      "outputs": [
        {
          "output_type": "stream",
          "text": [
            "WARNING:tensorflow:From /usr/local/lib/python3.6/dist-packages/keras/backend/tensorflow_backend.py:148: The name tf.placeholder_with_default is deprecated. Please use tf.compat.v1.placeholder_with_default instead.\n",
            "\n",
            "WARNING:tensorflow:From /usr/local/lib/python3.6/dist-packages/keras/backend/tensorflow_backend.py:3733: calling dropout (from tensorflow.python.ops.nn_ops) with keep_prob is deprecated and will be removed in a future version.\n",
            "Instructions for updating:\n",
            "Please use `rate` instead of `keep_prob`. Rate should be set to `rate = 1 - keep_prob`.\n"
          ],
          "name": "stdout"
        }
      ]
    },
    {
      "cell_type": "code",
      "metadata": {
        "id": "ojGC5hkck3t8",
        "colab_type": "code",
        "colab": {}
      },
      "source": [
        "model.add(LSTM(units=60, return_sequences=True))\n",
        "model.add(Dropout(0.2))\n",
        "\n",
        "model.add(LSTM(units=60, return_sequences=True))\n",
        "model.add(Dropout(0.2))\n",
        "\n",
        "model.add(LSTM(units = 60, return_sequences=True))\n",
        "model.add(Dropout(0.2))\n",
        "\n",
        "model.add(LSTM(units=60))\n",
        "model.add(Dropout(0.2))"
      ],
      "execution_count": 0,
      "outputs": []
    },
    {
      "cell_type": "code",
      "metadata": {
        "id": "NKtaYGgVk-7_",
        "colab_type": "code",
        "colab": {}
      },
      "source": [
        "model.add(Dense(units = 1))"
      ],
      "execution_count": 0,
      "outputs": []
    },
    {
      "cell_type": "code",
      "metadata": {
        "id": "ca1Em9uhlBWR",
        "colab_type": "code",
        "outputId": "7a47afc3-4f69-4765-96cc-7c0a7d5937d2",
        "colab": {
          "base_uri": "https://localhost:8080/",
          "height": 71
        }
      },
      "source": [
        "model.compile(optimizer = 'adam', loss = 'mean_squared_error')\n"
      ],
      "execution_count": 0,
      "outputs": [
        {
          "output_type": "stream",
          "text": [
            "WARNING:tensorflow:From /usr/local/lib/python3.6/dist-packages/keras/optimizers.py:793: The name tf.train.Optimizer is deprecated. Please use tf.compat.v1.train.Optimizer instead.\n",
            "\n"
          ],
          "name": "stdout"
        }
      ]
    },
    {
      "cell_type": "code",
      "metadata": {
        "id": "E5kclRrjlC0F",
        "colab_type": "code",
        "outputId": "ac58d261-ac13-4fba-c958-37c6851d6b7a",
        "colab": {
          "base_uri": "https://localhost:8080/",
          "height": 1000
        }
      },
      "source": [
        "model.fit(features_set, labels, epochs = 40, batch_size = 16, shuffle = True)\n"
      ],
      "execution_count": 0,
      "outputs": [
        {
          "output_type": "stream",
          "text": [
            "WARNING:tensorflow:From /usr/local/lib/python3.6/dist-packages/tensorflow_core/python/ops/math_grad.py:1424: where (from tensorflow.python.ops.array_ops) is deprecated and will be removed in a future version.\n",
            "Instructions for updating:\n",
            "Use tf.where in 2.0, which has the same broadcast rule as np.where\n",
            "WARNING:tensorflow:From /usr/local/lib/python3.6/dist-packages/keras/backend/tensorflow_backend.py:1033: The name tf.assign_add is deprecated. Please use tf.compat.v1.assign_add instead.\n",
            "\n",
            "WARNING:tensorflow:From /usr/local/lib/python3.6/dist-packages/keras/backend/tensorflow_backend.py:1020: The name tf.assign is deprecated. Please use tf.compat.v1.assign instead.\n",
            "\n",
            "WARNING:tensorflow:From /usr/local/lib/python3.6/dist-packages/keras/backend/tensorflow_backend.py:3005: The name tf.Session is deprecated. Please use tf.compat.v1.Session instead.\n",
            "\n",
            "Epoch 1/40\n",
            "WARNING:tensorflow:From /usr/local/lib/python3.6/dist-packages/keras/backend/tensorflow_backend.py:190: The name tf.get_default_session is deprecated. Please use tf.compat.v1.get_default_session instead.\n",
            "\n",
            "WARNING:tensorflow:From /usr/local/lib/python3.6/dist-packages/keras/backend/tensorflow_backend.py:207: The name tf.global_variables is deprecated. Please use tf.compat.v1.global_variables instead.\n",
            "\n",
            "WARNING:tensorflow:From /usr/local/lib/python3.6/dist-packages/keras/backend/tensorflow_backend.py:216: The name tf.is_variable_initialized is deprecated. Please use tf.compat.v1.is_variable_initialized instead.\n",
            "\n",
            "WARNING:tensorflow:From /usr/local/lib/python3.6/dist-packages/keras/backend/tensorflow_backend.py:223: The name tf.variables_initializer is deprecated. Please use tf.compat.v1.variables_initializer instead.\n",
            "\n",
            "1445/1445 [==============================] - 59s 41ms/step - loss: 0.0247\n",
            "Epoch 2/40\n",
            "1445/1445 [==============================] - 49s 34ms/step - loss: 0.0113\n",
            "Epoch 3/40\n",
            "1445/1445 [==============================] - 49s 34ms/step - loss: 0.0078\n",
            "Epoch 4/40\n",
            "1445/1445 [==============================] - 49s 34ms/step - loss: 0.0069\n",
            "Epoch 5/40\n",
            "1445/1445 [==============================] - 49s 34ms/step - loss: 0.0064\n",
            "Epoch 6/40\n",
            "1445/1445 [==============================] - 49s 34ms/step - loss: 0.0057\n",
            "Epoch 7/40\n",
            "1445/1445 [==============================] - 48s 34ms/step - loss: 0.0052\n",
            "Epoch 8/40\n",
            "1445/1445 [==============================] - 49s 34ms/step - loss: 0.0050\n",
            "Epoch 9/40\n",
            "1445/1445 [==============================] - 49s 34ms/step - loss: 0.0045\n",
            "Epoch 10/40\n",
            "1445/1445 [==============================] - 49s 34ms/step - loss: 0.0043\n",
            "Epoch 11/40\n",
            "1445/1445 [==============================] - 49s 34ms/step - loss: 0.0041\n",
            "Epoch 12/40\n",
            "1445/1445 [==============================] - 49s 34ms/step - loss: 0.0041\n",
            "Epoch 13/40\n",
            "1445/1445 [==============================] - 49s 34ms/step - loss: 0.0036\n",
            "Epoch 14/40\n",
            "1445/1445 [==============================] - 49s 34ms/step - loss: 0.0035\n",
            "Epoch 15/40\n",
            "1445/1445 [==============================] - 49s 34ms/step - loss: 0.0032\n",
            "Epoch 16/40\n",
            "1445/1445 [==============================] - 49s 34ms/step - loss: 0.0029\n",
            "Epoch 17/40\n",
            "1445/1445 [==============================] - 49s 34ms/step - loss: 0.0029\n",
            "Epoch 18/40\n",
            "1445/1445 [==============================] - 49s 34ms/step - loss: 0.0028\n",
            "Epoch 19/40\n",
            "1445/1445 [==============================] - 49s 34ms/step - loss: 0.0025\n",
            "Epoch 20/40\n",
            "1445/1445 [==============================] - 49s 34ms/step - loss: 0.0028\n",
            "Epoch 21/40\n",
            "1445/1445 [==============================] - 49s 34ms/step - loss: 0.0024\n",
            "Epoch 22/40\n",
            "1445/1445 [==============================] - 49s 34ms/step - loss: 0.0024\n",
            "Epoch 23/40\n",
            "1445/1445 [==============================] - 49s 34ms/step - loss: 0.0022\n",
            "Epoch 24/40\n",
            "1445/1445 [==============================] - 49s 34ms/step - loss: 0.0024\n",
            "Epoch 25/40\n",
            "1445/1445 [==============================] - 49s 34ms/step - loss: 0.0022\n",
            "Epoch 26/40\n",
            "1445/1445 [==============================] - 49s 34ms/step - loss: 0.0020\n",
            "Epoch 27/40\n",
            "1445/1445 [==============================] - 49s 34ms/step - loss: 0.0025\n",
            "Epoch 28/40\n",
            "1445/1445 [==============================] - 49s 34ms/step - loss: 0.0021\n",
            "Epoch 29/40\n",
            "1445/1445 [==============================] - 49s 34ms/step - loss: 0.0021\n",
            "Epoch 30/40\n",
            "1445/1445 [==============================] - 49s 34ms/step - loss: 0.0020\n",
            "Epoch 31/40\n",
            "1445/1445 [==============================] - 49s 34ms/step - loss: 0.0023\n",
            "Epoch 32/40\n",
            "1445/1445 [==============================] - 49s 34ms/step - loss: 0.0021\n",
            "Epoch 33/40\n",
            "1445/1445 [==============================] - 49s 34ms/step - loss: 0.0020\n",
            "Epoch 34/40\n",
            "1445/1445 [==============================] - 49s 34ms/step - loss: 0.0020\n",
            "Epoch 35/40\n",
            "1445/1445 [==============================] - 49s 34ms/step - loss: 0.0020\n",
            "Epoch 36/40\n",
            "1445/1445 [==============================] - 49s 34ms/step - loss: 0.0019\n",
            "Epoch 37/40\n",
            "1445/1445 [==============================] - 49s 34ms/step - loss: 0.0018\n",
            "Epoch 38/40\n",
            "1445/1445 [==============================] - 49s 34ms/step - loss: 0.0018\n",
            "Epoch 39/40\n",
            "1445/1445 [==============================] - 49s 34ms/step - loss: 0.0018\n",
            "Epoch 40/40\n",
            "1445/1445 [==============================] - 49s 34ms/step - loss: 0.0022\n"
          ],
          "name": "stdout"
        },
        {
          "output_type": "execute_result",
          "data": {
            "text/plain": [
              "<keras.callbacks.History at 0x7f2ba01e6fd0>"
            ]
          },
          "metadata": {
            "tags": []
          },
          "execution_count": 20
        }
      ]
    },
    {
      "cell_type": "code",
      "metadata": {
        "id": "d578gMZZnjjC",
        "colab_type": "code",
        "colab": {}
      },
      "source": [
        "model.save('model_stocks.h5') # saving the model"
      ],
      "execution_count": 0,
      "outputs": []
    },
    {
      "cell_type": "code",
      "metadata": {
        "id": "xsfiiXj4nzsD",
        "colab_type": "code",
        "outputId": "da2f7318-82c6-4c11-de75-8153981845db",
        "colab": {
          "base_uri": "https://localhost:8080/",
          "height": 633
        }
      },
      "source": [
        "# this is to load the model from Google\n",
        "from numpy import loadtxt\n",
        "from tensorflow.keras.models import load_model\n",
        "\n",
        "model = load_model('model_stocks.h5')\n",
        "model.summary()"
      ],
      "execution_count": 0,
      "outputs": [
        {
          "output_type": "stream",
          "text": [
            "WARNING:tensorflow:From /usr/local/lib/python3.6/dist-packages/tensorflow_core/python/ops/resource_variable_ops.py:1630: calling BaseResourceVariable.__init__ (from tensorflow.python.ops.resource_variable_ops) with constraint is deprecated and will be removed in a future version.\n",
            "Instructions for updating:\n",
            "If using Keras pass *_constraint arguments to layers.\n",
            "WARNING:tensorflow:From /usr/local/lib/python3.6/dist-packages/tensorflow_core/python/ops/math_grad.py:1424: where (from tensorflow.python.ops.array_ops) is deprecated and will be removed in a future version.\n",
            "Instructions for updating:\n",
            "Use tf.where in 2.0, which has the same broadcast rule as np.where\n",
            "Model: \"sequential_1\"\n",
            "_________________________________________________________________\n",
            "Layer (type)                 Output Shape              Param #   \n",
            "=================================================================\n",
            "lstm_1 (LSTM)                (None, 60, 60)            14880     \n",
            "_________________________________________________________________\n",
            "dropout_1 (Dropout)          (None, 60, 60)            0         \n",
            "_________________________________________________________________\n",
            "lstm_2 (LSTM)                (None, 60, 60)            29040     \n",
            "_________________________________________________________________\n",
            "dropout_2 (Dropout)          (None, 60, 60)            0         \n",
            "_________________________________________________________________\n",
            "lstm_3 (LSTM)                (None, 60, 60)            29040     \n",
            "_________________________________________________________________\n",
            "dropout_3 (Dropout)          (None, 60, 60)            0         \n",
            "_________________________________________________________________\n",
            "lstm_4 (LSTM)                (None, 60, 60)            29040     \n",
            "_________________________________________________________________\n",
            "dropout_4 (Dropout)          (None, 60, 60)            0         \n",
            "_________________________________________________________________\n",
            "lstm_5 (LSTM)                (None, 60)                29040     \n",
            "_________________________________________________________________\n",
            "dropout_5 (Dropout)          (None, 60)                0         \n",
            "_________________________________________________________________\n",
            "dense_1 (Dense)              (None, 1)                 61        \n",
            "=================================================================\n",
            "Total params: 131,101\n",
            "Trainable params: 131,101\n",
            "Non-trainable params: 0\n",
            "_________________________________________________________________\n"
          ],
          "name": "stdout"
        }
      ]
    },
    {
      "cell_type": "code",
      "metadata": {
        "id": "ORsV72cXv5fP",
        "colab_type": "code",
        "colab": {}
      },
      "source": [
        "# getting the validation data set\n",
        "stocks_test = spr.get_data_yahoo('S68.SI', start = datetime.datetime(2018,12,31), end = datetime.datetime(2019,2,1))"
      ],
      "execution_count": 0,
      "outputs": []
    },
    {
      "cell_type": "code",
      "metadata": {
        "id": "Lcoq28c8HSJV",
        "colab_type": "code",
        "outputId": "9a793021-f455-4e3b-a7cd-1ad4af1cf401",
        "colab": {
          "base_uri": "https://localhost:8080/",
          "height": 862
        }
      },
      "source": [
        "stocks_test"
      ],
      "execution_count": 0,
      "outputs": [
        {
          "output_type": "execute_result",
          "data": {
            "text/html": [
              "<div>\n",
              "<style scoped>\n",
              "    .dataframe tbody tr th:only-of-type {\n",
              "        vertical-align: middle;\n",
              "    }\n",
              "\n",
              "    .dataframe tbody tr th {\n",
              "        vertical-align: top;\n",
              "    }\n",
              "\n",
              "    .dataframe thead th {\n",
              "        text-align: right;\n",
              "    }\n",
              "</style>\n",
              "<table border=\"1\" class=\"dataframe\">\n",
              "  <thead>\n",
              "    <tr style=\"text-align: right;\">\n",
              "      <th></th>\n",
              "      <th>High</th>\n",
              "      <th>Low</th>\n",
              "      <th>Open</th>\n",
              "      <th>Close</th>\n",
              "      <th>Volume</th>\n",
              "      <th>Adj Close</th>\n",
              "    </tr>\n",
              "    <tr>\n",
              "      <th>Date</th>\n",
              "      <th></th>\n",
              "      <th></th>\n",
              "      <th></th>\n",
              "      <th></th>\n",
              "      <th></th>\n",
              "      <th></th>\n",
              "    </tr>\n",
              "  </thead>\n",
              "  <tbody>\n",
              "    <tr>\n",
              "      <th>2018-12-31</th>\n",
              "      <td>7.17</td>\n",
              "      <td>7.12</td>\n",
              "      <td>7.17</td>\n",
              "      <td>7.15</td>\n",
              "      <td>497600.0</td>\n",
              "      <td>6.887273</td>\n",
              "    </tr>\n",
              "    <tr>\n",
              "      <th>2019-01-01</th>\n",
              "      <td>7.15</td>\n",
              "      <td>7.15</td>\n",
              "      <td>7.15</td>\n",
              "      <td>7.15</td>\n",
              "      <td>0.0</td>\n",
              "      <td>6.887273</td>\n",
              "    </tr>\n",
              "    <tr>\n",
              "      <th>2019-01-02</th>\n",
              "      <td>7.23</td>\n",
              "      <td>7.13</td>\n",
              "      <td>7.20</td>\n",
              "      <td>7.17</td>\n",
              "      <td>2110800.0</td>\n",
              "      <td>6.906538</td>\n",
              "    </tr>\n",
              "    <tr>\n",
              "      <th>2019-01-03</th>\n",
              "      <td>7.19</td>\n",
              "      <td>7.13</td>\n",
              "      <td>7.16</td>\n",
              "      <td>7.15</td>\n",
              "      <td>1791300.0</td>\n",
              "      <td>6.887273</td>\n",
              "    </tr>\n",
              "    <tr>\n",
              "      <th>2019-01-04</th>\n",
              "      <td>7.21</td>\n",
              "      <td>7.12</td>\n",
              "      <td>7.15</td>\n",
              "      <td>7.19</td>\n",
              "      <td>1541500.0</td>\n",
              "      <td>6.925803</td>\n",
              "    </tr>\n",
              "    <tr>\n",
              "      <th>2019-01-07</th>\n",
              "      <td>7.27</td>\n",
              "      <td>7.21</td>\n",
              "      <td>7.25</td>\n",
              "      <td>7.26</td>\n",
              "      <td>1777000.0</td>\n",
              "      <td>6.993231</td>\n",
              "    </tr>\n",
              "    <tr>\n",
              "      <th>2019-01-08</th>\n",
              "      <td>7.28</td>\n",
              "      <td>7.25</td>\n",
              "      <td>7.28</td>\n",
              "      <td>7.27</td>\n",
              "      <td>1386700.0</td>\n",
              "      <td>7.002864</td>\n",
              "    </tr>\n",
              "    <tr>\n",
              "      <th>2019-01-09</th>\n",
              "      <td>7.33</td>\n",
              "      <td>7.28</td>\n",
              "      <td>7.29</td>\n",
              "      <td>7.33</td>\n",
              "      <td>2053400.0</td>\n",
              "      <td>7.060659</td>\n",
              "    </tr>\n",
              "    <tr>\n",
              "      <th>2019-01-10</th>\n",
              "      <td>7.35</td>\n",
              "      <td>7.29</td>\n",
              "      <td>7.34</td>\n",
              "      <td>7.33</td>\n",
              "      <td>1621800.0</td>\n",
              "      <td>7.060659</td>\n",
              "    </tr>\n",
              "    <tr>\n",
              "      <th>2019-01-11</th>\n",
              "      <td>7.35</td>\n",
              "      <td>7.26</td>\n",
              "      <td>7.35</td>\n",
              "      <td>7.29</td>\n",
              "      <td>1297900.0</td>\n",
              "      <td>7.022129</td>\n",
              "    </tr>\n",
              "    <tr>\n",
              "      <th>2019-01-14</th>\n",
              "      <td>7.33</td>\n",
              "      <td>7.25</td>\n",
              "      <td>7.32</td>\n",
              "      <td>7.26</td>\n",
              "      <td>1114600.0</td>\n",
              "      <td>6.993231</td>\n",
              "    </tr>\n",
              "    <tr>\n",
              "      <th>2019-01-15</th>\n",
              "      <td>7.32</td>\n",
              "      <td>7.27</td>\n",
              "      <td>7.27</td>\n",
              "      <td>7.30</td>\n",
              "      <td>1034900.0</td>\n",
              "      <td>7.031762</td>\n",
              "    </tr>\n",
              "    <tr>\n",
              "      <th>2019-01-16</th>\n",
              "      <td>7.42</td>\n",
              "      <td>7.29</td>\n",
              "      <td>7.32</td>\n",
              "      <td>7.42</td>\n",
              "      <td>3466200.0</td>\n",
              "      <td>7.147352</td>\n",
              "    </tr>\n",
              "    <tr>\n",
              "      <th>2019-01-17</th>\n",
              "      <td>7.45</td>\n",
              "      <td>7.36</td>\n",
              "      <td>7.42</td>\n",
              "      <td>7.45</td>\n",
              "      <td>4418900.0</td>\n",
              "      <td>7.176250</td>\n",
              "    </tr>\n",
              "    <tr>\n",
              "      <th>2019-01-18</th>\n",
              "      <td>7.46</td>\n",
              "      <td>7.41</td>\n",
              "      <td>7.46</td>\n",
              "      <td>7.42</td>\n",
              "      <td>1330500.0</td>\n",
              "      <td>7.147352</td>\n",
              "    </tr>\n",
              "    <tr>\n",
              "      <th>2019-01-21</th>\n",
              "      <td>7.48</td>\n",
              "      <td>7.39</td>\n",
              "      <td>7.44</td>\n",
              "      <td>7.44</td>\n",
              "      <td>2108400.0</td>\n",
              "      <td>7.166617</td>\n",
              "    </tr>\n",
              "    <tr>\n",
              "      <th>2019-01-22</th>\n",
              "      <td>7.47</td>\n",
              "      <td>7.40</td>\n",
              "      <td>7.45</td>\n",
              "      <td>7.43</td>\n",
              "      <td>1869200.0</td>\n",
              "      <td>7.156984</td>\n",
              "    </tr>\n",
              "    <tr>\n",
              "      <th>2019-01-23</th>\n",
              "      <td>7.46</td>\n",
              "      <td>7.39</td>\n",
              "      <td>7.42</td>\n",
              "      <td>7.41</td>\n",
              "      <td>2134800.0</td>\n",
              "      <td>7.137719</td>\n",
              "    </tr>\n",
              "    <tr>\n",
              "      <th>2019-01-24</th>\n",
              "      <td>7.54</td>\n",
              "      <td>7.44</td>\n",
              "      <td>7.50</td>\n",
              "      <td>7.50</td>\n",
              "      <td>3124300.0</td>\n",
              "      <td>7.224412</td>\n",
              "    </tr>\n",
              "    <tr>\n",
              "      <th>2019-01-25</th>\n",
              "      <td>7.58</td>\n",
              "      <td>7.51</td>\n",
              "      <td>7.52</td>\n",
              "      <td>7.57</td>\n",
              "      <td>3053000.0</td>\n",
              "      <td>7.291841</td>\n",
              "    </tr>\n",
              "    <tr>\n",
              "      <th>2019-01-28</th>\n",
              "      <td>7.61</td>\n",
              "      <td>7.57</td>\n",
              "      <td>7.58</td>\n",
              "      <td>7.60</td>\n",
              "      <td>1827000.0</td>\n",
              "      <td>7.320738</td>\n",
              "    </tr>\n",
              "    <tr>\n",
              "      <th>2019-01-29</th>\n",
              "      <td>7.62</td>\n",
              "      <td>7.54</td>\n",
              "      <td>7.60</td>\n",
              "      <td>7.62</td>\n",
              "      <td>2530500.0</td>\n",
              "      <td>7.340003</td>\n",
              "    </tr>\n",
              "    <tr>\n",
              "      <th>2019-01-30</th>\n",
              "      <td>7.65</td>\n",
              "      <td>7.61</td>\n",
              "      <td>7.64</td>\n",
              "      <td>7.65</td>\n",
              "      <td>2897400.0</td>\n",
              "      <td>7.368900</td>\n",
              "    </tr>\n",
              "    <tr>\n",
              "      <th>2019-01-31</th>\n",
              "      <td>7.64</td>\n",
              "      <td>7.55</td>\n",
              "      <td>7.61</td>\n",
              "      <td>7.64</td>\n",
              "      <td>4412800.0</td>\n",
              "      <td>7.432132</td>\n",
              "    </tr>\n",
              "    <tr>\n",
              "      <th>2019-02-01</th>\n",
              "      <td>7.63</td>\n",
              "      <td>7.53</td>\n",
              "      <td>7.61</td>\n",
              "      <td>7.59</td>\n",
              "      <td>2046700.0</td>\n",
              "      <td>7.383493</td>\n",
              "    </tr>\n",
              "  </tbody>\n",
              "</table>\n",
              "</div>"
            ],
            "text/plain": [
              "            High   Low  Open  Close     Volume  Adj Close\n",
              "Date                                                     \n",
              "2018-12-31  7.17  7.12  7.17   7.15   497600.0   6.887273\n",
              "2019-01-01  7.15  7.15  7.15   7.15        0.0   6.887273\n",
              "2019-01-02  7.23  7.13  7.20   7.17  2110800.0   6.906538\n",
              "2019-01-03  7.19  7.13  7.16   7.15  1791300.0   6.887273\n",
              "2019-01-04  7.21  7.12  7.15   7.19  1541500.0   6.925803\n",
              "2019-01-07  7.27  7.21  7.25   7.26  1777000.0   6.993231\n",
              "2019-01-08  7.28  7.25  7.28   7.27  1386700.0   7.002864\n",
              "2019-01-09  7.33  7.28  7.29   7.33  2053400.0   7.060659\n",
              "2019-01-10  7.35  7.29  7.34   7.33  1621800.0   7.060659\n",
              "2019-01-11  7.35  7.26  7.35   7.29  1297900.0   7.022129\n",
              "2019-01-14  7.33  7.25  7.32   7.26  1114600.0   6.993231\n",
              "2019-01-15  7.32  7.27  7.27   7.30  1034900.0   7.031762\n",
              "2019-01-16  7.42  7.29  7.32   7.42  3466200.0   7.147352\n",
              "2019-01-17  7.45  7.36  7.42   7.45  4418900.0   7.176250\n",
              "2019-01-18  7.46  7.41  7.46   7.42  1330500.0   7.147352\n",
              "2019-01-21  7.48  7.39  7.44   7.44  2108400.0   7.166617\n",
              "2019-01-22  7.47  7.40  7.45   7.43  1869200.0   7.156984\n",
              "2019-01-23  7.46  7.39  7.42   7.41  2134800.0   7.137719\n",
              "2019-01-24  7.54  7.44  7.50   7.50  3124300.0   7.224412\n",
              "2019-01-25  7.58  7.51  7.52   7.57  3053000.0   7.291841\n",
              "2019-01-28  7.61  7.57  7.58   7.60  1827000.0   7.320738\n",
              "2019-01-29  7.62  7.54  7.60   7.62  2530500.0   7.340003\n",
              "2019-01-30  7.65  7.61  7.64   7.65  2897400.0   7.368900\n",
              "2019-01-31  7.64  7.55  7.61   7.64  4412800.0   7.432132\n",
              "2019-02-01  7.63  7.53  7.61   7.59  2046700.0   7.383493"
            ]
          },
          "metadata": {
            "tags": []
          },
          "execution_count": 9
        }
      ]
    },
    {
      "cell_type": "code",
      "metadata": {
        "id": "nJoOGk-olqZB",
        "colab_type": "code",
        "outputId": "5f9de495-c3df-4f18-814e-58f53395b702",
        "colab": {
          "base_uri": "https://localhost:8080/",
          "height": 247
        }
      },
      "source": [
        "# retain the Open Column\n",
        "stocks_testing_processed = stocks_test.iloc[:, 0:1].values\n",
        "\n",
        "stocks_total = pd.concat((stocks['Open'], stocks_test['Open']), axis=0) # combine training and testing data\n",
        "# test inputs to starts from 60days of test data plus stock test data\n",
        "test_inputs = stocks_total[len(stocks_total) - len(stocks_test) - 60:].values \n",
        "\n",
        "test_inputs = test_inputs.reshape(-1,1)\n",
        "test_inputs = scaler.transform(test_inputs)"
      ],
      "execution_count": 0,
      "outputs": [
        {
          "output_type": "error",
          "ename": "NameError",
          "evalue": "ignored",
          "traceback": [
            "\u001b[0;31m---------------------------------------------------------------------------\u001b[0m",
            "\u001b[0;31mNameError\u001b[0m                                 Traceback (most recent call last)",
            "\u001b[0;32m<ipython-input-5-75c499a9e2ff>\u001b[0m in \u001b[0;36m<module>\u001b[0;34m()\u001b[0m\n\u001b[1;32m      1\u001b[0m \u001b[0mstocks_testing_processed\u001b[0m \u001b[0;34m=\u001b[0m \u001b[0mstocks_test\u001b[0m\u001b[0;34m.\u001b[0m\u001b[0miloc\u001b[0m\u001b[0;34m[\u001b[0m\u001b[0;34m:\u001b[0m\u001b[0;34m,\u001b[0m \u001b[0;36m0\u001b[0m\u001b[0;34m:\u001b[0m\u001b[0;36m1\u001b[0m\u001b[0;34m]\u001b[0m\u001b[0;34m.\u001b[0m\u001b[0mvalues\u001b[0m\u001b[0;34m\u001b[0m\u001b[0;34m\u001b[0m\u001b[0m\n\u001b[1;32m      2\u001b[0m \u001b[0;34m\u001b[0m\u001b[0m\n\u001b[0;32m----> 3\u001b[0;31m \u001b[0mstocks_total\u001b[0m \u001b[0;34m=\u001b[0m \u001b[0mpd\u001b[0m\u001b[0;34m.\u001b[0m\u001b[0mconcat\u001b[0m\u001b[0;34m(\u001b[0m\u001b[0;34m(\u001b[0m\u001b[0mstocks\u001b[0m\u001b[0;34m[\u001b[0m\u001b[0;34m'Open'\u001b[0m\u001b[0;34m]\u001b[0m\u001b[0;34m,\u001b[0m \u001b[0mstocks_test\u001b[0m\u001b[0;34m[\u001b[0m\u001b[0;34m'Open'\u001b[0m\u001b[0;34m]\u001b[0m\u001b[0;34m)\u001b[0m\u001b[0;34m,\u001b[0m \u001b[0maxis\u001b[0m\u001b[0;34m=\u001b[0m\u001b[0;36m0\u001b[0m\u001b[0;34m)\u001b[0m \u001b[0;31m# combine training and testing data\u001b[0m\u001b[0;34m\u001b[0m\u001b[0;34m\u001b[0m\u001b[0m\n\u001b[0m\u001b[1;32m      4\u001b[0m \u001b[0;31m# test inputs to starts from 60days of test data plus stock test data\u001b[0m\u001b[0;34m\u001b[0m\u001b[0;34m\u001b[0m\u001b[0;34m\u001b[0m\u001b[0m\n\u001b[1;32m      5\u001b[0m \u001b[0mtest_inputs\u001b[0m \u001b[0;34m=\u001b[0m \u001b[0mstocks_total\u001b[0m\u001b[0;34m[\u001b[0m\u001b[0mlen\u001b[0m\u001b[0;34m(\u001b[0m\u001b[0mstocks_total\u001b[0m\u001b[0;34m)\u001b[0m \u001b[0;34m-\u001b[0m \u001b[0mlen\u001b[0m\u001b[0;34m(\u001b[0m\u001b[0mstocks_test\u001b[0m\u001b[0;34m)\u001b[0m \u001b[0;34m-\u001b[0m \u001b[0;36m60\u001b[0m\u001b[0;34m:\u001b[0m\u001b[0;34m]\u001b[0m\u001b[0;34m.\u001b[0m\u001b[0mvalues\u001b[0m\u001b[0;34m\u001b[0m\u001b[0;34m\u001b[0m\u001b[0m\n",
            "\u001b[0;31mNameError\u001b[0m: name 'stocks' is not defined"
          ]
        }
      ]
    },
    {
      "cell_type": "code",
      "metadata": {
        "id": "jSl16GiAyeOg",
        "colab_type": "code",
        "outputId": "19bfb398-8261-4ac4-c656-f01de87d3d9d",
        "colab": {
          "base_uri": "https://localhost:8080/",
          "height": 54
        }
      },
      "source": [
        "len(test_inputs)"
      ],
      "execution_count": 0,
      "outputs": [
        {
          "output_type": "execute_result",
          "data": {
            "text/plain": [
              "85"
            ]
          },
          "metadata": {
            "tags": []
          },
          "execution_count": 200
        }
      ]
    },
    {
      "cell_type": "code",
      "metadata": {
        "id": "FvywzP_KOnbA",
        "colab_type": "code",
        "outputId": "56d3c958-4cdd-4c31-adfa-0fd6a375bd9a",
        "colab": {
          "base_uri": "https://localhost:8080/",
          "height": 252
        }
      },
      "source": [
        "stocks_test.head()"
      ],
      "execution_count": 0,
      "outputs": [
        {
          "output_type": "execute_result",
          "data": {
            "text/html": [
              "<div>\n",
              "<style scoped>\n",
              "    .dataframe tbody tr th:only-of-type {\n",
              "        vertical-align: middle;\n",
              "    }\n",
              "\n",
              "    .dataframe tbody tr th {\n",
              "        vertical-align: top;\n",
              "    }\n",
              "\n",
              "    .dataframe thead th {\n",
              "        text-align: right;\n",
              "    }\n",
              "</style>\n",
              "<table border=\"1\" class=\"dataframe\">\n",
              "  <thead>\n",
              "    <tr style=\"text-align: right;\">\n",
              "      <th></th>\n",
              "      <th>High</th>\n",
              "      <th>Low</th>\n",
              "      <th>Open</th>\n",
              "      <th>Close</th>\n",
              "      <th>Volume</th>\n",
              "      <th>Adj Close</th>\n",
              "    </tr>\n",
              "    <tr>\n",
              "      <th>Date</th>\n",
              "      <th></th>\n",
              "      <th></th>\n",
              "      <th></th>\n",
              "      <th></th>\n",
              "      <th></th>\n",
              "      <th></th>\n",
              "    </tr>\n",
              "  </thead>\n",
              "  <tbody>\n",
              "    <tr>\n",
              "      <th>2018-12-31</th>\n",
              "      <td>7.17</td>\n",
              "      <td>7.12</td>\n",
              "      <td>7.17</td>\n",
              "      <td>7.15</td>\n",
              "      <td>497600.0</td>\n",
              "      <td>6.887273</td>\n",
              "    </tr>\n",
              "    <tr>\n",
              "      <th>2019-01-01</th>\n",
              "      <td>7.15</td>\n",
              "      <td>7.15</td>\n",
              "      <td>7.15</td>\n",
              "      <td>7.15</td>\n",
              "      <td>0.0</td>\n",
              "      <td>6.887273</td>\n",
              "    </tr>\n",
              "    <tr>\n",
              "      <th>2019-01-02</th>\n",
              "      <td>7.23</td>\n",
              "      <td>7.13</td>\n",
              "      <td>7.20</td>\n",
              "      <td>7.17</td>\n",
              "      <td>2110800.0</td>\n",
              "      <td>6.906538</td>\n",
              "    </tr>\n",
              "    <tr>\n",
              "      <th>2019-01-03</th>\n",
              "      <td>7.19</td>\n",
              "      <td>7.13</td>\n",
              "      <td>7.16</td>\n",
              "      <td>7.15</td>\n",
              "      <td>1791300.0</td>\n",
              "      <td>6.887273</td>\n",
              "    </tr>\n",
              "    <tr>\n",
              "      <th>2019-01-04</th>\n",
              "      <td>7.21</td>\n",
              "      <td>7.12</td>\n",
              "      <td>7.15</td>\n",
              "      <td>7.19</td>\n",
              "      <td>1541500.0</td>\n",
              "      <td>6.925803</td>\n",
              "    </tr>\n",
              "  </tbody>\n",
              "</table>\n",
              "</div>"
            ],
            "text/plain": [
              "            High   Low  Open  Close     Volume  Adj Close\n",
              "Date                                                     \n",
              "2018-12-31  7.17  7.12  7.17   7.15   497600.0   6.887273\n",
              "2019-01-01  7.15  7.15  7.15   7.15        0.0   6.887273\n",
              "2019-01-02  7.23  7.13  7.20   7.17  2110800.0   6.906538\n",
              "2019-01-03  7.19  7.13  7.16   7.15  1791300.0   6.887273\n",
              "2019-01-04  7.21  7.12  7.15   7.19  1541500.0   6.925803"
            ]
          },
          "metadata": {
            "tags": []
          },
          "execution_count": 201
        }
      ]
    },
    {
      "cell_type": "code",
      "metadata": {
        "id": "vRo8W4Ax4J_F",
        "colab_type": "code",
        "outputId": "84322074-673b-4904-f445-ab965dd71c6a",
        "colab": {
          "base_uri": "https://localhost:8080/",
          "height": 54
        }
      },
      "source": [
        "len(stocks_total)"
      ],
      "execution_count": 0,
      "outputs": [
        {
          "output_type": "execute_result",
          "data": {
            "text/plain": [
              "1530"
            ]
          },
          "metadata": {
            "tags": []
          },
          "execution_count": 165
        }
      ]
    },
    {
      "cell_type": "code",
      "metadata": {
        "id": "RKJgQHOfxWV6",
        "colab_type": "code",
        "outputId": "d53bb5a8-7687-4c84-8823-501fb97d26ec",
        "colab": {
          "base_uri": "https://localhost:8080/",
          "height": 214
        }
      },
      "source": [
        "# creating the validation data array\n",
        "test_features = []\n",
        "for i in range(60, len(test_inputs)):\n",
        "    test_features.append(test_inputs[i-60:i, 0])"
      ],
      "execution_count": 0,
      "outputs": [
        {
          "output_type": "error",
          "ename": "NameError",
          "evalue": "ignored",
          "traceback": [
            "\u001b[0;31m---------------------------------------------------------------------------\u001b[0m",
            "\u001b[0;31mNameError\u001b[0m                                 Traceback (most recent call last)",
            "\u001b[0;32m<ipython-input-10-455657ee5ac6>\u001b[0m in \u001b[0;36m<module>\u001b[0;34m()\u001b[0m\n\u001b[1;32m      1\u001b[0m \u001b[0mtest_features\u001b[0m \u001b[0;34m=\u001b[0m \u001b[0;34m[\u001b[0m\u001b[0;34m]\u001b[0m\u001b[0;34m\u001b[0m\u001b[0;34m\u001b[0m\u001b[0m\n\u001b[0;32m----> 2\u001b[0;31m \u001b[0;32mfor\u001b[0m \u001b[0mi\u001b[0m \u001b[0;32min\u001b[0m \u001b[0mrange\u001b[0m\u001b[0;34m(\u001b[0m\u001b[0;36m60\u001b[0m\u001b[0;34m,\u001b[0m \u001b[0mlen\u001b[0m\u001b[0;34m(\u001b[0m\u001b[0mtest_inputs\u001b[0m\u001b[0;34m)\u001b[0m\u001b[0;34m)\u001b[0m\u001b[0;34m:\u001b[0m\u001b[0;34m\u001b[0m\u001b[0;34m\u001b[0m\u001b[0m\n\u001b[0m\u001b[1;32m      3\u001b[0m     \u001b[0mtest_features\u001b[0m\u001b[0;34m.\u001b[0m\u001b[0mappend\u001b[0m\u001b[0;34m(\u001b[0m\u001b[0mtest_inputs\u001b[0m\u001b[0;34m[\u001b[0m\u001b[0mi\u001b[0m\u001b[0;34m-\u001b[0m\u001b[0;36m60\u001b[0m\u001b[0;34m:\u001b[0m\u001b[0mi\u001b[0m\u001b[0;34m,\u001b[0m \u001b[0;36m0\u001b[0m\u001b[0;34m]\u001b[0m\u001b[0;34m)\u001b[0m\u001b[0;34m\u001b[0m\u001b[0;34m\u001b[0m\u001b[0m\n",
            "\u001b[0;31mNameError\u001b[0m: name 'test_inputs' is not defined"
          ]
        }
      ]
    },
    {
      "cell_type": "code",
      "metadata": {
        "id": "CEXSBV1xsFTJ",
        "colab_type": "code",
        "outputId": "8d8f773b-1bf4-4c34-f368-6dbc9e7f48a0",
        "colab": {
          "base_uri": "https://localhost:8080/",
          "height": 236
        }
      },
      "source": [
        "test_features[0]"
      ],
      "execution_count": 0,
      "outputs": [
        {
          "output_type": "execute_result",
          "data": {
            "text/plain": [
              "array([0.26315797, 0.244019  , 0.17703343, 0.11483242, 0.07655495,\n",
              "       0.09569368, 0.06698558, 0.08612431, 0.07655495, 0.10526305,\n",
              "       0.11961722, 0.16267949, 0.15311012, 0.07177038, 0.11483242,\n",
              "       0.11483242, 0.06220101, 0.0334929 , 0.09090911, 0.15789469,\n",
              "       0.21052633, 0.19138759, 0.25837317, 0.23444963, 0.21052633,\n",
              "       0.20095696, 0.2488038 , 0.244019  , 0.22488027, 0.26794254,\n",
              "       0.2200957 , 0.17703343, 0.2200957 , 0.20095696, 0.23444963,\n",
              "       0.2488038 , 0.26315797, 0.27272733, 0.29186607, 0.31578938,\n",
              "       0.32535875, 0.23444963, 0.26794254, 0.27272733, 0.18660279,\n",
              "       0.15789469, 0.19617216, 0.22966506, 0.20574153, 0.23444963,\n",
              "       0.23923443, 0.19617216, 0.17703343, 0.17224886, 0.18660279,\n",
              "       0.13875595, 0.20095696, 0.19138759, 0.2200957 , 0.21052633])"
            ]
          },
          "metadata": {
            "tags": []
          },
          "execution_count": 203
        }
      ]
    },
    {
      "cell_type": "code",
      "metadata": {
        "id": "vwQ82ILVxZn5",
        "colab_type": "code",
        "colab": {}
      },
      "source": [
        "test_features = np.array(test_features)\n",
        "test_features = np.reshape(test_features, (test_features.shape[0], test_features.shape[1], 1))"
      ],
      "execution_count": 0,
      "outputs": []
    },
    {
      "cell_type": "code",
      "metadata": {
        "id": "5agSNWm6xeDx",
        "colab_type": "code",
        "colab": {}
      },
      "source": [
        "predictions = model.predict(test_features)\n",
        "predictions = scaler.inverse_transform(predictions)"
      ],
      "execution_count": 0,
      "outputs": []
    },
    {
      "cell_type": "code",
      "metadata": {
        "id": "2vziKT72xhrM",
        "colab_type": "code",
        "outputId": "d5c30c72-1c93-43f3-c89e-f62cf0be4a6e",
        "colab": {
          "base_uri": "https://localhost:8080/",
          "height": 425
        }
      },
      "source": [
        "plt.figure(figsize=(10,6))\n",
        "plt.plot(stocks_testing_processed, color='blue', label='Actual sgxStock Price')\n",
        "plt.plot(predictions , color='red', label='Predicted sgx Stock Price')\n",
        "plt.title('sgx Stock Price Prediction')\n",
        "plt.xlabel('Date')\n",
        "plt.ylabel('sgx Stock Price')\n",
        "plt.legend()\n",
        "plt.show()"
      ],
      "execution_count": 0,
      "outputs": [
        {
          "output_type": "display_data",
          "data": {
            "image/png": "[encoded data removed]",
            "text/plain": [
              "<Figure size 720x432 with 1 Axes>"
            ]
          },
          "metadata": {
            "tags": []
          }
        }
      ]
    },
    {
      "cell_type": "code",
      "metadata": {
        "id": "WKoAVcSVHmiI",
        "colab_type": "code",
        "outputId": "2fabc4d0-0053-4cc5-fee7-e376e085bbb8",
        "colab": {
          "base_uri": "https://localhost:8080/",
          "height": 104
        }
      },
      "source": [
        "print(predictions[-1])\n",
        "print(stocks_test[-1:])"
      ],
      "execution_count": 0,
      "outputs": [
        {
          "output_type": "stream",
          "text": [
            "[7.5960054]\n",
            "            High   Low  Open  Close     Volume  Adj Close\n",
            "Date                                                     \n",
            "2019-02-01  7.63  7.53  7.61   7.59  2046700.0   7.383493\n"
          ],
          "name": "stdout"
        }
      ]
    },
    {
      "cell_type": "code",
      "metadata": {
        "id": "30SS-vqEld5w",
        "colab_type": "code",
        "outputId": "4b15081e-576c-4da3-d018-ca27efd04fe9",
        "colab": {
          "base_uri": "https://localhost:8080/",
          "height": 247
        }
      },
      "source": [
        "test_data = spr.get_data_yahoo('S68.SI', start = datetime.datetime(2019,10,10), end = datetime.datetime(2020, 1, 8))\n",
        "test_data = test_data.dropna()\n",
        "test_data = test_data[-60:]\n",
        "test_data = test_data.iloc[:,0:1].values\n",
        "test = test_data.reshape(-1,1)\n",
        "test = scaler.transform(test)\n",
        "input_features = []\n",
        "input_features.append(test)\n",
        "test_data[-1:]"
      ],
      "execution_count": 0,
      "outputs": [
        {
          "output_type": "error",
          "ename": "NameError",
          "evalue": "ignored",
          "traceback": [
            "\u001b[0;31m---------------------------------------------------------------------------\u001b[0m",
            "\u001b[0;31mNameError\u001b[0m                                 Traceback (most recent call last)",
            "\u001b[0;32m<ipython-input-11-b1cd31e56127>\u001b[0m in \u001b[0;36m<module>\u001b[0;34m()\u001b[0m\n\u001b[1;32m      4\u001b[0m \u001b[0mtest_data\u001b[0m \u001b[0;34m=\u001b[0m \u001b[0mtest_data\u001b[0m\u001b[0;34m.\u001b[0m\u001b[0miloc\u001b[0m\u001b[0;34m[\u001b[0m\u001b[0;34m:\u001b[0m\u001b[0;34m,\u001b[0m\u001b[0;36m0\u001b[0m\u001b[0;34m:\u001b[0m\u001b[0;36m1\u001b[0m\u001b[0;34m]\u001b[0m\u001b[0;34m.\u001b[0m\u001b[0mvalues\u001b[0m\u001b[0;34m\u001b[0m\u001b[0;34m\u001b[0m\u001b[0m\n\u001b[1;32m      5\u001b[0m \u001b[0mtest\u001b[0m \u001b[0;34m=\u001b[0m \u001b[0mtest_data\u001b[0m\u001b[0;34m.\u001b[0m\u001b[0mreshape\u001b[0m\u001b[0;34m(\u001b[0m\u001b[0;34m-\u001b[0m\u001b[0;36m1\u001b[0m\u001b[0;34m,\u001b[0m\u001b[0;36m1\u001b[0m\u001b[0;34m)\u001b[0m\u001b[0;34m\u001b[0m\u001b[0;34m\u001b[0m\u001b[0m\n\u001b[0;32m----> 6\u001b[0;31m \u001b[0mtest\u001b[0m \u001b[0;34m=\u001b[0m \u001b[0mscaler\u001b[0m\u001b[0;34m.\u001b[0m\u001b[0mtransform\u001b[0m\u001b[0;34m(\u001b[0m\u001b[0mtest\u001b[0m\u001b[0;34m)\u001b[0m\u001b[0;34m\u001b[0m\u001b[0;34m\u001b[0m\u001b[0m\n\u001b[0m\u001b[1;32m      7\u001b[0m \u001b[0minput_features\u001b[0m \u001b[0;34m=\u001b[0m \u001b[0;34m[\u001b[0m\u001b[0;34m]\u001b[0m\u001b[0;34m\u001b[0m\u001b[0;34m\u001b[0m\u001b[0m\n\u001b[1;32m      8\u001b[0m \u001b[0minput_features\u001b[0m\u001b[0;34m.\u001b[0m\u001b[0mappend\u001b[0m\u001b[0;34m(\u001b[0m\u001b[0mtest\u001b[0m\u001b[0;34m)\u001b[0m\u001b[0;34m\u001b[0m\u001b[0;34m\u001b[0m\u001b[0m\n",
            "\u001b[0;31mNameError\u001b[0m: name 'scaler' is not defined"
          ]
        }
      ]
    },
    {
      "cell_type": "code",
      "metadata": {
        "id": "RR5veYYXnlUG",
        "colab_type": "code",
        "colab": {}
      },
      "source": [
        "input_pred = np.array(input_features)\n",
        "#input_features = np.shape(input_features.shape[0]\n",
        "predict_try = model.predict(input_pred)"
      ],
      "execution_count": 0,
      "outputs": []
    },
    {
      "cell_type": "code",
      "metadata": {
        "id": "Kpmw0WVEzAPK",
        "colab_type": "code",
        "colab": {}
      },
      "source": [
        "predict_try = scaler.inverse_transform(predict_try)\n"
      ],
      "execution_count": 0,
      "outputs": []
    },
    {
      "cell_type": "code",
      "metadata": {
        "id": "q7WcJRjY2SQ8",
        "colab_type": "code",
        "outputId": "0f09152a-884a-46b1-ecf3-f2a0c01bf718",
        "colab": {
          "base_uri": "https://localhost:8080/",
          "height": 302
        }
      },
      "source": [
        "plt.plot(test_data)\n",
        "plt.plot(predict_try,'o')\n",
        "plt.show"
      ],
      "execution_count": 0,
      "outputs": [
        {
          "output_type": "execute_result",
          "data": {
            "text/plain": [
              "<function matplotlib.pyplot.show>"
            ]
          },
          "metadata": {
            "tags": []
          },
          "execution_count": 32
        },
        {
          "output_type": "display_data",
          "data": {
            "image/png": "[encoded data removed]",
            "text/plain": [
              "<Figure size 432x288 with 1 Axes>"
            ]
          },
          "metadata": {
            "tags": []
          }
        }
      ]
    },
    {
      "cell_type": "code",
      "metadata": {
        "id": "l1TwIToAbUgP",
        "colab_type": "code",
        "outputId": "a81fd559-805b-4fae-ce65-b2dcd3e98d08",
        "colab": {
          "base_uri": "https://localhost:8080/",
          "height": 54
        }
      },
      "source": [
        "print('last day -' , test_data[-1], 'predict next day -', predict_try)"
      ],
      "execution_count": 0,
      "outputs": [
        {
          "output_type": "stream",
          "text": [
            "last day - [8.64999962] predict next day - [[8.543255]]\n"
          ],
          "name": "stdout"
        }
      ]
    },
    {
      "cell_type": "code",
      "metadata": {
        "id": "a2xstwOvDyCR",
        "colab_type": "code",
        "outputId": "7e6c2a02-642b-4879-fe47-94d30566b59f",
        "colab": {
          "base_uri": "https://localhost:8080/",
          "height": 1000
        }
      },
      "source": [
        "input_pred"
      ],
      "execution_count": 0,
      "outputs": [
        {
          "output_type": "execute_result",
          "data": {
            "text/plain": [
              "array([[[0.80861218],\n",
              "        [0.80861218],\n",
              "        [0.79904304],\n",
              "        [0.79425824],\n",
              "        [0.75119597],\n",
              "        [0.75119597],\n",
              "        [0.73684203],\n",
              "        [0.77033471],\n",
              "        [0.76555037],\n",
              "        [0.75598077],\n",
              "        [1.07177015],\n",
              "        [1.16746383],\n",
              "        [1.13397115],\n",
              "        [1.13397115],\n",
              "        [1.10526328],\n",
              "        [1.10047848],\n",
              "        [1.09569368],\n",
              "        [1.11004762],\n",
              "        [1.14354075],\n",
              "        [1.17224863],\n",
              "        [1.09569368],\n",
              "        [1.08612409],\n",
              "        [1.04784661],\n",
              "        [1.05741621],\n",
              "        [1.07177015],\n",
              "        [1.05263141],\n",
              "        [1.02870788],\n",
              "        [1.09090888],\n",
              "        [1.13397115],\n",
              "        [1.10526328],\n",
              "        [1.02870788],\n",
              "        [1.04306227],\n",
              "        [1.06220101],\n",
              "        [1.09569368],\n",
              "        [1.07177015],\n",
              "        [1.06220101],\n",
              "        [1.06698535],\n",
              "        [1.09569368],\n",
              "        [1.11961722],\n",
              "        [1.10047848],\n",
              "        [1.11004762],\n",
              "        [1.2057413 ],\n",
              "        [1.16746383],\n",
              "        [1.12440201],\n",
              "        [1.11483242],\n",
              "        [1.11004762],\n",
              "        [1.13397115],\n",
              "        [1.12440201],\n",
              "        [1.11961722],\n",
              "        [1.11483242],\n",
              "        [1.09090888],\n",
              "        [1.11961722],\n",
              "        [1.11961722],\n",
              "        [1.09569368],\n",
              "        [1.07177015],\n",
              "        [1.07177015],\n",
              "        [1.05263141],\n",
              "        [0.94736813],\n",
              "        [0.97607647],\n",
              "        [0.9282294 ]]])"
            ]
          },
          "metadata": {
            "tags": []
          },
          "execution_count": 34
        }
      ]
    },
    {
      "cell_type": "code",
      "metadata": {
        "id": "0mFhaaQ15tqC",
        "colab_type": "code",
        "outputId": "609251b5-9572-468f-ce03-bbaa1c0373a9",
        "colab": {
          "base_uri": "https://localhost:8080/",
          "height": 104
        }
      },
      "source": [
        "df = spr.get_data_yahoo('S68.SI', start = datetime.datetime(2010,1,1), end = datetime.datetime(2020,1, 7))\n",
        "df = df.dropna()\n",
        "# First calculate the mid prices from the highest and lowest\n",
        "high_prices = df.loc[:,'High'].as_matrix()\n",
        "low_prices = df.loc[:,'Low'].as_matrix()\n",
        "mid_prices = (high_prices+low_prices)/2.0\n"
      ],
      "execution_count": 0,
      "outputs": [
        {
          "output_type": "stream",
          "text": [
            "/usr/local/lib/python3.6/dist-packages/ipykernel_launcher.py:4: FutureWarning: Method .as_matrix will be removed in a future version. Use .values instead.\n",
            "  after removing the cwd from sys.path.\n",
            "/usr/local/lib/python3.6/dist-packages/ipykernel_launcher.py:5: FutureWarning: Method .as_matrix will be removed in a future version. Use .values instead.\n",
            "  \"\"\"\n"
          ],
          "name": "stderr"
        }
      ]
    },
    {
      "cell_type": "code",
      "metadata": {
        "id": "Saan_H3Y6Rj3",
        "colab_type": "code",
        "outputId": "5f819f73-6d4e-4e7e-d13b-a3a3e46281b1",
        "colab": {
          "base_uri": "https://localhost:8080/",
          "height": 54
        }
      },
      "source": [
        "train_data = mid_prices[:2100]\n",
        "test_data = mid_prices[2100:]\n",
        "print(len(train_data), len(test_data))\n",
        "df = df.reset_index()"
      ],
      "execution_count": 0,
      "outputs": [
        {
          "output_type": "stream",
          "text": [
            "2100 409\n"
          ],
          "name": "stdout"
        }
      ]
    },
    {
      "cell_type": "code",
      "metadata": {
        "id": "0RvLV9sv6qR6",
        "colab_type": "code",
        "colab": {}
      },
      "source": [
        "# Scale the data to be between 0 and 1\n",
        "# When scaling remember! You normalize both test and train data with respect to training data\n",
        "# Because you are not supposed to have access to test data\n",
        "scaler = MinMaxScaler()\n",
        "train_data = train_data.reshape(-1,1)\n",
        "test_data = test_data.reshape(-1,1)"
      ],
      "execution_count": 0,
      "outputs": []
    },
    {
      "cell_type": "code",
      "metadata": {
        "id": "QQ9yaKRP626x",
        "colab_type": "code",
        "colab": {}
      },
      "source": [
        "# Train the Scaler with training data and smooth data, window size should be around 4 times of train data\n",
        "smoothing_window_size = 400\n",
        "for di in range(0,2000,smoothing_window_size):\n",
        "    scaler.fit(train_data[di:di+smoothing_window_size,:])\n",
        "    train_data[di:di+smoothing_window_size,:] = scaler.transform(train_data[di:di+smoothing_window_size,:])\n",
        "\n",
        "# You normalize the last bit of remaining data\n",
        "scaler.fit(train_data[di+smoothing_window_size:,:])\n",
        "train_data[di+smoothing_window_size:,:] = scaler.transform(train_data[di+smoothing_window_size:,:])"
      ],
      "execution_count": 0,
      "outputs": []
    },
    {
      "cell_type": "code",
      "metadata": {
        "id": "uITy-XnYAyM_",
        "colab_type": "code",
        "colab": {}
      },
      "source": [
        "# Reshape both train and test data\n",
        "train_data = train_data.reshape(-1)\n",
        "\n",
        "# Normalize test data\n",
        "test_data = scaler.transform(test_data).reshape(-1)"
      ],
      "execution_count": 0,
      "outputs": []
    },
    {
      "cell_type": "code",
      "metadata": {
        "id": "YOvu0TxbA2eT",
        "colab_type": "code",
        "colab": {}
      },
      "source": [
        "# Now perform exponential moving average smoothing\n",
        "# So the data will have a smoother curve than the original ragged data\n",
        "EMA = 0.0\n",
        "gamma = 0.1\n",
        "for ti in range(2100):\n",
        "  EMA = gamma*train_data[ti] + (1-gamma)*EMA\n",
        "  train_data[ti] = EMA\n",
        "\n",
        "# Used for visualization and test purposes\n",
        "all_mid_data = np.concatenate([train_data,test_data],axis=0)"
      ],
      "execution_count": 0,
      "outputs": []
    },
    {
      "cell_type": "code",
      "metadata": {
        "id": "pTDyC-0IBAEE",
        "colab_type": "code",
        "outputId": "104bc1d4-8637-4376-d802-9c7a06fe9ec2",
        "colab": {
          "base_uri": "https://localhost:8080/",
          "height": 54
        }
      },
      "source": [
        "window_size = 10\n",
        "N = train_data.size\n",
        "std_avg_predictions = []\n",
        "std_avg_x = []\n",
        "mse_errors = []\n",
        "\n",
        "for pred_idx in range(window_size,N):\n",
        "\n",
        "    if pred_idx >= N:\n",
        "        date = dt.datetime.strptime(k, '%Y-%m-%d').date() + dt.timedelta(days=1)\n",
        "    else:\n",
        "        date = df.loc[pred_idx,'Date']\n",
        "\n",
        "    std_avg_predictions.append(np.mean(train_data[pred_idx-window_size:pred_idx]))\n",
        "    mse_errors.append((std_avg_predictions[-1]-train_data[pred_idx])**2)\n",
        "    std_avg_x.append(date)\n",
        "\n",
        "print('MSE error for standard averaging: %.5f'%(0.5*np.mean(mse_errors)))"
      ],
      "execution_count": 0,
      "outputs": [
        {
          "output_type": "stream",
          "text": [
            "MSE error for standard averaging: 0.00182\n"
          ],
          "name": "stdout"
        }
      ]
    },
    {
      "cell_type": "code",
      "metadata": {
        "id": "i3s-DBDHFXuy",
        "colab_type": "code",
        "outputId": "7114df48-b6f8-49ed-e916-19473bcfb759",
        "colab": {
          "base_uri": "https://localhost:8080/",
          "height": 572
        }
      },
      "source": [
        "plt.figure(figsize = (18,9))\n",
        "plt.plot(range(df.shape[0]),all_mid_data,color='b',label='True')\n",
        "plt.plot(range(window_size,N),std_avg_predictions,color='orange',label='Prediction')\n",
        "#plt.xticks(range(0,df.shape[0],50),df['Date'].loc[::50],rotation=45)\n",
        "plt.xlabel('Date')\n",
        "plt.ylabel('Mid Price')\n",
        "plt.legend(fontsize=18)\n",
        "plt.show()"
      ],
      "execution_count": 0,
      "outputs": [
        {
          "output_type": "display_data",
          "data": {
            "image/png": "[encoded data removed]",
            "text/plain": [
              "<Figure size 1296x648 with 1 Axes>"
            ]
          },
          "metadata": {
            "tags": []
          }
        }
      ]
    },
    {
      "cell_type": "code",
      "metadata": {
        "id": "ORIX-5lqHMWf",
        "colab_type": "code",
        "outputId": "d7fef612-88c8-49a9-d493-4909bfed4925",
        "colab": {
          "base_uri": "https://localhost:8080/",
          "height": 54
        }
      },
      "source": [
        "window_size = 10\n",
        "N = train_data.size\n",
        "\n",
        "run_avg_predictions = []\n",
        "run_avg_x = []\n",
        "\n",
        "mse_errors = []\n",
        "\n",
        "running_mean = 0.0\n",
        "run_avg_predictions.append(running_mean)\n",
        "\n",
        "decay = 0.5\n",
        "\n",
        "for pred_idx in range(1,N):\n",
        "\n",
        "    running_mean = running_mean*decay + (1.0-decay)*train_data[pred_idx-1]\n",
        "    run_avg_predictions.append(running_mean)\n",
        "    mse_errors.append((run_avg_predictions[-1]-train_data[pred_idx])**2)\n",
        "    run_avg_x.append(date)\n",
        "\n",
        "print('MSE error for EMA averaging: %.5f'%(0.5*np.mean(mse_errors)))"
      ],
      "execution_count": 0,
      "outputs": [
        {
          "output_type": "stream",
          "text": [
            "MSE error for EMA averaging: 0.00027\n"
          ],
          "name": "stdout"
        }
      ]
    },
    {
      "cell_type": "code",
      "metadata": {
        "id": "kTNa0_T9HXrA",
        "colab_type": "code",
        "outputId": "3b1ec2db-c1f5-46a5-aff5-9c118c331b1f",
        "colab": {
          "base_uri": "https://localhost:8080/",
          "height": 643
        }
      },
      "source": [
        "plt.figure(figsize = (18,9))\n",
        "plt.plot(range(df.shape[0]),all_mid_data,color='b',label='True')\n",
        "plt.plot(range(0,N),run_avg_predictions,color='orange', label='Prediction')\n",
        "plt.xticks(range(0,df.shape[0],50),df['Date'].loc[::50],rotation=45)\n",
        "plt.xlabel('Date')\n",
        "plt.ylabel('Mid Price')\n",
        "plt.legend(fontsize=18)\n",
        "plt.show()"
      ],
      "execution_count": 0,
      "outputs": [
        {
          "output_type": "display_data",
          "data": {
            "image/png": "[encoded data removed]",
            "text/plain": [
              "<Figure size 1296x648 with 1 Axes>"
            ]
          },
          "metadata": {
            "tags": []
          }
        }
      ]
    },
    {
      "cell_type": "code",
      "metadata": {
        "id": "EzJGJe2rIRzB",
        "colab_type": "code",
        "outputId": "f956ef2d-a775-44fb-95c9-3cf7b98059bc",
        "colab": {
          "base_uri": "https://localhost:8080/",
          "height": 566
        }
      },
      "source": [
        "class DataGeneratorSeq(object):\n",
        "\n",
        "    def __init__(self,prices,batch_size,num_unroll):\n",
        "        self._prices = prices\n",
        "        self._prices_length = len(self._prices) - num_unroll\n",
        "        self._batch_size = batch_size\n",
        "        self._num_unroll = num_unroll\n",
        "        self._segments = self._prices_length //self._batch_size\n",
        "        self._cursor = [offset * self._segments for offset in range(self._batch_size)]\n",
        "\n",
        "    def next_batch(self):\n",
        "\n",
        "        batch_data = np.zeros((self._batch_size),dtype=np.float32)\n",
        "        batch_labels = np.zeros((self._batch_size),dtype=np.float32)\n",
        "\n",
        "        for b in range(self._batch_size):\n",
        "            if self._cursor[b]+1>=self._prices_length:\n",
        "                #self._cursor[b] = b * self._segments\n",
        "                self._cursor[b] = np.random.randint(0,(b+1)*self._segments)\n",
        "\n",
        "            batch_data[b] = self._prices[self._cursor[b]]\n",
        "            batch_labels[b]= self._prices[self._cursor[b]+np.random.randint(0,5)]\n",
        "\n",
        "            self._cursor[b] = (self._cursor[b]+1)%self._prices_length\n",
        "\n",
        "        return batch_data,batch_labels\n",
        "\n",
        "    def unroll_batches(self):\n",
        "\n",
        "        unroll_data,unroll_labels = [],[]\n",
        "        init_data, init_label = None,None\n",
        "        for ui in range(self._num_unroll):\n",
        "\n",
        "            data, labels = self.next_batch()    \n",
        "\n",
        "            unroll_data.append(data)\n",
        "            unroll_labels.append(labels)\n",
        "\n",
        "        return unroll_data, unroll_labels\n",
        "\n",
        "    def reset_indices(self):\n",
        "        for b in range(self._batch_size):\n",
        "            self._cursor[b] = np.random.randint(0,min((b+1)*self._segments,self._prices_length-1))\n",
        "\n",
        "\n",
        "\n",
        "dg = DataGeneratorSeq(train_data,5,5)\n",
        "u_data, u_labels = dg.unroll_batches()\n",
        "\n",
        "for ui,(dat,lbl) in enumerate(zip(u_data,u_labels)):   \n",
        "    print('\\n\\nUnrolled index %d'%ui)\n",
        "    dat_ind = dat\n",
        "    lbl_ind = lbl\n",
        "    print('\\tInputs: ',dat )\n",
        "    print('\\n\\tOutput:',lbl)"
      ],
      "execution_count": 0,
      "outputs": [
        {
          "output_type": "stream",
          "text": [
            "\n",
            "\n",
            "Unrolled index 0\n",
            "\tInputs:  [0.         0.04962308 0.10286792 0.4566449  0.76071805]\n",
            "\n",
            "\tOutput: [3.05406888e-06 4.96230796e-02 1.02867916e-01 4.60174352e-01\n",
            " 7.31030107e-01]\n",
            "\n",
            "\n",
            "Unrolled index 1\n",
            "\tInputs:  [1.13427966e-07 4.61587794e-02 1.02096573e-01 4.56965834e-01\n",
            " 7.55555332e-01]\n",
            "\n",
            "\tOutput: [3.0540689e-06 4.2350978e-02 1.0209657e-01 4.6768489e-01 7.4424219e-01]\n",
            "\n",
            "\n",
            "Unrolled index 2\n",
            "\tInputs:  [7.7975290e-07 4.3725640e-02 1.0141041e-01 4.6017435e-01 7.4424219e-01]\n",
            "\n",
            "\tOutput: [4.6403471e-05 4.2058591e-02 9.9288993e-02 4.8996833e-01 7.4424219e-01]\n",
            "\n",
            "\n",
            "Unrolled index 3\n",
            "\tInputs:  [3.0540689e-06 4.2350978e-02 1.0079714e-01 4.6768489e-01 7.3103011e-01]\n",
            "\n",
            "\tOutput: [8.9741407e-05 4.2868339e-02 9.9288993e-02 4.9887905e-01 6.9772696e-01]\n",
            "\n",
            "\n",
            "Unrolled index 4\n",
            "\tInputs:  [8.9421865e-06 4.2058591e-02 1.0024563e-01 4.7736409e-01 7.1429068e-01]\n",
            "\n",
            "\tOutput: [1.6070540e-04 5.2043270e-02 9.9745899e-02 4.8996833e-01 7.1429068e-01]\n"
          ],
          "name": "stdout"
        }
      ]
    },
    {
      "cell_type": "code",
      "metadata": {
        "id": "aZtpYBXnIS-4",
        "colab_type": "code",
        "colab": {}
      },
      "source": [
        "D = 1 # Dimensionality of the data. Since your data is 1-D this would be 1\n",
        "num_unrollings = 50 # Number of time steps you look into the future.\n",
        "batch_size = 500 # Number of samples in a batch\n",
        "num_nodes = [200,200,150] # Number of hidden nodes in each layer of the deep LSTM stack we're using\n",
        "n_layers = len(num_nodes) # number of layers\n",
        "dropout = 0.2 # dropout amount\n",
        "\n",
        "tf.reset_default_graph() # This is important in case you run this multiple times\n"
      ],
      "execution_count": 0,
      "outputs": []
    },
    {
      "cell_type": "code",
      "metadata": {
        "id": "mLDstD8SIe-V",
        "colab_type": "code",
        "colab": {}
      },
      "source": [
        "# Input data.\n",
        "train_inputs, train_outputs = [],[]\n",
        "\n",
        "# You unroll the input over time defining placeholders for each time step\n",
        "for ui in range(num_unrollings):\n",
        "    train_inputs.append(tf.placeholder(tf.float32, shape=[batch_size,D],name='train_inputs_%d'%ui))\n",
        "    train_outputs.append(tf.placeholder(tf.float32, shape=[batch_size,1], name = 'train_outputs_%d'%ui))"
      ],
      "execution_count": 0,
      "outputs": []
    },
    {
      "cell_type": "code",
      "metadata": {
        "id": "eiEF9hBFIjFB",
        "colab_type": "code",
        "outputId": "c993333a-9f73-433d-8ee5-905d48aa1fe3",
        "colab": {
          "base_uri": "https://localhost:8080/",
          "height": 269
        }
      },
      "source": [
        "lstm_cells = [\n",
        "    tf.contrib.rnn.LSTMCell(num_units=num_nodes[li],\n",
        "                            state_is_tuple=True,\n",
        "                            initializer= tf.contrib.layers.xavier_initializer()\n",
        "                           )\n",
        " for li in range(n_layers)]\n",
        "\n",
        "drop_lstm_cells = [tf.contrib.rnn.DropoutWrapper(\n",
        "    lstm, input_keep_prob=1.0,output_keep_prob=1.0-dropout, state_keep_prob=1.0-dropout\n",
        ") for lstm in lstm_cells]\n",
        "drop_multi_cell = tf.contrib.rnn.MultiRNNCell(drop_lstm_cells)\n",
        "multi_cell = tf.contrib.rnn.MultiRNNCell(lstm_cells)\n",
        "\n",
        "w = tf.get_variable('w',shape=[num_nodes[-1], 1], initializer=tf.contrib.layers.xavier_initializer())\n",
        "b = tf.get_variable('b',initializer=tf.random_uniform([1],-0.1,0.1))"
      ],
      "execution_count": 0,
      "outputs": [
        {
          "output_type": "stream",
          "text": [
            "WARNING:tensorflow:\n",
            "The TensorFlow contrib module will not be included in TensorFlow 2.0.\n",
            "For more information, please see:\n",
            "  * https://github.com/tensorflow/community/blob/master/rfcs/20180907-contrib-sunset.md\n",
            "  * https://github.com/tensorflow/addons\n",
            "  * https://github.com/tensorflow/io (for I/O related ops)\n",
            "If you depend on functionality not listed there, please file an issue.\n",
            "\n",
            "WARNING:tensorflow:From <ipython-input-310-c24fa21357f4>:6: LSTMCell.__init__ (from tensorflow.python.ops.rnn_cell_impl) is deprecated and will be removed in a future version.\n",
            "Instructions for updating:\n",
            "This class is equivalent as tf.keras.layers.LSTMCell, and will be replaced by that in Tensorflow 2.0.\n",
            "WARNING:tensorflow:From <ipython-input-310-c24fa21357f4>:11: MultiRNNCell.__init__ (from tensorflow.python.ops.rnn_cell_impl) is deprecated and will be removed in a future version.\n",
            "Instructions for updating:\n",
            "This class is equivalent as tf.keras.layers.StackedRNNCells, and will be replaced by that in Tensorflow 2.0.\n"
          ],
          "name": "stdout"
        }
      ]
    },
    {
      "cell_type": "code",
      "metadata": {
        "id": "Ea9a-DzJIoPW",
        "colab_type": "code",
        "outputId": "d5668a84-673e-48bc-a656-daf0d83fcad6",
        "colab": {
          "base_uri": "https://localhost:8080/",
          "height": 186
        }
      },
      "source": [
        "# Create cell state and hidden state variables to maintain the state of the LSTM\n",
        "c, h = [],[]\n",
        "initial_state = []\n",
        "for li in range(n_layers):\n",
        "  c.append(tf.Variable(tf.zeros([batch_size, num_nodes[li]]), trainable=False))\n",
        "  h.append(tf.Variable(tf.zeros([batch_size, num_nodes[li]]), trainable=False))\n",
        "  initial_state.append(tf.contrib.rnn.LSTMStateTuple(c[li], h[li]))\n",
        "\n",
        "# Do several tensor transofmations, because the function dynamic_rnn requires the output to be of\n",
        "# a specific format. Read more at: https://www.tensorflow.org/api_docs/python/tf/nn/dynamic_rnn\n",
        "all_inputs = tf.concat([tf.expand_dims(t,0) for t in train_inputs],axis=0)\n",
        "\n",
        "# all_outputs is [seq_length, batch_size, num_nodes]\n",
        "all_lstm_outputs, state = tf.nn.dynamic_rnn(\n",
        "    drop_multi_cell, all_inputs, initial_state=tuple(initial_state),\n",
        "    time_major = True, dtype=tf.float32)\n",
        "\n",
        "all_lstm_outputs = tf.reshape(all_lstm_outputs, [batch_size*num_unrollings,num_nodes[-1]])\n",
        "\n",
        "all_outputs = tf.nn.xw_plus_b(all_lstm_outputs,w,b)\n",
        "\n",
        "split_outputs = tf.split(all_outputs,num_unrollings,axis=0)"
      ],
      "execution_count": 0,
      "outputs": [
        {
          "output_type": "stream",
          "text": [
            "WARNING:tensorflow:From <ipython-input-311-7d27fa5d5cf5>:15: dynamic_rnn (from tensorflow.python.ops.rnn) is deprecated and will be removed in a future version.\n",
            "Instructions for updating:\n",
            "Please use `keras.layers.RNN(cell)`, which is equivalent to this API\n",
            "WARNING:tensorflow:From /usr/local/lib/python3.6/dist-packages/tensorflow_core/python/ops/rnn_cell_impl.py:958: Layer.add_variable (from tensorflow.python.keras.engine.base_layer) is deprecated and will be removed in a future version.\n",
            "Instructions for updating:\n",
            "Please use `layer.add_weight` method instead.\n",
            "WARNING:tensorflow:From /usr/local/lib/python3.6/dist-packages/tensorflow_core/python/ops/rnn_cell_impl.py:962: calling Zeros.__init__ (from tensorflow.python.ops.init_ops) with dtype is deprecated and will be removed in a future version.\n",
            "Instructions for updating:\n",
            "Call initializer instance with the dtype argument instead of passing it to the constructor\n"
          ],
          "name": "stdout"
        }
      ]
    },
    {
      "cell_type": "code",
      "metadata": {
        "id": "UM-KrexUIs0O",
        "colab_type": "code",
        "outputId": "6e6c5752-2b6e-423c-dd36-a47ed468dd68",
        "colab": {
          "base_uri": "https://localhost:8080/",
          "height": 104
        }
      },
      "source": [
        "# When calculating the loss you need to be careful about the exact form, because you calculate\n",
        "# loss of all the unrolled steps at the same time\n",
        "# Therefore, take the mean error or each batch and get the sum of that over all the unrolled steps\n",
        "\n",
        "print('Defining training Loss')\n",
        "loss = 0.0\n",
        "with tf.control_dependencies([tf.assign(c[li], state[li][0]) for li in range(n_layers)]+\n",
        "                             [tf.assign(h[li], state[li][1]) for li in range(n_layers)]):\n",
        "  for ui in range(num_unrollings):\n",
        "    loss += tf.reduce_mean(0.5*(split_outputs[ui]-train_outputs[ui])**2)\n",
        "\n",
        "print('Learning rate decay operations')\n",
        "global_step = tf.Variable(0, trainable=False)\n",
        "inc_gstep = tf.assign(global_step,global_step + 1)\n",
        "tf_learning_rate = tf.placeholder(shape=None,dtype=tf.float32)\n",
        "tf_min_learning_rate = tf.placeholder(shape=None,dtype=tf.float32)\n",
        "\n",
        "learning_rate = tf.maximum(\n",
        "    tf.train.exponential_decay(tf_learning_rate, global_step, decay_steps=1, decay_rate=0.5, staircase=True),\n",
        "    tf_min_learning_rate)\n",
        "\n",
        "# Optimizer.\n",
        "print('TF Optimization operations')\n",
        "optimizer = tf.train.AdamOptimizer(learning_rate)\n",
        "gradients, v = zip(*optimizer.compute_gradients(loss))\n",
        "gradients, _ = tf.clip_by_global_norm(gradients, 5.0)\n",
        "optimizer = optimizer.apply_gradients(\n",
        "    zip(gradients, v))\n",
        "\n",
        "print('\\tAll done')"
      ],
      "execution_count": 0,
      "outputs": [
        {
          "output_type": "stream",
          "text": [
            "Defining training Loss\n",
            "Learning rate decay operations\n",
            "TF Optimization operations\n",
            "\tAll done\n"
          ],
          "name": "stdout"
        }
      ]
    },
    {
      "cell_type": "code",
      "metadata": {
        "id": "5j1cKg61I1zR",
        "colab_type": "code",
        "outputId": "a67fb07c-ebba-43f3-8b7a-f3abc82640ec",
        "colab": {
          "base_uri": "https://localhost:8080/",
          "height": 71
        }
      },
      "source": [
        "print('Defining prediction related TF functions')\n",
        "\n",
        "sample_inputs = tf.placeholder(tf.float32, shape=[1,D])\n",
        "\n",
        "# Maintaining LSTM state for prediction stage\n",
        "sample_c, sample_h, initial_sample_state = [],[],[]\n",
        "for li in range(n_layers):\n",
        "  sample_c.append(tf.Variable(tf.zeros([1, num_nodes[li]]), trainable=False))\n",
        "  sample_h.append(tf.Variable(tf.zeros([1, num_nodes[li]]), trainable=False))\n",
        "  initial_sample_state.append(tf.contrib.rnn.LSTMStateTuple(sample_c[li],sample_h[li]))\n",
        "\n",
        "reset_sample_states = tf.group(*[tf.assign(sample_c[li],tf.zeros([1, num_nodes[li]])) for li in range(n_layers)],\n",
        "                               *[tf.assign(sample_h[li],tf.zeros([1, num_nodes[li]])) for li in range(n_layers)])\n",
        "\n",
        "sample_outputs, sample_state = tf.nn.dynamic_rnn(multi_cell, tf.expand_dims(sample_inputs,0),\n",
        "                                   initial_state=tuple(initial_sample_state),\n",
        "                                   time_major = True,\n",
        "                                   dtype=tf.float32)\n",
        "\n",
        "with tf.control_dependencies([tf.assign(sample_c[li],sample_state[li][0]) for li in range(n_layers)]+\n",
        "                              [tf.assign(sample_h[li],sample_state[li][1]) for li in range(n_layers)]):  \n",
        "  sample_prediction = tf.nn.xw_plus_b(tf.reshape(sample_outputs,[1,-1]), w, b)\n",
        "\n",
        "print('\\tAll done')"
      ],
      "execution_count": 0,
      "outputs": [
        {
          "output_type": "stream",
          "text": [
            "Defining prediction related TF functions\n",
            "\tAll done\n"
          ],
          "name": "stdout"
        }
      ]
    },
    {
      "cell_type": "code",
      "metadata": {
        "id": "_f7X6fBzI8dL",
        "colab_type": "code",
        "outputId": "17552c31-af74-4bd2-f493-e41ed32d5524",
        "colab": {
          "base_uri": "https://localhost:8080/",
          "height": 1000
        }
      },
      "source": [
        "epochs = 30\n",
        "valid_summary = 1 # Interval you make test predictions\n",
        "\n",
        "n_predict_once = 5 # Number of steps you continously predict for\n",
        "\n",
        "train_seq_length = train_data.size # Full length of the training data\n",
        "\n",
        "train_mse_ot = [] # Accumulate Train losses\n",
        "test_mse_ot = [] # Accumulate Test loss\n",
        "predictions_over_time = [] # Accumulate predictions\n",
        "\n",
        "session = tf.InteractiveSession()\n",
        "\n",
        "tf.global_variables_initializer().run()\n",
        "\n",
        "# Used for decaying learning rate\n",
        "loss_nondecrease_count = 0\n",
        "loss_nondecrease_threshold = 2 # If the test error hasn't increased in this many steps, decrease learning rate\n",
        "\n",
        "print('Initialized')\n",
        "average_loss = 0\n",
        "\n",
        "# Define data generator\n",
        "data_gen = DataGeneratorSeq(train_data,batch_size,num_unrollings)\n",
        "\n",
        "x_axis_seq = []\n",
        "\n",
        "# Points you start your test predictions from\n",
        "test_points_seq = np.arange(2100,2500,5).tolist()\n",
        "\n",
        "for ep in range(epochs):       \n",
        "\n",
        "    # ========================= Training =====================================\n",
        "    for step in range(train_seq_length//batch_size):\n",
        "\n",
        "        u_data, u_labels = data_gen.unroll_batches()\n",
        "\n",
        "        feed_dict = {}\n",
        "        for ui,(dat,lbl) in enumerate(zip(u_data,u_labels)):            \n",
        "            feed_dict[train_inputs[ui]] = dat.reshape(-1,1)\n",
        "            feed_dict[train_outputs[ui]] = lbl.reshape(-1,1)\n",
        "\n",
        "        feed_dict.update({tf_learning_rate: 0.0001, tf_min_learning_rate:0.000001})\n",
        "\n",
        "        _, l = session.run([optimizer, loss], feed_dict=feed_dict)\n",
        "\n",
        "        average_loss += l\n",
        "\n",
        "    # ============================ Validation ==============================\n",
        "    if (ep+1) % valid_summary == 0:\n",
        "\n",
        "      average_loss = average_loss/(valid_summary*(train_seq_length//batch_size))\n",
        "\n",
        "      # The average loss\n",
        "      if (ep+1)%valid_summary==0:\n",
        "        print('Average loss at step %d: %f' % (ep+1, average_loss))\n",
        "\n",
        "      train_mse_ot.append(average_loss)\n",
        "\n",
        "      average_loss = 0 # reset loss\n",
        "\n",
        "      predictions_seq = []\n",
        "\n",
        "      mse_test_loss_seq = []\n",
        "\n",
        "      # ===================== Updating State and Making Predicitons ========================\n",
        "      for w_i in test_points_seq:\n",
        "        mse_test_loss = 0.0\n",
        "        our_predictions = []\n",
        "\n",
        "        if (ep+1)-valid_summary==0:\n",
        "          # Only calculate x_axis values in the first validation epoch\n",
        "          x_axis=[]\n",
        "\n",
        "        # Feed in the recent past behavior of stock prices\n",
        "        # to make predictions from that point onwards\n",
        "        for tr_i in range(w_i-num_unrollings+1,w_i-1):\n",
        "          current_price = all_mid_data[tr_i]\n",
        "          feed_dict[sample_inputs] = np.array(current_price).reshape(1,1)    \n",
        "          _ = session.run(sample_prediction,feed_dict=feed_dict)\n",
        "\n",
        "        feed_dict = {}\n",
        "\n",
        "        current_price = all_mid_data[w_i-1]\n",
        "\n",
        "        feed_dict[sample_inputs] = np.array(current_price).reshape(1,1)\n",
        "\n",
        "        # Make predictions for this many steps\n",
        "        # Each prediction uses previous prediciton as it's current input\n",
        "        for pred_i in range(n_predict_once):\n",
        "\n",
        "          pred = session.run(sample_prediction,feed_dict=feed_dict)\n",
        "\n",
        "          our_predictions.append(np.asscalar(pred))\n",
        "\n",
        "          feed_dict[sample_inputs] = np.asarray(pred).reshape(-1,1)\n",
        "\n",
        "          if (ep+1)-valid_summary==0:\n",
        "            # Only calculate x_axis values in the first validation epoch\n",
        "            x_axis.append(w_i+pred_i)\n",
        "\n",
        "          mse_test_loss += 0.5*(pred-all_mid_data[w_i+pred_i])**2\n",
        "\n",
        "        session.run(reset_sample_states)\n",
        "\n",
        "        predictions_seq.append(np.array(our_predictions))\n",
        "\n",
        "        mse_test_loss /= n_predict_once\n",
        "        mse_test_loss_seq.append(mse_test_loss)\n",
        "\n",
        "        if (ep+1)-valid_summary==0:\n",
        "          x_axis_seq.append(x_axis)\n",
        "\n",
        "      current_test_mse = np.mean(mse_test_loss_seq)\n",
        "\n",
        "      # Learning rate decay logic\n",
        "      if len(test_mse_ot)>0 and current_test_mse > min(test_mse_ot):\n",
        "          loss_nondecrease_count += 1\n",
        "      else:\n",
        "          loss_nondecrease_count = 0\n",
        "\n",
        "      if loss_nondecrease_count > loss_nondecrease_threshold :\n",
        "            session.run(inc_gstep)\n",
        "            loss_nondecrease_count = 0\n",
        "            print('\\tDecreasing learning rate by 0.5')\n",
        "\n",
        "      test_mse_ot.append(current_test_mse)\n",
        "      print('\\tTest MSE: %.5f'%np.mean(mse_test_loss_seq))\n",
        "      predictions_over_time.append(predictions_seq)\n",
        "      print('\\tFinished Predictions')"
      ],
      "execution_count": 0,
      "outputs": [
        {
          "output_type": "stream",
          "text": [
            "/usr/local/lib/python3.6/dist-packages/tensorflow_core/python/client/session.py:1750: UserWarning: An interactive session is already active. This can cause out-of-memory errors in some cases. You must explicitly call `InteractiveSession.close()` to release resources held by the other session(s).\n",
            "  warnings.warn('An interactive session is already active. This can '\n"
          ],
          "name": "stderr"
        },
        {
          "output_type": "stream",
          "text": [
            "Initialized\n",
            "Average loss at step 1: 10.466220\n"
          ],
          "name": "stdout"
        },
        {
          "output_type": "stream",
          "text": [
            "/usr/local/lib/python3.6/dist-packages/ipykernel_launcher.py:94: DeprecationWarning: np.asscalar(a) is deprecated since NumPy v1.16, use a.item() instead\n"
          ],
          "name": "stderr"
        },
        {
          "output_type": "stream",
          "text": [
            "\tTest MSE: 0.19739\n",
            "\tFinished Predictions\n",
            "Average loss at step 2: 7.910186\n",
            "\tTest MSE: 0.14819\n",
            "\tFinished Predictions\n",
            "Average loss at step 3: 5.329999\n",
            "\tTest MSE: 0.09275\n",
            "\tFinished Predictions\n",
            "Average loss at step 4: 2.510562\n",
            "\tTest MSE: 0.03503\n",
            "\tFinished Predictions\n",
            "Average loss at step 5: 0.908776\n",
            "\tTest MSE: 0.01660\n",
            "\tFinished Predictions\n",
            "Average loss at step 6: 1.119552\n",
            "\tTest MSE: 0.01719\n",
            "\tFinished Predictions\n",
            "Average loss at step 7: 0.655705\n",
            "\tTest MSE: 0.02753\n",
            "\tFinished Predictions\n",
            "Average loss at step 8: 0.711217\n",
            "\tDecreasing learning rate by 0.5\n",
            "\tTest MSE: 0.02462\n",
            "\tFinished Predictions\n",
            "Average loss at step 9: 0.626075\n",
            "\tTest MSE: 0.01913\n",
            "\tFinished Predictions\n",
            "Average loss at step 10: 0.569544\n",
            "\tTest MSE: 0.01692\n",
            "\tFinished Predictions\n",
            "Average loss at step 11: 0.568327\n",
            "\tDecreasing learning rate by 0.5\n",
            "\tTest MSE: 0.01863\n",
            "\tFinished Predictions\n",
            "Average loss at step 12: 0.539872\n",
            "\tTest MSE: 0.01951\n",
            "\tFinished Predictions\n",
            "Average loss at step 13: 0.535145\n",
            "\tTest MSE: 0.01914\n",
            "\tFinished Predictions\n",
            "Average loss at step 14: 0.500523\n",
            "\tDecreasing learning rate by 0.5\n",
            "\tTest MSE: 0.01806\n",
            "\tFinished Predictions\n",
            "Average loss at step 15: 0.489909\n",
            "\tTest MSE: 0.01770\n",
            "\tFinished Predictions\n",
            "Average loss at step 16: 0.498644\n",
            "\tTest MSE: 0.01758\n",
            "\tFinished Predictions\n",
            "Average loss at step 17: 0.458654\n",
            "\tDecreasing learning rate by 0.5\n",
            "\tTest MSE: 0.01770\n",
            "\tFinished Predictions\n",
            "Average loss at step 18: 0.442122\n",
            "\tTest MSE: 0.01779\n",
            "\tFinished Predictions\n",
            "Average loss at step 19: 0.466704\n",
            "\tTest MSE: 0.01785\n",
            "\tFinished Predictions\n",
            "Average loss at step 20: 0.484029\n",
            "\tDecreasing learning rate by 0.5\n",
            "\tTest MSE: 0.01783\n",
            "\tFinished Predictions\n",
            "Average loss at step 21: 0.448854\n",
            "\tTest MSE: 0.01781\n",
            "\tFinished Predictions\n",
            "Average loss at step 22: 0.473872\n",
            "\tTest MSE: 0.01778\n",
            "\tFinished Predictions\n",
            "Average loss at step 23: 0.479524\n",
            "\tDecreasing learning rate by 0.5\n",
            "\tTest MSE: 0.01772\n",
            "\tFinished Predictions\n",
            "Average loss at step 24: 0.465525\n",
            "\tTest MSE: 0.01769\n",
            "\tFinished Predictions\n",
            "Average loss at step 25: 0.452278\n",
            "\tTest MSE: 0.01767\n",
            "\tFinished Predictions\n",
            "Average loss at step 26: 0.457492\n",
            "\tDecreasing learning rate by 0.5\n",
            "\tTest MSE: 0.01764\n",
            "\tFinished Predictions\n",
            "Average loss at step 27: 0.450320\n",
            "\tTest MSE: 0.01763\n",
            "\tFinished Predictions\n",
            "Average loss at step 28: 0.448757\n",
            "\tTest MSE: 0.01761\n",
            "\tFinished Predictions\n",
            "Average loss at step 29: 0.449137\n",
            "\tDecreasing learning rate by 0.5\n",
            "\tTest MSE: 0.01760\n",
            "\tFinished Predictions\n",
            "Average loss at step 30: 0.453032\n",
            "\tTest MSE: 0.01759\n",
            "\tFinished Predictions\n"
          ],
          "name": "stdout"
        }
      ]
    },
    {
      "cell_type": "code",
      "metadata": {
        "id": "F9Ch4CirJD2N",
        "colab_type": "code",
        "outputId": "be9cd989-9468-43e1-dee8-1c6e43220e51",
        "colab": {
          "base_uri": "https://localhost:8080/",
          "height": 1000
        }
      },
      "source": [
        "best_prediction_epoch = 28 # replace this with the epoch that you got the best results when running the plotting code\n",
        "\n",
        "plt.figure(figsize = (18,18))\n",
        "plt.subplot(2,1,1)\n",
        "plt.plot(range(df.shape[0]),all_mid_data,color='b')\n",
        "\n",
        "# Plotting how the predictions change over time\n",
        "# Plot older predictions with low alpha and newer predictions with high alpha\n",
        "start_alpha = 0.25\n",
        "alpha  = np.arange(start_alpha,1.1,(1.0-start_alpha)/len(predictions_over_time[::3]))\n",
        "for p_i,p in enumerate(predictions_over_time[::3]):\n",
        "    for xval,yval in zip(x_axis_seq,p):\n",
        "        plt.plot(xval,yval,color='r',alpha=alpha[p_i])\n",
        "\n",
        "plt.title('Evolution of Test Predictions Over Time',fontsize=18)\n",
        "plt.xlabel('Date',fontsize=18)\n",
        "plt.ylabel('Mid Price',fontsize=18)\n",
        "plt.xlim(2000,2600)\n",
        "\n",
        "plt.subplot(2,1,2)\n",
        "\n",
        "# Predicting the best test prediction you got\n",
        "plt.plot(range(df.shape[0]),all_mid_data,color='b')\n",
        "for xval,yval in zip(x_axis_seq,predictions_over_time[best_prediction_epoch]):\n",
        "    plt.plot(xval,yval,color='r')\n",
        "\n",
        "plt.title('Best Test Predictions Over Time',fontsize=18)\n",
        "plt.xlabel('Date',fontsize=18)\n",
        "plt.ylabel('Mid Price',fontsize=18)\n",
        "plt.xlim(2000,2600)\n",
        "plt.show()"
      ],
      "execution_count": 0,
      "outputs": [
        {
          "output_type": "display_data",
          "data": {
            "image/png": "[encoded data removed]",
            "text/plain": [
              "<Figure size 1296x1296 with 2 Axes>"
            ]
          },
          "metadata": {
            "tags": []
          }
        }
      ]
    },
    {
      "cell_type": "code",
      "metadata": {
        "id": "tsycYLQYMWaL",
        "colab_type": "code",
        "colab": {}
      },
      "source": [
        "model_save_name = 'classifier.pt'\n",
        "path = F\"/content/gdrive/My Drive/{model_save_name}\" \n",
        "torch.save(model.state_dict(), path)"
      ],
      "execution_count": 0,
      "outputs": []
    },
    {
      "cell_type": "code",
      "metadata": {
        "id": "zm9mWPmiMXbL",
        "colab_type": "code",
        "colab": {}
      },
      "source": [
        "model_save_name = 'classifier.pt'\n",
        "path = F\"/content/gdrive/My Drive/{model_save_name}\"\n",
        "model.load_state_dict(torch.load(path))"
      ],
      "execution_count": 0,
      "outputs": []
    },
    {
      "cell_type": "code",
      "metadata": {
        "id": "Ot2xjTEzNmsF",
        "colab_type": "code",
        "outputId": "af87a314-6730-406e-b419-9c9d3bd80c89",
        "colab": {
          "base_uri": "https://localhost:8080/",
          "height": 99
        }
      },
      "source": [
        "#https://mc.ai/how-to-save-and-upload-deep-learning-machine-learning-models-in-google-colab-using-google-drive/\n",
        "!pip install -U -q PyDrive\n",
        "\n",
        "import tensorflow as tf\n",
        "import timeit\n",
        "\n",
        "config = tf.ConfigProto()\n",
        "config.gpu_options.allow_growth = True\n",
        "\n",
        "from pydrive.auth import GoogleAuth\n",
        "from pydrive.drive import GoogleDrive\n",
        "from google.colab import auth\n",
        "from oauth2client.client import GoogleCredentials\n",
        "\n",
        "# Authenticate and create the PyDrive client.\n",
        "auth.authenticate_user()\n",
        "gauth = GoogleAuth()\n",
        "gauth.credentials = GoogleCredentials.get_application_default()\n",
        "drive = GoogleDrive(gauth)\n"
      ],
      "execution_count": 0,
      "outputs": [
        {
          "output_type": "display_data",
          "data": {
            "text/html": [
              "<p style=\"color: red;\">\n",
              "The default version of TensorFlow in Colab will soon switch to TensorFlow 2.x.<br>\n",
              "We recommend you <a href=\"https://www.tensorflow.org/guide/migrate\" target=\"_blank\">upgrade</a> now \n",
              "or ensure your notebook will continue to use TensorFlow 1.x via the <code>%tensorflow_version 1.x</code> magic:\n",
              "<a href=\"https://colab.research.google.com/notebooks/tensorflow_version.ipynb\" target=\"_blank\">more info</a>.</p>\n"
            ],
            "text/plain": [
              "<IPython.core.display.HTML object>"
            ]
          },
          "metadata": {
            "tags": []
          }
        }
      ]
    },
    {
      "cell_type": "code",
      "metadata": {
        "id": "e7JBbN7aNnq6",
        "colab_type": "code",
        "outputId": "77aead95-01c7-4a83-f2c9-298c275570fc",
        "colab": {
          "base_uri": "https://localhost:8080/",
          "height": 467
        }
      },
      "source": [
        "file_list = drive.ListFile({'q': \"'root' in parents and trashed=false\"}).GetList()\n",
        "for file1 in file_list:\n",
        "  print('title: %s, id: %s' % (file1['title'], file1['id']))"
      ],
      "execution_count": 0,
      "outputs": [
        {
          "output_type": "stream",
          "text": [
            "title: output.json, id: 1-25OPsV9jaYFY_WgIbmBYz7nsSI6o_Ib\n",
            "title: .ipynb_checkpoints, id: 1-0sfZVTwCyD2oB8OHJZTIAVDHP_534ly\n",
            "title: Untitled, id: 1evf7SG71MW7k5PpAyakjytHv_sK1Ytt3\n",
            "title: DNU_2006_CD, id: 1pbpullEaEVHFgnEcCo18cErdlZsDcNJm\n",
            "title: TVBAnywhere+ Intro deck for Partners (MAY2).pdf, id: 1rrpo7rCYLYbaKLPaDKNGQceTjpFMfDHS\n",
            "title: IMG_1555.JPG, id: 183qNPefv6A4oElqFY32ZQGS3LZfjviqZ\n",
            "title: Colab Notebooks, id: 1eVPlRqL2oiuPafz7kzb6UDkvlWOVkoVA\n",
            "title: 190811 OP0801.zip, id: 1BABdUZBPWav2uEnb66GFHY8Gr1ryhSIr\n",
            "title: Architecture.mp4, id: 1KO-0XAQAPtBu8T3xSURWV5OlWyiLE-oJ\n",
            "title: G B 006, id: 1gI584C3lzhcjR8f2A4XQVX50tfe8BV4XIQis5SxsxTg\n",
            "title: bill_authentication.csv, id: 13nw-uRXPY8XIZQxKRNZ3yYlho-CYm_Qt\n",
            "title: japan.zip, id: 0B_2dy8_ilOY1MHpPX2pyeHZodDA\n",
            "title: sony ericsson 2.zip, id: 0B_2dy8_ilOY1YWtJWUUxeklPV2M\n",
            "title: SONY ERICSSON.zip, id: 0B_2dy8_ilOY1Z001VzN2akhxck0\n",
            "title: field trip 2011.zip, id: 0B_2dy8_ilOY1QjhqOEpCWWF1a1U\n",
            "title: GOLD COAST.zip, id: 0B_2dy8_ilOY1MmRPakVPT3QzdFk\n",
            "title: felix phone.zip, id: 0B_2dy8_ilOY1UnlPVi05NXNFc0U\n",
            "title: aug2011.zip, id: 0B_2dy8_ilOY1MDQyWmFKWWdybms\n",
            "title: OneDrive-2017-05-07.zip, id: 0B_2dy8_ilOY1NkU5SUJ3VUQyaVE\n",
            "title: 2007aug.zip, id: 0B_2dy8_ilOY1OFhibE9sa2s2dDg\n",
            "title: 101 NIKON.zip, id: 0B_2dy8_ilOY1WVU3OVF2TjBKVVE\n",
            "title: 6G souviner.zip, id: 0B_2dy8_ilOY1b3ppekYzU2tFeUE\n",
            "title: 20080710.zip, id: 0B_2dy8_ilOY1Skt6VVBHRjZiTWM\n",
            "title: samsung s4.zip, id: 0B_2dy8_ilOY1cTZzSWZPNDhrUzQ\n",
            "title: video.zip, id: 0B_2dy8_ilOY1d01mNnI0dFowUG8\n",
            "title: Strategic_Auditing_Change_Proposal_Team4_version3.0 FW.pptx, id: 0B_2dy8_ilOY1ZWpVU200emxKTG8\n"
          ],
          "name": "stdout"
        }
      ]
    },
    {
      "cell_type": "code",
      "metadata": {
        "id": "MZYgcFXCNu64",
        "colab_type": "code",
        "outputId": "054411e9-5f1c-4011-edac-83c38d4bfef8",
        "colab": {
          "base_uri": "https://localhost:8080/",
          "height": 353
        }
      },
      "source": [
        "downloaded = drive.CreateFile({'183qNPefv6A4oElqFY32ZQGS3LZfjviqZ': 'IMG_1555.JPG'})\n",
        "file = downloaded.GetContentString()\n",
        "print('Downloaded content \"{}\"'.format(len(file)))"
      ],
      "execution_count": 0,
      "outputs": [
        {
          "output_type": "error",
          "ename": "FileNotUploadedError",
          "evalue": "ignored",
          "traceback": [
            "\u001b[0;31m---------------------------------------------------------------------------\u001b[0m",
            "\u001b[0;31mFileNotUploadedError\u001b[0m                      Traceback (most recent call last)",
            "\u001b[0;32m<ipython-input-36-514c1273f365>\u001b[0m in \u001b[0;36m<module>\u001b[0;34m()\u001b[0m\n\u001b[1;32m      1\u001b[0m \u001b[0mdownloaded\u001b[0m \u001b[0;34m=\u001b[0m \u001b[0mdrive\u001b[0m\u001b[0;34m.\u001b[0m\u001b[0mCreateFile\u001b[0m\u001b[0;34m(\u001b[0m\u001b[0;34m{\u001b[0m\u001b[0;34m'183qNPefv6A4oElqFY32ZQGS3LZfjviqZ'\u001b[0m\u001b[0;34m:\u001b[0m \u001b[0;34m'IMG_1555.JPG'\u001b[0m\u001b[0;34m}\u001b[0m\u001b[0;34m)\u001b[0m\u001b[0;34m\u001b[0m\u001b[0;34m\u001b[0m\u001b[0m\n\u001b[0;32m----> 2\u001b[0;31m \u001b[0mfile\u001b[0m \u001b[0;34m=\u001b[0m \u001b[0mdownloaded\u001b[0m\u001b[0;34m.\u001b[0m\u001b[0mGetContentString\u001b[0m\u001b[0;34m(\u001b[0m\u001b[0;34m)\u001b[0m\u001b[0;34m\u001b[0m\u001b[0;34m\u001b[0m\u001b[0m\n\u001b[0m\u001b[1;32m      3\u001b[0m \u001b[0mprint\u001b[0m\u001b[0;34m(\u001b[0m\u001b[0;34m'Downloaded content \"{}\"'\u001b[0m\u001b[0;34m.\u001b[0m\u001b[0mformat\u001b[0m\u001b[0;34m(\u001b[0m\u001b[0mlen\u001b[0m\u001b[0;34m(\u001b[0m\u001b[0mfile\u001b[0m\u001b[0;34m)\u001b[0m\u001b[0;34m)\u001b[0m\u001b[0;34m)\u001b[0m\u001b[0;34m\u001b[0m\u001b[0;34m\u001b[0m\u001b[0m\n",
            "\u001b[0;32m/usr/local/lib/python3.6/dist-packages/pydrive/files.py\u001b[0m in \u001b[0;36mGetContentString\u001b[0;34m(self, mimetype, encoding, remove_bom)\u001b[0m\n\u001b[1;32m    191\u001b[0m                     \u001b[0mtype\u001b[0m\u001b[0;34m(\u001b[0m\u001b[0mself\u001b[0m\u001b[0;34m.\u001b[0m\u001b[0mcontent\u001b[0m\u001b[0;34m)\u001b[0m \u001b[0;32mis\u001b[0m \u001b[0;32mnot\u001b[0m \u001b[0mio\u001b[0m\u001b[0;34m.\u001b[0m\u001b[0mBytesIO\u001b[0m \u001b[0;32mor\u001b[0m\u001b[0;31m \u001b[0m\u001b[0;31m\\\u001b[0m\u001b[0;34m\u001b[0m\u001b[0;34m\u001b[0m\u001b[0m\n\u001b[1;32m    192\u001b[0m                     \u001b[0mself\u001b[0m\u001b[0;34m.\u001b[0m\u001b[0mhas_bom\u001b[0m \u001b[0;34m==\u001b[0m \u001b[0mremove_bom\u001b[0m\u001b[0;34m:\u001b[0m\u001b[0;34m\u001b[0m\u001b[0;34m\u001b[0m\u001b[0m\n\u001b[0;32m--> 193\u001b[0;31m       \u001b[0mself\u001b[0m\u001b[0;34m.\u001b[0m\u001b[0mFetchContent\u001b[0m\u001b[0;34m(\u001b[0m\u001b[0mmimetype\u001b[0m\u001b[0;34m,\u001b[0m \u001b[0mremove_bom\u001b[0m\u001b[0;34m)\u001b[0m\u001b[0;34m\u001b[0m\u001b[0;34m\u001b[0m\u001b[0m\n\u001b[0m\u001b[1;32m    194\u001b[0m     \u001b[0;32mreturn\u001b[0m \u001b[0mself\u001b[0m\u001b[0;34m.\u001b[0m\u001b[0mcontent\u001b[0m\u001b[0;34m.\u001b[0m\u001b[0mgetvalue\u001b[0m\u001b[0;34m(\u001b[0m\u001b[0;34m)\u001b[0m\u001b[0;34m.\u001b[0m\u001b[0mdecode\u001b[0m\u001b[0;34m(\u001b[0m\u001b[0mencoding\u001b[0m\u001b[0;34m)\u001b[0m\u001b[0;34m\u001b[0m\u001b[0;34m\u001b[0m\u001b[0m\n\u001b[1;32m    195\u001b[0m \u001b[0;34m\u001b[0m\u001b[0m\n",
            "\u001b[0;32m/usr/local/lib/python3.6/dist-packages/pydrive/files.py\u001b[0m in \u001b[0;36m_decorated\u001b[0;34m(self, *args, **kwargs)\u001b[0m\n\u001b[1;32m     40\u001b[0m   \u001b[0;32mdef\u001b[0m \u001b[0m_decorated\u001b[0m\u001b[0;34m(\u001b[0m\u001b[0mself\u001b[0m\u001b[0;34m,\u001b[0m \u001b[0;34m*\u001b[0m\u001b[0margs\u001b[0m\u001b[0;34m,\u001b[0m \u001b[0;34m**\u001b[0m\u001b[0mkwargs\u001b[0m\u001b[0;34m)\u001b[0m\u001b[0;34m:\u001b[0m\u001b[0;34m\u001b[0m\u001b[0;34m\u001b[0m\u001b[0m\n\u001b[1;32m     41\u001b[0m     \u001b[0;32mif\u001b[0m \u001b[0;32mnot\u001b[0m \u001b[0mself\u001b[0m\u001b[0;34m.\u001b[0m\u001b[0muploaded\u001b[0m\u001b[0;34m:\u001b[0m\u001b[0;34m\u001b[0m\u001b[0;34m\u001b[0m\u001b[0m\n\u001b[0;32m---> 42\u001b[0;31m       \u001b[0mself\u001b[0m\u001b[0;34m.\u001b[0m\u001b[0mFetchMetadata\u001b[0m\u001b[0;34m(\u001b[0m\u001b[0;34m)\u001b[0m\u001b[0;34m\u001b[0m\u001b[0;34m\u001b[0m\u001b[0m\n\u001b[0m\u001b[1;32m     43\u001b[0m     \u001b[0;32mreturn\u001b[0m \u001b[0mdecoratee\u001b[0m\u001b[0;34m(\u001b[0m\u001b[0mself\u001b[0m\u001b[0;34m,\u001b[0m \u001b[0;34m*\u001b[0m\u001b[0margs\u001b[0m\u001b[0;34m,\u001b[0m \u001b[0;34m**\u001b[0m\u001b[0mkwargs\u001b[0m\u001b[0;34m)\u001b[0m\u001b[0;34m\u001b[0m\u001b[0;34m\u001b[0m\u001b[0m\n\u001b[1;32m     44\u001b[0m   \u001b[0;32mreturn\u001b[0m \u001b[0m_decorated\u001b[0m\u001b[0;34m\u001b[0m\u001b[0;34m\u001b[0m\u001b[0m\n",
            "\u001b[0;32m/usr/local/lib/python3.6/dist-packages/pydrive/auth.py\u001b[0m in \u001b[0;36m_decorated\u001b[0;34m(self, *args, **kwargs)\u001b[0m\n\u001b[1;32m     73\u001b[0m       \u001b[0mself\u001b[0m\u001b[0;34m.\u001b[0m\u001b[0mhttp\u001b[0m \u001b[0;34m=\u001b[0m \u001b[0mself\u001b[0m\u001b[0;34m.\u001b[0m\u001b[0mauth\u001b[0m\u001b[0;34m.\u001b[0m\u001b[0mGet_Http_Object\u001b[0m\u001b[0;34m(\u001b[0m\u001b[0;34m)\u001b[0m\u001b[0;34m\u001b[0m\u001b[0;34m\u001b[0m\u001b[0m\n\u001b[1;32m     74\u001b[0m \u001b[0;34m\u001b[0m\u001b[0m\n\u001b[0;32m---> 75\u001b[0;31m     \u001b[0;32mreturn\u001b[0m \u001b[0mdecoratee\u001b[0m\u001b[0;34m(\u001b[0m\u001b[0mself\u001b[0m\u001b[0;34m,\u001b[0m \u001b[0;34m*\u001b[0m\u001b[0margs\u001b[0m\u001b[0;34m,\u001b[0m \u001b[0;34m**\u001b[0m\u001b[0mkwargs\u001b[0m\u001b[0;34m)\u001b[0m\u001b[0;34m\u001b[0m\u001b[0;34m\u001b[0m\u001b[0m\n\u001b[0m\u001b[1;32m     76\u001b[0m   \u001b[0;32mreturn\u001b[0m \u001b[0m_decorated\u001b[0m\u001b[0;34m\u001b[0m\u001b[0;34m\u001b[0m\u001b[0m\n\u001b[1;32m     77\u001b[0m \u001b[0;34m\u001b[0m\u001b[0m\n",
            "\u001b[0;32m/usr/local/lib/python3.6/dist-packages/pydrive/files.py\u001b[0m in \u001b[0;36mFetchMetadata\u001b[0;34m(self, fields, fetch_all)\u001b[0m\n\u001b[1;32m    242\u001b[0m         \u001b[0mself\u001b[0m\u001b[0;34m.\u001b[0m\u001b[0mUpdateMetadata\u001b[0m\u001b[0;34m(\u001b[0m\u001b[0mmetadata\u001b[0m\u001b[0;34m)\u001b[0m\u001b[0;34m\u001b[0m\u001b[0;34m\u001b[0m\u001b[0m\n\u001b[1;32m    243\u001b[0m     \u001b[0;32melse\u001b[0m\u001b[0;34m:\u001b[0m\u001b[0;34m\u001b[0m\u001b[0;34m\u001b[0m\u001b[0m\n\u001b[0;32m--> 244\u001b[0;31m       \u001b[0;32mraise\u001b[0m \u001b[0mFileNotUploadedError\u001b[0m\u001b[0;34m(\u001b[0m\u001b[0;34m)\u001b[0m\u001b[0;34m\u001b[0m\u001b[0;34m\u001b[0m\u001b[0m\n\u001b[0m\u001b[1;32m    245\u001b[0m \u001b[0;34m\u001b[0m\u001b[0m\n\u001b[1;32m    246\u001b[0m   \u001b[0;34m@\u001b[0m\u001b[0mLoadMetadata\u001b[0m\u001b[0;34m\u001b[0m\u001b[0;34m\u001b[0m\u001b[0m\n",
            "\u001b[0;31mFileNotUploadedError\u001b[0m: "
          ]
        }
      ]
    },
    {
      "cell_type": "code",
      "metadata": {
        "id": "L3nq64MHNv8E",
        "colab_type": "code",
        "colab": {}
      },
      "source": [
        "text_file = open(\"your desired name.txt\", \"w\")\n",
        "text_file.write(file)    \n",
        "text_file.close()"
      ],
      "execution_count": 0,
      "outputs": []
    },
    {
      "cell_type": "code",
      "metadata": {
        "id": "8IgoSmtYNyrw",
        "colab_type": "code",
        "outputId": "cfc1bdff-789d-44a6-8156-f4e302cdbbc1",
        "colab": {
          "base_uri": "https://localhost:8080/",
          "height": 54
        }
      },
      "source": [
        "uploaded = drive.CreateFile({'title': 'model_stocks.h5'})\n",
        "uploaded.SetContentFile('model_stocks.h5')\n",
        "uploaded.Upload()\n",
        "print('Uploaded file with ID {}'.format(uploaded.get('id')))"
      ],
      "execution_count": 0,
      "outputs": [
        {
          "output_type": "stream",
          "text": [
            "Uploaded file with ID 1_EXFhc4qpxae3y7hOKRSx0jDa4FA26J3\n"
          ],
          "name": "stdout"
        }
      ]
    },
    {
      "cell_type": "code",
      "metadata": {
        "id": "bHw9w1fmN1kr",
        "colab_type": "code",
        "colab": {}
      },
      "source": [
        "from google.colab import files\n",
        "files.download('model_stocks.h5')"
      ],
      "execution_count": 0,
      "outputs": []
    }
  ]
}