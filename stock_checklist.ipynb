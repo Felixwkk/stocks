{
  "nbformat": 4,
  "nbformat_minor": 0,
  "metadata": {
    "colab": {
      "name": "stock checklist",
      "provenance": [],
      "collapsed_sections": [],
      "authorship_tag": "ABX9TyOqH6BPQVJ32k37p6QGlRRb",
      "include_colab_link": true
    },
    "kernelspec": {
      "name": "python3",
      "display_name": "Python 3"
    }
  },
  "cells": [
    {
      "cell_type": "markdown",
      "metadata": {
        "id": "view-in-github",
        "colab_type": "text"
      },
      "source": [
        "<a href=\"https://colab.research.google.com/github/Felixwkk/stocks/blob/master/stock_checklist.ipynb\" target=\"_parent\"><img src=\"https://colab.research.google.com/assets/colab-badge.svg\" alt=\"Open In Colab\"/></a>"
      ]
    },
    {
      "cell_type": "markdown",
      "metadata": {
        "id": "fScz8jfSreHy",
        "colab_type": "text"
      },
      "source": [
        "One-year Price chart with 50-day moving average.\n",
        "\n",
        "1.   Buying a stock while it’s in a downtrend is dangerous, as it will likely move lower. A stock is in a downtrend if its price is below its moving average (MA), and in an uptrend if above. Use the 50-day Simple Moving Average (SMA). \n",
        "2.   O.K. to buy if stock price is above its 50-day moving average.\n",
        "\n",
        "\n"
      ]
    },
    {
      "cell_type": "code",
      "metadata": {
        "id": "H9q0eoAirX7o",
        "colab_type": "code",
        "colab": {}
      },
      "source": [
        "import numpy as np\n",
        "import pandas as pd\n",
        "import pandas_datareader as spr\n",
        "import matplotlib.pyplot as plt\n",
        "import datetime\n",
        "from datetime import timedelta\n",
        "from bs4 import BeautifulSoup\n",
        "import requests\n",
        "\n",
        "plt.style.use('fivethirtyeight')\n",
        "plt.rcParams['figure.figsize'] = (25,12)"
      ],
      "execution_count": 0,
      "outputs": []
    },
    {
      "cell_type": "markdown",
      "metadata": {
        "id": "UPreyaAcw9VC",
        "colab_type": "text"
      },
      "source": [
        "AEM analysis example"
      ]
    },
    {
      "cell_type": "code",
      "metadata": {
        "id": "Wjurgzp-rfD8",
        "colab_type": "code",
        "outputId": "18e98458-ea80-4739-c0c3-842ecb7b36c8",
        "colab": {
          "base_uri": "https://localhost:8080/",
          "height": 68
        }
      },
      "source": [
        "# pick a AEM symbol from Yahoo Finance\n",
        "\n",
        "stocks = spr.get_data_yahoo('AWX.SI', start = datetime.datetime(2015,1,1), end = datetime.datetime(2020,2,11))\n",
        "recommend = ['Item','Buy','Sell']\n",
        "recommendation = pd.DataFrame(columns =recommend )\n",
        "recommendation"
      ],
      "execution_count": 60,
      "outputs": [
        {
          "output_type": "execute_result",
          "data": {
            "text/html": [
              "<div>\n",
              "<style scoped>\n",
              "    .dataframe tbody tr th:only-of-type {\n",
              "        vertical-align: middle;\n",
              "    }\n",
              "\n",
              "    .dataframe tbody tr th {\n",
              "        vertical-align: top;\n",
              "    }\n",
              "\n",
              "    .dataframe thead th {\n",
              "        text-align: right;\n",
              "    }\n",
              "</style>\n",
              "<table border=\"1\" class=\"dataframe\">\n",
              "  <thead>\n",
              "    <tr style=\"text-align: right;\">\n",
              "      <th></th>\n",
              "      <th>Item</th>\n",
              "      <th>Buy</th>\n",
              "      <th>Sell</th>\n",
              "    </tr>\n",
              "  </thead>\n",
              "  <tbody>\n",
              "  </tbody>\n",
              "</table>\n",
              "</div>"
            ],
            "text/plain": [
              "Empty DataFrame\n",
              "Columns: [Item, Buy, Sell]\n",
              "Index: []"
            ]
          },
          "metadata": {
            "tags": []
          },
          "execution_count": 60
        }
      ]
    },
    {
      "cell_type": "code",
      "metadata": {
        "id": "yPHZxIKq_SBA",
        "colab_type": "code",
        "colab": {}
      },
      "source": [
        "# moving average of 20, 50, 200 days\n",
        "df = stocks \n",
        "df['SMA_20'] = df.iloc[:,1].rolling(window=20).mean()\n",
        "df['SMA_50'] = df.iloc[:,1].rolling(window=50).mean()\n",
        "df['SMA_200'] = df.iloc[:,1].rolling(window=200).mean()\n"
      ],
      "execution_count": 0,
      "outputs": []
    },
    {
      "cell_type": "code",
      "metadata": {
        "id": "MIF7ii7I08pG",
        "colab_type": "code",
        "colab": {}
      },
      "source": [
        "stocks = stocks.reindex(index = stocks.index[::-1]) # reindex from latest date\n",
        "df = df.reindex(index = df.index[::-1])"
      ],
      "execution_count": 0,
      "outputs": []
    },
    {
      "cell_type": "code",
      "metadata": {
        "id": "fxXVCb4-85v5",
        "colab_type": "code",
        "outputId": "360bd540-2452-4914-a1a7-ff5a00f83edf",
        "colab": {
          "base_uri": "https://localhost:8080/",
          "height": 252
        }
      },
      "source": [
        "stocks.head()"
      ],
      "execution_count": 63,
      "outputs": [
        {
          "output_type": "execute_result",
          "data": {
            "text/html": [
              "<div>\n",
              "<style scoped>\n",
              "    .dataframe tbody tr th:only-of-type {\n",
              "        vertical-align: middle;\n",
              "    }\n",
              "\n",
              "    .dataframe tbody tr th {\n",
              "        vertical-align: top;\n",
              "    }\n",
              "\n",
              "    .dataframe thead th {\n",
              "        text-align: right;\n",
              "    }\n",
              "</style>\n",
              "<table border=\"1\" class=\"dataframe\">\n",
              "  <thead>\n",
              "    <tr style=\"text-align: right;\">\n",
              "      <th></th>\n",
              "      <th>High</th>\n",
              "      <th>Low</th>\n",
              "      <th>Open</th>\n",
              "      <th>Close</th>\n",
              "      <th>Volume</th>\n",
              "      <th>Adj Close</th>\n",
              "      <th>SMA_20</th>\n",
              "      <th>SMA_50</th>\n",
              "      <th>SMA_200</th>\n",
              "    </tr>\n",
              "    <tr>\n",
              "      <th>Date</th>\n",
              "      <th></th>\n",
              "      <th></th>\n",
              "      <th></th>\n",
              "      <th></th>\n",
              "      <th></th>\n",
              "      <th></th>\n",
              "      <th></th>\n",
              "      <th></th>\n",
              "      <th></th>\n",
              "    </tr>\n",
              "  </thead>\n",
              "  <tbody>\n",
              "    <tr>\n",
              "      <th>2020-02-12</th>\n",
              "      <td>2.02</td>\n",
              "      <td>1.93</td>\n",
              "      <td>1.95</td>\n",
              "      <td>2.01</td>\n",
              "      <td>8349700.0</td>\n",
              "      <td>2.01</td>\n",
              "      <td>1.9860</td>\n",
              "      <td>1.9574</td>\n",
              "      <td>1.37105</td>\n",
              "    </tr>\n",
              "    <tr>\n",
              "      <th>2020-02-11</th>\n",
              "      <td>1.96</td>\n",
              "      <td>1.90</td>\n",
              "      <td>1.90</td>\n",
              "      <td>1.95</td>\n",
              "      <td>9512400.0</td>\n",
              "      <td>1.95</td>\n",
              "      <td>1.9965</td>\n",
              "      <td>1.9550</td>\n",
              "      <td>1.36705</td>\n",
              "    </tr>\n",
              "    <tr>\n",
              "      <th>2020-02-10</th>\n",
              "      <td>1.89</td>\n",
              "      <td>1.81</td>\n",
              "      <td>1.83</td>\n",
              "      <td>1.88</td>\n",
              "      <td>3480400.0</td>\n",
              "      <td>1.88</td>\n",
              "      <td>2.0100</td>\n",
              "      <td>1.9514</td>\n",
              "      <td>1.36295</td>\n",
              "    </tr>\n",
              "    <tr>\n",
              "      <th>2020-02-07</th>\n",
              "      <td>1.95</td>\n",
              "      <td>1.86</td>\n",
              "      <td>1.95</td>\n",
              "      <td>1.87</td>\n",
              "      <td>6246400.0</td>\n",
              "      <td>1.87</td>\n",
              "      <td>2.0235</td>\n",
              "      <td>1.9492</td>\n",
              "      <td>1.35910</td>\n",
              "    </tr>\n",
              "    <tr>\n",
              "      <th>2020-02-06</th>\n",
              "      <td>1.97</td>\n",
              "      <td>1.91</td>\n",
              "      <td>1.94</td>\n",
              "      <td>1.96</td>\n",
              "      <td>6254700.0</td>\n",
              "      <td>1.96</td>\n",
              "      <td>2.0320</td>\n",
              "      <td>1.9476</td>\n",
              "      <td>1.35495</td>\n",
              "    </tr>\n",
              "  </tbody>\n",
              "</table>\n",
              "</div>"
            ],
            "text/plain": [
              "            High   Low  Open  Close  ...  Adj Close  SMA_20  SMA_50  SMA_200\n",
              "Date                                 ...                                    \n",
              "2020-02-12  2.02  1.93  1.95   2.01  ...       2.01  1.9860  1.9574  1.37105\n",
              "2020-02-11  1.96  1.90  1.90   1.95  ...       1.95  1.9965  1.9550  1.36705\n",
              "2020-02-10  1.89  1.81  1.83   1.88  ...       1.88  2.0100  1.9514  1.36295\n",
              "2020-02-07  1.95  1.86  1.95   1.87  ...       1.87  2.0235  1.9492  1.35910\n",
              "2020-02-06  1.97  1.91  1.94   1.96  ...       1.96  2.0320  1.9476  1.35495\n",
              "\n",
              "[5 rows x 9 columns]"
            ]
          },
          "metadata": {
            "tags": []
          },
          "execution_count": 63
        }
      ]
    },
    {
      "cell_type": "code",
      "metadata": {
        "id": "IXrL6Q1jAUlq",
        "colab_type": "code",
        "outputId": "80602ce9-34ae-4afc-9be4-00bc52740cc9",
        "colab": {
          "base_uri": "https://localhost:8080/",
          "height": 252
        }
      },
      "source": [
        "df.head()"
      ],
      "execution_count": 64,
      "outputs": [
        {
          "output_type": "execute_result",
          "data": {
            "text/html": [
              "<div>\n",
              "<style scoped>\n",
              "    .dataframe tbody tr th:only-of-type {\n",
              "        vertical-align: middle;\n",
              "    }\n",
              "\n",
              "    .dataframe tbody tr th {\n",
              "        vertical-align: top;\n",
              "    }\n",
              "\n",
              "    .dataframe thead th {\n",
              "        text-align: right;\n",
              "    }\n",
              "</style>\n",
              "<table border=\"1\" class=\"dataframe\">\n",
              "  <thead>\n",
              "    <tr style=\"text-align: right;\">\n",
              "      <th></th>\n",
              "      <th>High</th>\n",
              "      <th>Low</th>\n",
              "      <th>Open</th>\n",
              "      <th>Close</th>\n",
              "      <th>Volume</th>\n",
              "      <th>Adj Close</th>\n",
              "      <th>SMA_20</th>\n",
              "      <th>SMA_50</th>\n",
              "      <th>SMA_200</th>\n",
              "    </tr>\n",
              "    <tr>\n",
              "      <th>Date</th>\n",
              "      <th></th>\n",
              "      <th></th>\n",
              "      <th></th>\n",
              "      <th></th>\n",
              "      <th></th>\n",
              "      <th></th>\n",
              "      <th></th>\n",
              "      <th></th>\n",
              "      <th></th>\n",
              "    </tr>\n",
              "  </thead>\n",
              "  <tbody>\n",
              "    <tr>\n",
              "      <th>2020-02-12</th>\n",
              "      <td>2.02</td>\n",
              "      <td>1.93</td>\n",
              "      <td>1.95</td>\n",
              "      <td>2.01</td>\n",
              "      <td>8349700.0</td>\n",
              "      <td>2.01</td>\n",
              "      <td>1.9860</td>\n",
              "      <td>1.9574</td>\n",
              "      <td>1.37105</td>\n",
              "    </tr>\n",
              "    <tr>\n",
              "      <th>2020-02-11</th>\n",
              "      <td>1.96</td>\n",
              "      <td>1.90</td>\n",
              "      <td>1.90</td>\n",
              "      <td>1.95</td>\n",
              "      <td>9512400.0</td>\n",
              "      <td>1.95</td>\n",
              "      <td>1.9965</td>\n",
              "      <td>1.9550</td>\n",
              "      <td>1.36705</td>\n",
              "    </tr>\n",
              "    <tr>\n",
              "      <th>2020-02-10</th>\n",
              "      <td>1.89</td>\n",
              "      <td>1.81</td>\n",
              "      <td>1.83</td>\n",
              "      <td>1.88</td>\n",
              "      <td>3480400.0</td>\n",
              "      <td>1.88</td>\n",
              "      <td>2.0100</td>\n",
              "      <td>1.9514</td>\n",
              "      <td>1.36295</td>\n",
              "    </tr>\n",
              "    <tr>\n",
              "      <th>2020-02-07</th>\n",
              "      <td>1.95</td>\n",
              "      <td>1.86</td>\n",
              "      <td>1.95</td>\n",
              "      <td>1.87</td>\n",
              "      <td>6246400.0</td>\n",
              "      <td>1.87</td>\n",
              "      <td>2.0235</td>\n",
              "      <td>1.9492</td>\n",
              "      <td>1.35910</td>\n",
              "    </tr>\n",
              "    <tr>\n",
              "      <th>2020-02-06</th>\n",
              "      <td>1.97</td>\n",
              "      <td>1.91</td>\n",
              "      <td>1.94</td>\n",
              "      <td>1.96</td>\n",
              "      <td>6254700.0</td>\n",
              "      <td>1.96</td>\n",
              "      <td>2.0320</td>\n",
              "      <td>1.9476</td>\n",
              "      <td>1.35495</td>\n",
              "    </tr>\n",
              "  </tbody>\n",
              "</table>\n",
              "</div>"
            ],
            "text/plain": [
              "            High   Low  Open  Close  ...  Adj Close  SMA_20  SMA_50  SMA_200\n",
              "Date                                 ...                                    \n",
              "2020-02-12  2.02  1.93  1.95   2.01  ...       2.01  1.9860  1.9574  1.37105\n",
              "2020-02-11  1.96  1.90  1.90   1.95  ...       1.95  1.9965  1.9550  1.36705\n",
              "2020-02-10  1.89  1.81  1.83   1.88  ...       1.88  2.0100  1.9514  1.36295\n",
              "2020-02-07  1.95  1.86  1.95   1.87  ...       1.87  2.0235  1.9492  1.35910\n",
              "2020-02-06  1.97  1.91  1.94   1.96  ...       1.96  2.0320  1.9476  1.35495\n",
              "\n",
              "[5 rows x 9 columns]"
            ]
          },
          "metadata": {
            "tags": []
          },
          "execution_count": 64
        }
      ]
    },
    {
      "cell_type": "code",
      "metadata": {
        "id": "XP20Aw94BVnR",
        "colab_type": "code",
        "outputId": "929b382b-cd51-4a89-e48e-f3eb4a775cae",
        "colab": {
          "base_uri": "https://localhost:8080/",
          "height": 785
        }
      },
      "source": [
        "plt.grid(True)\n",
        "plt.plot(df['Close'],label='data')\n",
        "plt.plot(df['SMA_20'],label='SMA  20 Days')\n",
        "plt.plot(df['SMA_50'],label='SMA 50 Days')\n",
        "plt.plot(df['SMA_200'], label = 'SMA 200 Days')\n",
        "plt.legend(loc=2)"
      ],
      "execution_count": 65,
      "outputs": [
        {
          "output_type": "execute_result",
          "data": {
            "text/plain": [
              "<matplotlib.legend.Legend at 0x7ff304302748>"
            ]
          },
          "metadata": {
            "tags": []
          },
          "execution_count": 65
        },
        {
          "output_type": "display_data",
          "data": {
            "image/png": "[encoded data removed]",
            "text/plain": [
              "<Figure size 1800x864 with 1 Axes>"
            ]
          },
          "metadata": {
            "tags": []
          }
        }
      ]
    },
    {
      "cell_type": "code",
      "metadata": {
        "id": "3v7Dm5Y4CpTj",
        "colab_type": "code",
        "outputId": "5236bbfb-4f5b-4ac2-826d-c43c445a99ac",
        "colab": {
          "base_uri": "https://localhost:8080/",
          "height": 149
        }
      },
      "source": [
        "df['Close'][0]\n",
        "print('Latest Stock price :-', df['Close'][0])\n",
        "print('50 Days moving average :-' ,df['SMA_50'][49])\n",
        "\n",
        "if df['Close'][0] >= df['SMA_50'][49]:\n",
        "  print('Is the stock price above the 50 days moving average ? Yes, Buy')\n",
        "  recommendation.loc[0]=['Stock Price above 50 days moving average','Buy','']\n",
        "else:\n",
        "  print('Do not Buy')\n",
        "  recommendation.loc[0]=['Stock Price below 50 datys moving average', '', 'Sell']\n",
        "recommendation"
      ],
      "execution_count": 66,
      "outputs": [
        {
          "output_type": "stream",
          "text": [
            "Latest Stock price :- 2.009999990463257\n",
            "50 Days moving average :- 1.4603999948501587\n",
            "Is the stock price above the 50 days moving average ? Yes, Buy\n"
          ],
          "name": "stdout"
        },
        {
          "output_type": "execute_result",
          "data": {
            "text/html": [
              "<div>\n",
              "<style scoped>\n",
              "    .dataframe tbody tr th:only-of-type {\n",
              "        vertical-align: middle;\n",
              "    }\n",
              "\n",
              "    .dataframe tbody tr th {\n",
              "        vertical-align: top;\n",
              "    }\n",
              "\n",
              "    .dataframe thead th {\n",
              "        text-align: right;\n",
              "    }\n",
              "</style>\n",
              "<table border=\"1\" class=\"dataframe\">\n",
              "  <thead>\n",
              "    <tr style=\"text-align: right;\">\n",
              "      <th></th>\n",
              "      <th>Item</th>\n",
              "      <th>Buy</th>\n",
              "      <th>Sell</th>\n",
              "    </tr>\n",
              "  </thead>\n",
              "  <tbody>\n",
              "    <tr>\n",
              "      <th>0</th>\n",
              "      <td>Stock Price above 50 days moving average</td>\n",
              "      <td>Buy</td>\n",
              "      <td></td>\n",
              "    </tr>\n",
              "  </tbody>\n",
              "</table>\n",
              "</div>"
            ],
            "text/plain": [
              "                                       Item  Buy Sell\n",
              "0  Stock Price above 50 days moving average  Buy     "
            ]
          },
          "metadata": {
            "tags": []
          },
          "execution_count": 66
        }
      ]
    },
    {
      "cell_type": "markdown",
      "metadata": {
        "id": "YamSD7nAHehE",
        "colab_type": "text"
      },
      "source": [
        "Price/Sales ratio (P/S)\n",
        "\n",
        "1.   Valuation check. A stock with a P/S above 10 is momentum priced.\n",
        "2.   O.K. to buy if P/S is less than 10. P/S ratios between 3 and 5 are best for growth stocks.\n",
        "3.   Ratios below 2 reflect value priced stocks.  \n",
        "\n",
        "\n",
        "\n"
      ]
    },
    {
      "cell_type": "code",
      "metadata": {
        "id": "BKL4VVvbHd-z",
        "colab_type": "code",
        "colab": {}
      },
      "source": [
        "url = 'https://sg.finance.yahoo.com/quote/AWX.SI/key-statistics?p=AWX.SI'\n",
        "page = requests.get(url)\n",
        "soup = BeautifulSoup(page.content, 'html.parser')\n"
      ],
      "execution_count": 0,
      "outputs": []
    },
    {
      "cell_type": "code",
      "metadata": {
        "id": "ivkKBqsAJgK-",
        "colab_type": "code",
        "outputId": "0424ddac-0364-4167-cbd8-a8b083fb4a94",
        "colab": {
          "base_uri": "https://localhost:8080/",
          "height": 71
        }
      },
      "source": [
        "# web scrape to find price/sales ratio\n",
        "price_sales = soup.find_all('span',attrs ={'data-reactid':'53'})\n",
        "price_sales_number = soup.find('td',attrs = {'data-reactid' :'57'} )\n",
        "print('Price.Sales Ratio :- ', price_sales_number.text)\n",
        "if float(price_sales_number.text) < 5:\n",
        "  print('Stock is ok to Buy')\n",
        "  recommendation.loc[1] = (' Price/Sales Ratio is below 5', 'Buy','')\n",
        "else:\n",
        "  print('DO not buy')\n",
        "  recommendation[1] = ('Price/Sales Ratio is above 5','','Sell')"
      ],
      "execution_count": 68,
      "outputs": [
        {
          "output_type": "stream",
          "text": [
            "Price.Sales Ratio :-  2.09\n",
            "Stock is ok to Buy\n"
          ],
          "name": "stdout"
        }
      ]
    },
    {
      "cell_type": "markdown",
      "metadata": {
        "id": "YatT_6NQyPcQ",
        "colab_type": "text"
      },
      "source": [
        "Cash Flow\n",
        "\n",
        "1.   Companies with positive operating cash flow are safer investments than cash burners (negative cash flow). \n",
        "2.   O.K. to buy if Cash Flow is a positive number. def value_to_float(x):\n",
        "    \n",
        "\n",
        "\n"
      ]
    },
    {
      "cell_type": "code",
      "metadata": {
        "id": "rAVrOrt0Klq6",
        "colab_type": "code",
        "outputId": "37f3f4c3-20b4-4db4-a785-60a84cf33173",
        "colab": {
          "base_uri": "https://localhost:8080/",
          "height": 87
        }
      },
      "source": [
        "def value_to_float(x):\n",
        "    if type(x) == float or type(x) == int:\n",
        "        return x\n",
        "    if 'K' in x:\n",
        "        if len(x) > 1:\n",
        "            return float(x.replace('K', '')) * 1000\n",
        "        return 1000.0\n",
        "    if 'M' in x:\n",
        "        if len(x) > 1:\n",
        "            return float(x.replace('M', '')) * 1000000\n",
        "        return 1000000.0\n",
        "    if 'B' in x:\n",
        "        return float(x.replace('B', '')) * 1000000000\n",
        "    if ',' in x:\n",
        "        return float(x.replace(',',''))\n",
        "    return 0.0\n",
        "\n",
        "\n",
        "# Find cash flow\n",
        "cash = soup.find_all('td', class_ = 'Fz(s) Fw(500) Ta(end) Pstart(10px) Miw(60px)')\n",
        "cash_flow = soup.find('td', attrs = {'data-reactid' : '496'})\n",
        "cash_flow_lever = soup.find('td', attrs = {'data-reactid' : '503'})\n",
        "\n",
        "print('Operating cash flow :-', cash_flow.text)\n",
        "print('Levered free cash flow :-' , cash_flow_lever.text)\n",
        "\n",
        "if value_to_float(cash_flow.text) >0:\n",
        "  print('Stock can buy as the cash flow is positive')\n",
        "  recommendation.loc[2] = ['Cash Flow Positive', 'Buy','']\n",
        "else:\n",
        "  print('Stock cannot buy')\n",
        "  recommendation.loc[2] = ['Cash Flow Postive', '', 'Sell']"
      ],
      "execution_count": 69,
      "outputs": [
        {
          "output_type": "stream",
          "text": [
            "Operating cash flow :- 38.64M\n",
            "Levered free cash flow :- 26.35M\n",
            "Stock can buy as the cash flow is positive\n"
          ],
          "name": "stdout"
        }
      ]
    },
    {
      "cell_type": "markdown",
      "metadata": {
        "id": "2xxY4kSSAdeu",
        "colab_type": "text"
      },
      "source": [
        "Average Daily Volume (shares)\n",
        "\n",
        "\n",
        "1.   O.K. to buy if Average Daily Volume is 150,000 shares or higher, and above one million shares is best. \n",
        "\n",
        "\n"
      ]
    },
    {
      "cell_type": "code",
      "metadata": {
        "id": "pUXNY4e_R8ru",
        "colab_type": "code",
        "outputId": "d791bdad-ce67-4bca-fb21-f20ffbb0d31d",
        "colab": {
          "base_uri": "https://localhost:8080/",
          "height": 87
        }
      },
      "source": [
        "print(' Average Volume of share in pase 100 days :-', df['Volume'][0:100].mean())\n",
        "print('Today\"s volume :- ', df['Volume'][0])\n",
        "if df['Volume'][0] <500000:\n",
        "  print('Stock cannot buy')\n",
        "  recommendation.loc[3] = ['Volume of Shares is low', '', 'Sell']\n",
        "elif df['Volume'][0]> 1000000:\n",
        "  print('Good Volume')\n",
        "  recommendation.loc[3] = ['Volume of Share is high','Buy','']    "
      ],
      "execution_count": 70,
      "outputs": [
        {
          "output_type": "stream",
          "text": [
            " Average Volume of share in pase 100 days :- 6906347.0\n",
            "Today\"s volume :-  8349700.0\n",
            "Good Volume\n"
          ],
          "name": "stdout"
        }
      ]
    },
    {
      "cell_type": "code",
      "metadata": {
        "id": "fiURlOMW1fax",
        "colab_type": "code",
        "outputId": "99f8940d-0201-4af7-c03f-c4bfc4542c53",
        "colab": {
          "base_uri": "https://localhost:8080/",
          "height": 316
        }
      },
      "source": [
        "# show last 200 trading days of volume\n",
        "plt.figure(figsize = (8,4))\n",
        "plt.plot(df['Volume'][:200])\n",
        "plt.ylabel('volume in (\"000,000)')\n",
        "plt.axhline(y=1000000, color='r', linestyle='-')\n",
        "plt.show()"
      ],
      "execution_count": 71,
      "outputs": [
        {
          "output_type": "display_data",
          "data": {
            "image/png": "[encoded data removed]",
            "text/plain": [
              "<Figure size 576x288 with 1 Axes>"
            ]
          },
          "metadata": {
            "tags": []
          }
        }
      ]
    },
    {
      "cell_type": "markdown",
      "metadata": {
        "id": "Qvo6tAGnCjP0",
        "colab_type": "text"
      },
      "source": [
        "Got Growth \n",
        "\n",
        "1.   O.K. to buy if recent quarterly growth numbers are 8% min. (higher is better). Best case is when year-over-year (YoY) growth is accelerating.\n",
        "\n",
        "\n"
      ]
    },
    {
      "cell_type": "code",
      "metadata": {
        "id": "ex6cmA-3EzQv",
        "colab_type": "code",
        "colab": {}
      },
      "source": [
        "# new url\n",
        "new_url = 'https://sg.finance.yahoo.com/quote/AWX.SI/financials?p=AWX.SI'\n",
        "new_page = requests.get(new_url)\n",
        "revenue_soup = BeautifulSoup(new_page.content,'html.parser')"
      ],
      "execution_count": 0,
      "outputs": []
    },
    {
      "cell_type": "code",
      "metadata": {
        "id": "MZfLKyXtCbl5",
        "colab_type": "code",
        "outputId": "5385fde4-d879-458f-ab86-449acb56094f",
        "colab": {
          "base_uri": "https://localhost:8080/",
          "height": 87
        }
      },
      "source": [
        "# read last quarters revenue\n",
        "revenue_q = revenue_soup.find('span' , attrs = {'data-reactid': '49'})\n",
        "revenue_q1 = revenue_soup.find('span', attrs = {'data-reactid':'51'})\n",
        "\n",
        "print('Current year Revenue :-', revenue_q.text)\n",
        "print('Previous year revenue :-', revenue_q1.text)\n",
        "\n",
        "if value_to_float(revenue_q.text) > value_to_float(revenue_q1.text):\n",
        "  print('Current year revenue is higher. Stock can buy')\n",
        "  recommendation.loc[4] = ['Current year revenue is higher than last year','Buy','']\n",
        "else:\n",
        "  print('Last year revenue is higher. Stock cannot buy')\n",
        "  recommendaiton.loc[4] = ['Current year revenue is lower than last year','','Sell']"
      ],
      "execution_count": 73,
      "outputs": [
        {
          "output_type": "stream",
          "text": [
            "Current year Revenue :- 273,832\n",
            "Previous year revenue :- 262,325\n",
            "Current year revenue is higher. Stock can buy\n"
          ],
          "name": "stdout"
        }
      ]
    },
    {
      "cell_type": "markdown",
      "metadata": {
        "id": "uGKTVRCaL_UJ",
        "colab_type": "text"
      },
      "source": [
        "Number of Analysts Making Buy/Hold/Sell Recs.\n",
        "\n",
        "\n",
        "1.   O.K. to buy if a total of at least four analysts are listed as currently making strong buy, buy, hold, underperform, or sell recommendations. \n",
        "2.   Look only at the total number of analysts making recommendations, not whether there are more buys than holds, etc. \n",
        "\n"
      ]
    },
    {
      "cell_type": "code",
      "metadata": {
        "id": "Bpgn44jiL-8W",
        "colab_type": "code",
        "colab": {}
      },
      "source": [
        "broker_url = 'https://sginvestors.io/sgx/stock/awx-aem/target-price'\n",
        "broker_page = requests.get(broker_url)\n",
        "soup_broker = BeautifulSoup(broker_page.content, 'html.parser')"
      ],
      "execution_count": 0,
      "outputs": []
    },
    {
      "cell_type": "code",
      "metadata": {
        "id": "09XQWYHxL_DV",
        "colab_type": "code",
        "colab": {}
      },
      "source": [
        ""
      ],
      "execution_count": 0,
      "outputs": []
    },
    {
      "cell_type": "code",
      "metadata": {
        "id": "yhEUopVICdnm",
        "colab_type": "code",
        "outputId": "08b87580-7f3d-48a1-e165-c57375f191c7",
        "colab": {
          "base_uri": "https://localhost:8080/",
          "height": 71
        }
      },
      "source": [
        "#find the number of brokers\n",
        "broker_count = soup_broker.find_all('div', class_='targetpriceitem')\n",
        "print('Number of Analysts :-', len(broker_count))\n",
        "if len(broker_count) <4:\n",
        "  print('Recommend at least Four Analysts to suggest a BUY')\n",
        "  recommendation.loc[5] = [' Number of Analyts is less than 4', '','Sell']\n",
        "else:\n",
        "  recommendation.loc[5] = ['Number of Analysts is more than 4', 'Buy','']"
      ],
      "execution_count": 75,
      "outputs": [
        {
          "output_type": "stream",
          "text": [
            "Number of Analysts :- 3\n",
            "Recommend at least Four Analysts to suggest a BUY\n"
          ],
          "name": "stdout"
        }
      ]
    },
    {
      "cell_type": "code",
      "metadata": {
        "id": "MtGRkansCORz",
        "colab_type": "code",
        "outputId": "201ade62-9148-4c11-a2cf-6956daa93593",
        "colab": {
          "base_uri": "https://localhost:8080/",
          "height": 253
        }
      },
      "source": [
        "print('The analysts List :-')\n",
        "for x in broker_count:\n",
        "  print(x.find('div' , class_='BROKER').text)\n",
        "  print('Date :', x.find('div', class_='tpdate').text)\n",
        "  print( x.find('div', class_= 'TPCALLBUY').text)\n",
        "  print( x.find('div', class_ = 'TPPRICE').text)"
      ],
      "execution_count": 76,
      "outputs": [
        {
          "output_type": "stream",
          "text": [
            "The analysts List :-\n",
            "CGS-CIMB\n",
            "Date : 2020-01-09\n",
            "Rating: ADD\n",
            "Price Target: 2.380\n",
            "DBS Research\n",
            "Date : 2019-12-12\n",
            "Rating: BUY\n",
            "Price Target: 2.380\n",
            "Maybank Kim Eng\n",
            "Date : 2020-02-10\n",
            "Rating: BUY\n",
            "Price Target: 2.580\n"
          ],
          "name": "stdout"
        }
      ]
    },
    {
      "cell_type": "markdown",
      "metadata": {
        "id": "mg0cG-keXQkG",
        "colab_type": "text"
      },
      "source": [
        "Gross Margin Trend\n",
        "\n",
        "\n",
        "1.   Changes in gross margin percentages from quarter to quarter point to changes in a company’s competitive position in its marketplace. \n",
        "2.   Increasing gross margins signal an improving competitive position, and declining margins warn of increasing competition. \n",
        "3.   Gross margin (GM) is the \"Gross Income\" divided by \"Revenue,\" expressed as a percentage.\n",
        "4.   Calculate the GM for each of the past 3 or more quarters, and observe the GM trend.\n",
        "\n",
        "O.K. to buy if the trend is flat or increasing (best). Ignore variations of less than 1%, e.g. from 41% to 40.5%.\n",
        "\n",
        "\n",
        "\n"
      ]
    },
    {
      "cell_type": "code",
      "metadata": {
        "id": "IIsuRGnG63Kx",
        "colab_type": "code",
        "colab": {
          "base_uri": "https://localhost:8080/",
          "height": 1000
        },
        "outputId": "ad7e51f8-9641-4ab4-c58f-154a04a34165"
      },
      "source": [
        "# using this trick to find the data-reactid values\n",
        "profit_q = revenue_soup.find_all('span', attrs= {})\n",
        "profit_q"
      ],
      "execution_count": 77,
      "outputs": [
        {
          "output_type": "execute_result",
          "data": {
            "text/plain": [
              "[<span data-reactid=\"31\">No matching results for ''</span>,\n",
              " <span data-reactid=\"33\">Tip: Try a valid symbol or a specific company name for relevant results</span>,\n",
              " <span data-reactid=\"36\">Cancel</span>,\n",
              " <span data-reactid=\"9\">Summary</span>,\n",
              " <span data-reactid=\"13\">Statistics</span>,\n",
              " <span data-reactid=\"17\">Historical data</span>,\n",
              " <span data-reactid=\"21\">Profile</span>,\n",
              " <span data-reactid=\"25\">Financials</span>,\n",
              " <span data-reactid=\"29\">Analysis</span>,\n",
              " <span data-reactid=\"33\">Options</span>,\n",
              " <span data-reactid=\"37\">Holders</span>,\n",
              " <span data-reactid=\"41\">Sustainability</span>,\n",
              " <span data-reactid=\"9\">SES - SES Delayed Price. Currency in SGD</span>,\n",
              " <span class=\"Mend(10px) smartphone_D(n)\" data-reactid=\"5\"><span data-reactid=\"6\">Show</span><!-- react-text: 7 -->:<!-- /react-text --></span>,\n",
              " <span data-reactid=\"6\">Show</span>,\n",
              " <span data-reactid=\"10\">Income statement</span>,\n",
              " <span data-reactid=\"13\">Balance sheet</span>,\n",
              " <span data-reactid=\"16\">Cash flow</span>,\n",
              " <span data-reactid=\"19\">Annual</span>,\n",
              " <span data-reactid=\"22\">Income statement</span>,\n",
              " <span class=\"Fz(xs) C($tertiaryColor) Mstart(25px) smartphone_Mstart(0px) smartphone_D(b) smartphone_Mt(5px)\" data-reactid=\"23\"><span data-reactid=\"24\">All numbers in thousands</span></span>,\n",
              " <span data-reactid=\"24\">All numbers in thousands</span>,\n",
              " <span data-reactid=\"31\">Breakdown</span>,\n",
              " <span data-reactid=\"34\">ttm</span>,\n",
              " <span data-reactid=\"36\">31/12/2018</span>,\n",
              " <span data-reactid=\"38\">31/12/2017</span>,\n",
              " <span data-reactid=\"40\">31/12/2016</span>,\n",
              " <span class=\"Va(m)\" data-reactid=\"46\">Total revenue</span>,\n",
              " <span data-reactid=\"49\">273,832</span>,\n",
              " <span data-reactid=\"51\">262,325</span>,\n",
              " <span data-reactid=\"53\">221,622</span>,\n",
              " <span data-reactid=\"55\">70,123</span>,\n",
              " <span class=\"Va(m)\" data-reactid=\"61\">Cost of revenue</span>,\n",
              " <span data-reactid=\"64\">170,270</span>,\n",
              " <span data-reactid=\"66\">173,222</span>,\n",
              " <span data-reactid=\"68\">148,599</span>,\n",
              " <span data-reactid=\"70\">43,889</span>,\n",
              " <span class=\"Va(m)\" data-reactid=\"76\">Gross profit</span>,\n",
              " <span data-reactid=\"79\">103,562</span>,\n",
              " <span data-reactid=\"81\">89,103</span>,\n",
              " <span data-reactid=\"83\">73,023</span>,\n",
              " <span data-reactid=\"85\">26,234</span>,\n",
              " <span class=\"Va(m)\" data-reactid=\"94\">Operating expenses</span>,\n",
              " <span class=\"Va(m)\" data-reactid=\"105\">Research development</span>,\n",
              " <span class=\"Va(m)\" data-reactid=\"116\">Selling general and administrative</span>,\n",
              " <span data-reactid=\"119\">9,240</span>,\n",
              " <span data-reactid=\"121\">6,516</span>,\n",
              " <span class=\"Va(m)\" data-reactid=\"129\">Total operating expenses</span>,\n",
              " <span data-reactid=\"132\">55,965</span>,\n",
              " <span data-reactid=\"134\">49,357</span>,\n",
              " <span data-reactid=\"136\">36,118</span>,\n",
              " <span data-reactid=\"138\">19,689</span>,\n",
              " <span class=\"Va(m)\" data-reactid=\"144\">Operating income or loss</span>,\n",
              " <span data-reactid=\"147\">47,597</span>,\n",
              " <span data-reactid=\"149\">39,746</span>,\n",
              " <span data-reactid=\"151\">36,905</span>,\n",
              " <span data-reactid=\"153\">6,545</span>,\n",
              " <span class=\"Va(m)\" data-reactid=\"159\">Interest expense</span>,\n",
              " <span data-reactid=\"162\">127</span>,\n",
              " <span data-reactid=\"164\">33</span>,\n",
              " <span data-reactid=\"166\">19</span>,\n",
              " <span data-reactid=\"168\">7</span>,\n",
              " <span class=\"Va(m)\" data-reactid=\"174\">Total other income/expenses net</span>,\n",
              " <span class=\"Va(m)\" data-reactid=\"185\">Income before tax</span>,\n",
              " <span data-reactid=\"188\">48,221</span>,\n",
              " <span data-reactid=\"190\">39,968</span>,\n",
              " <span data-reactid=\"192\">36,836</span>,\n",
              " <span data-reactid=\"194\">6,091</span>,\n",
              " <span class=\"Va(m)\" data-reactid=\"200\">Income tax expense</span>,\n",
              " <span data-reactid=\"203\">7,810</span>,\n",
              " <span data-reactid=\"205\">6,475</span>,\n",
              " <span data-reactid=\"207\">5,347</span>,\n",
              " <span data-reactid=\"209\">1,325</span>,\n",
              " <span class=\"Va(m)\" data-reactid=\"215\">Income from continuing operations</span>,\n",
              " <span data-reactid=\"218\">40,411</span>,\n",
              " <span data-reactid=\"220\">33,493</span>,\n",
              " <span data-reactid=\"222\">31,489</span>,\n",
              " <span data-reactid=\"224\">4,766</span>,\n",
              " <span class=\"Va(m)\" data-reactid=\"230\">Net income</span>,\n",
              " <span data-reactid=\"233\">40,411</span>,\n",
              " <span data-reactid=\"235\">33,493</span>,\n",
              " <span data-reactid=\"237\">31,489</span>,\n",
              " <span data-reactid=\"239\">4,657</span>,\n",
              " <span class=\"Va(m)\" data-reactid=\"245\">Net income available to common shareholders</span>,\n",
              " <span data-reactid=\"248\">40,411</span>,\n",
              " <span data-reactid=\"250\">33,493</span>,\n",
              " <span data-reactid=\"252\">31,489</span>,\n",
              " <span data-reactid=\"254\">4,657</span>,\n",
              " <span class=\"Va(m)\" data-reactid=\"263\">Reported EPS</span>,\n",
              " <span class=\"Va(m)\" data-reactid=\"274\">Basic</span>,\n",
              " <span class=\"Va(m)\" data-reactid=\"285\">Diluted</span>,\n",
              " <span class=\"Va(m)\" data-reactid=\"299\">Weighted average shares outstanding</span>,\n",
              " <span class=\"Va(m)\" data-reactid=\"310\">Basic</span>,\n",
              " <span data-reactid=\"314\">272,020</span>,\n",
              " <span data-reactid=\"316\">260,300</span>,\n",
              " <span data-reactid=\"318\">261,528</span>,\n",
              " <span class=\"Va(m)\" data-reactid=\"324\">Diluted</span>,\n",
              " <span data-reactid=\"328\">274,227</span>,\n",
              " <span data-reactid=\"330\">265,320</span>,\n",
              " <span data-reactid=\"332\">262,782</span>,\n",
              " <span class=\"Va(m)\" data-reactid=\"338\">EBITDA</span>,\n",
              " <span data-reactid=\"342\">41,872</span>,\n",
              " <span data-reactid=\"344\">37,553</span>,\n",
              " <span data-reactid=\"346\">6,953</span>,\n",
              " <span data-reactid=\"2\"></span>,\n",
              " <span data-reactid=\"2\"></span>,\n",
              " <span data-reactid=\"2\"></span>,\n",
              " <span data-reactid=\"7\">Data Disclaimer</span>,\n",
              " <span data-reactid=\"9\">Help</span>,\n",
              " <span data-reactid=\"11\">Suggestions</span>,\n",
              " <span data-reactid=\"16\">Privacy (Updated)</span>,\n",
              " <span data-reactid=\"18\">About Our Ads</span>,\n",
              " <span data-reactid=\"20\">Terms (Updated)</span>,\n",
              " <span class=\" C($grey6)\" data-reactid=\"33\"><span data-reactid=\"34\">© 2020 Verizon Media. All rights reserved.</span></span>,\n",
              " <span data-reactid=\"34\">© 2020 Verizon Media. All rights reserved.</span>]"
            ]
          },
          "metadata": {
            "tags": []
          },
          "execution_count": 77
        }
      ]
    },
    {
      "cell_type": "code",
      "metadata": {
        "id": "_USHtcRWaN4m",
        "colab_type": "code",
        "outputId": "3cadd502-285d-457b-8893-87138ab7b9d5",
        "colab": {
          "base_uri": "https://localhost:8080/",
          "height": 87
        }
      },
      "source": [
        "profit_q1 = revenue_soup.find('span', attrs= {'data-reactid': '81'})\n",
        "profit_q2 = revenue_soup.find('span', attrs = {'data-reactid':'83'})\n",
        "profit_q3 = revenue_soup.find('span', attrs = {'data-reactid': '85'})\n",
        "\n",
        "print('Gross Margins for current Year :-' , profit_q1.text)\n",
        "print('Gross Margins for previous Year :-', profit_q2.text)\n",
        "print('Gross Margins for last two Years :-', profit_q3.text)\n"
      ],
      "execution_count": 78,
      "outputs": [
        {
          "output_type": "stream",
          "text": [
            "Gross Margins for current Year :- 89,103\n",
            "Gross Margins for previous Year :- 73,023\n",
            "Gross Margins for last two Years :- 26,234\n"
          ],
          "name": "stdout"
        }
      ]
    },
    {
      "cell_type": "code",
      "metadata": {
        "id": "oe9jPmBKbajF",
        "colab_type": "code",
        "outputId": "b564bd46-f446-4613-b6bc-345b38e0d632",
        "colab": {
          "base_uri": "https://localhost:8080/",
          "height": 302
        }
      },
      "source": [
        "profit = [value_to_float(profit_q3.text),value_to_float(profit_q2.text), value_to_float(profit_q1.text)]\n",
        "quarters = ['A1','A2','A3']\n",
        "plt.figure(figsize = (3,4))\n",
        "plt.bar(quarters, profit)\n",
        "plt.ylabel('Gross Margins SGD (\"000)')\n",
        "plt.show()"
      ],
      "execution_count": 79,
      "outputs": [
        {
          "output_type": "display_data",
          "data": {
            "image/png": "[encoded data removed]",
            "text/plain": [
              "<Figure size 216x288 with 1 Axes>"
            ]
          },
          "metadata": {
            "tags": []
          }
        }
      ]
    },
    {
      "cell_type": "code",
      "metadata": {
        "id": "qJLwCzwve__b",
        "colab_type": "code",
        "outputId": "6c643f4f-c870-4667-9984-865c2b02b59a",
        "colab": {
          "base_uri": "https://localhost:8080/",
          "height": 54
        }
      },
      "source": [
        "if value_to_float(profit_q1.text) > value_to_float(profit_q2.text) > value_to_float(profit_q3.text):\n",
        "  print('Stock is good to buy as the gross margins are growing every year')\n",
        "  recommendation.loc[5] = ['Annual gross margin is higher than previous year','Buy','']\n",
        "else :\n",
        "  print('Stock gross margins is not growing')\n",
        "  recommendation.loc[5] = ['Annual gross margin is decling ','','Sell']"
      ],
      "execution_count": 80,
      "outputs": [
        {
          "output_type": "stream",
          "text": [
            "Stock is good to buy as the gross margins are growing every year\n"
          ],
          "name": "stdout"
        }
      ]
    },
    {
      "cell_type": "code",
      "metadata": {
        "id": "Jn-xhK-ygrsG",
        "colab_type": "code",
        "outputId": "167a6473-c3e5-4a38-e950-b30dade54539",
        "colab": {
          "base_uri": "https://localhost:8080/",
          "height": 71
        }
      },
      "source": [
        "def percentage(part, whole):\n",
        "  return 100 * float(whole - part)/float(whole)\n",
        "\n",
        "print('Profit growth Current YoY :-', percentage(value_to_float(profit_q2.text),value_to_float(profit_q1.text)),'%')\n",
        "print('Profit growth Previous Yoy :-', percentage(value_to_float(profit_q3.text), value_to_float(profit_q2.text)),'%')"
      ],
      "execution_count": 81,
      "outputs": [
        {
          "output_type": "stream",
          "text": [
            "Profit growth Current YoY :- 18.046530419851184 %\n",
            "Profit growth Previous Yoy :- 64.07433274447777 %\n"
          ],
          "name": "stdout"
        }
      ]
    },
    {
      "cell_type": "code",
      "metadata": {
        "id": "rAkzdw5gtea5",
        "colab_type": "code",
        "colab": {}
      },
      "source": [
        "reuters_income_url = 'https://www.reuters.com/companies/AEM.SI/financials/income-statement-quarterly'\n",
        "reuters_page = requests.get(reuters_income_url, headers = {'User-Agent': 'test'})\n",
        "reuters_soup = BeautifulSoup(reuters_page.content, 'html.parser')"
      ],
      "execution_count": 0,
      "outputs": []
    },
    {
      "cell_type": "code",
      "metadata": {
        "id": "MVUzgcISuizy",
        "colab_type": "code",
        "colab": {}
      },
      "source": [
        "gross_q = reuters_soup.find_all('td', class_ = 'TextLabel__text-label___3oCVw TextLabel__black___2FN-Z TextLabel__regular___2X0ym digits')"
      ],
      "execution_count": 0,
      "outputs": []
    },
    {
      "cell_type": "code",
      "metadata": {
        "id": "1t01s0zGu3jc",
        "colab_type": "code",
        "outputId": "a066184e-164b-4b12-9bfe-014a66f8e478",
        "colab": {
          "base_uri": "https://localhost:8080/",
          "height": 54
        }
      },
      "source": [
        "five = 0\n",
        "gross = []\n",
        "for x in gross_q:\n",
        "  five += 1\n",
        "  if five <= 5:\n",
        "   gross.append(x.text)       \n",
        "  else:\n",
        "    exit\n",
        "gross = list(map(float, gross)) # convert from string to numbers\n",
        "gross"
      ],
      "execution_count": 84,
      "outputs": [
        {
          "output_type": "execute_result",
          "data": {
            "text/plain": [
              "[83.85, 97.92, 52.72, 39.35, 84.67]"
            ]
          },
          "metadata": {
            "tags": []
          },
          "execution_count": 84
        }
      ]
    },
    {
      "cell_type": "code",
      "metadata": {
        "id": "iczCjkZA4V2W",
        "colab_type": "code",
        "colab": {}
      },
      "source": [
        "\n",
        "#date_q = reuters_soup.findAll('time' , attrs ={'TextLabel__text-label___3oCVw TextLabel__black___2FN-Z TextLabel__medium___t9PWg'})\n",
        "\n",
        "date_q=''.join(reuters_soup.strings)\n",
        "\n"
      ],
      "execution_count": 0,
      "outputs": []
    },
    {
      "cell_type": "code",
      "metadata": {
        "id": "weYDbDVF5Z2B",
        "colab_type": "code",
        "colab": {}
      },
      "source": [
        "date_q =date_q.split('date\":\"')"
      ],
      "execution_count": 0,
      "outputs": []
    },
    {
      "cell_type": "code",
      "metadata": {
        "id": "pSdrg-MBereP",
        "colab_type": "code",
        "outputId": "951cc7a0-f3ff-46c9-e324-d8971337d274",
        "colab": {
          "base_uri": "https://localhost:8080/",
          "height": 120
        }
      },
      "source": [
        "date_q=date_q[-24:-19]\n",
        "date_q"
      ],
      "execution_count": 87,
      "outputs": [
        {
          "output_type": "execute_result",
          "data": {
            "text/plain": [
              "['2019-09-30\",\"value\":\"-14.418000\"},{\"',\n",
              " '2019-06-30\",\"value\":\"-7.745000\"},{\"',\n",
              " '2019-03-31\",\"value\":\"-0.769000\"},{\"',\n",
              " '2018-12-31\",\"value\":\"-9.223000\"},{\"',\n",
              " '2018-09-30\",\"value\":\"-9.133000\"}]},{\"name\":\"Foreign Exchange Effects\",\"data\":[{\"']"
            ]
          },
          "metadata": {
            "tags": []
          },
          "execution_count": 87
        }
      ]
    },
    {
      "cell_type": "code",
      "metadata": {
        "id": "bv9iIXLde_MN",
        "colab_type": "code",
        "outputId": "9517ea96-8ffd-49a4-8b90-b805e4839d10",
        "colab": {
          "base_uri": "https://localhost:8080/",
          "height": 54
        }
      },
      "source": [
        "# getting the dates\n",
        "n=0\n",
        "datelist = ''\n",
        "for x in date_q:\n",
        "  for y in x:\n",
        "    datelist = datelist + y\n",
        "    if n>9:\n",
        "      break\n",
        "    n+=1\n",
        "  n=0\n",
        "\n",
        "datelist = datelist.split('\"')\n",
        "datelist.pop(-1) # remove last row"
      ],
      "execution_count": 88,
      "outputs": [
        {
          "output_type": "execute_result",
          "data": {
            "text/plain": [
              "''"
            ]
          },
          "metadata": {
            "tags": []
          },
          "execution_count": 88
        }
      ]
    },
    {
      "cell_type": "code",
      "metadata": {
        "id": "tTXaA-2Njzwp",
        "colab_type": "code",
        "outputId": "cab919a5-8d04-4222-f2ba-9761a41064f2",
        "colab": {
          "base_uri": "https://localhost:8080/",
          "height": 54
        }
      },
      "source": [
        "datelist"
      ],
      "execution_count": 89,
      "outputs": [
        {
          "output_type": "execute_result",
          "data": {
            "text/plain": [
              "['2019-09-30', '2019-06-30', '2019-03-31', '2018-12-31', '2018-09-30']"
            ]
          },
          "metadata": {
            "tags": []
          },
          "execution_count": 89
        }
      ]
    },
    {
      "cell_type": "code",
      "metadata": {
        "id": "NhE-UcVQwqcM",
        "colab_type": "code",
        "outputId": "50a3db09-5f8a-4e91-d8ca-4d52da83b880",
        "colab": {
          "base_uri": "https://localhost:8080/",
          "height": 221
        }
      },
      "source": [
        "\n",
        "gross_margins = pd.DataFrame({'Gross': gross, 'Quarters':datelist})\n",
        "gross_margins"
      ],
      "execution_count": 90,
      "outputs": [
        {
          "output_type": "execute_result",
          "data": {
            "text/html": [
              "<div>\n",
              "<style scoped>\n",
              "    .dataframe tbody tr th:only-of-type {\n",
              "        vertical-align: middle;\n",
              "    }\n",
              "\n",
              "    .dataframe tbody tr th {\n",
              "        vertical-align: top;\n",
              "    }\n",
              "\n",
              "    .dataframe thead th {\n",
              "        text-align: right;\n",
              "    }\n",
              "</style>\n",
              "<table border=\"1\" class=\"dataframe\">\n",
              "  <thead>\n",
              "    <tr style=\"text-align: right;\">\n",
              "      <th></th>\n",
              "      <th>Gross</th>\n",
              "      <th>Quarters</th>\n",
              "    </tr>\n",
              "  </thead>\n",
              "  <tbody>\n",
              "    <tr>\n",
              "      <th>0</th>\n",
              "      <td>83.85</td>\n",
              "      <td>2019-09-30</td>\n",
              "    </tr>\n",
              "    <tr>\n",
              "      <th>1</th>\n",
              "      <td>97.92</td>\n",
              "      <td>2019-06-30</td>\n",
              "    </tr>\n",
              "    <tr>\n",
              "      <th>2</th>\n",
              "      <td>52.72</td>\n",
              "      <td>2019-03-31</td>\n",
              "    </tr>\n",
              "    <tr>\n",
              "      <th>3</th>\n",
              "      <td>39.35</td>\n",
              "      <td>2018-12-31</td>\n",
              "    </tr>\n",
              "    <tr>\n",
              "      <th>4</th>\n",
              "      <td>84.67</td>\n",
              "      <td>2018-09-30</td>\n",
              "    </tr>\n",
              "  </tbody>\n",
              "</table>\n",
              "</div>"
            ],
            "text/plain": [
              "   Gross    Quarters\n",
              "0  83.85  2019-09-30\n",
              "1  97.92  2019-06-30\n",
              "2  52.72  2019-03-31\n",
              "3  39.35  2018-12-31\n",
              "4  84.67  2018-09-30"
            ]
          },
          "metadata": {
            "tags": []
          },
          "execution_count": 90
        }
      ]
    },
    {
      "cell_type": "code",
      "metadata": {
        "id": "6MAXSgbczUbi",
        "colab_type": "code",
        "outputId": "62c9c927-e31e-4ab3-9209-62242c3bcb17",
        "colab": {
          "base_uri": "https://localhost:8080/",
          "height": 321
        }
      },
      "source": [
        "plt.figure(figsize=(6,4))\n",
        "plt.plot( gross_margins['Quarters'],gross_margins['Gross'])\n",
        "plt.legend(['Gross Margins'])\n",
        "plt.ylabel('Gross Margins (\"000) SGD')\n"
      ],
      "execution_count": 91,
      "outputs": [
        {
          "output_type": "execute_result",
          "data": {
            "text/plain": [
              "Text(0, 0.5, 'Gross Margins (\"000) SGD')"
            ]
          },
          "metadata": {
            "tags": []
          },
          "execution_count": 91
        },
        {
          "output_type": "display_data",
          "data": {
            "image/png": "[encoded data removed]",
            "text/plain": [
              "<Figure size 432x288 with 1 Axes>"
            ]
          },
          "metadata": {
            "tags": []
          }
        }
      ]
    },
    {
      "cell_type": "code",
      "metadata": {
        "id": "GWUQnOEA_tpx",
        "colab_type": "code",
        "outputId": "c39f3e27-eb8a-4d42-ce2c-f42a60987855",
        "colab": {
          "base_uri": "https://localhost:8080/",
          "height": 54
        }
      },
      "source": [
        "def growth_cal( values):\n",
        "  tmp=0\n",
        "  margin = []\n",
        "\n",
        "  for x in values:\n",
        "    z = x - values[tmp+1]\n",
        "    margin.append(z)\n",
        "    tmp +=1\n",
        "    if tmp == 4:\n",
        "      break\n",
        "  return margin\n",
        "margin = growth_cal(gross_margins['Gross'])\n",
        "margin"
      ],
      "execution_count": 92,
      "outputs": [
        {
          "output_type": "execute_result",
          "data": {
            "text/plain": [
              "[-14.070000000000007, 45.2, 13.369999999999997, -45.32]"
            ]
          },
          "metadata": {
            "tags": []
          },
          "execution_count": 92
        }
      ]
    },
    {
      "cell_type": "code",
      "metadata": {
        "id": "oIhq1ZeyLM9p",
        "colab_type": "code",
        "outputId": "838458c7-b970-47e5-873c-369dfe1b3d61",
        "colab": {
          "base_uri": "https://localhost:8080/",
          "height": 120
        }
      },
      "source": [
        "print('Quarter One vs Quarter Two Gross Margins :-', margin[0],'%')\n",
        "print('Quarter Two vs Quarter Three Gross Margins :-', margin[1],'%')\n",
        "print('Quarter Three vs Quarter Four Gross Margins :-', margin[2],'%')\n",
        "print('Quarter Four vs Quarter Five Gross Margins :-', margin[3],'%')\n",
        "\n",
        "if margin[0] > margin[1] > margin[2] > margin[3]:\n",
        "  print('QonQ growth of gross margins')\n",
        "  recommendation.loc[6] = ['Quarter margin has grown QonQ', 'Buy','']\n",
        "elif margin[0] > margin [1]:\n",
        "  print('Current quarter margin has increased')\n",
        "  recommmendation.loc[6] = ['Quarter margin has declined over last','', 'Sell']\n",
        "else:\n",
        "  print('Current quarter margin has decreased')\n",
        "  recommendation.loc[6] = ['Quarter margin has declined','','Sell']"
      ],
      "execution_count": 108,
      "outputs": [
        {
          "output_type": "stream",
          "text": [
            "Quarter One vs Quarter Two Gross Margins :- -11.719999999999999 %\n",
            "Quarter Two vs Quarter Three Gross Margins :- 20.78 %\n",
            "Quarter Three vs Quarter Four Gross Margins :- 9.899999999999999 %\n",
            "Quarter Four vs Quarter Five Gross Margins :- -9.769999999999996 %\n",
            "Current quarter margin has decreased\n"
          ],
          "name": "stdout"
        }
      ]
    },
    {
      "cell_type": "markdown",
      "metadata": {
        "id": "d_-j3seafbfY",
        "colab_type": "text"
      },
      "source": [
        "Revenue (sales)  Growth Rate\n",
        "Latest Quarter compared to previous quarter & most recent year.\n",
        "\n",
        "1.   Slowing revenue (sales) growth is a “red flag” signaling danger ahead. \n",
        "2.   Compare the most recent quarter's (MRQ) year-over-year sales growth rate to previous quarters and to the most recent year.\n",
        "\n",
        "Ideally, revenue growth would be accelerating or at least equal to earlier numbers. But, it's O.K. to buy if MRQ growth is at least 75% of recent growth numbers. \n",
        "\n"
      ]
    },
    {
      "cell_type": "code",
      "metadata": {
        "id": "IZaU33uTPRlW",
        "colab_type": "code",
        "colab": {}
      },
      "source": [
        "revenue_q = reuters_soup.find_all('td', class_ ='TextLabel__text-label___3oCVw TextLabel__black___2FN-Z TextLabel__regular___2X0ym digits')"
      ],
      "execution_count": 0,
      "outputs": []
    },
    {
      "cell_type": "code",
      "metadata": {
        "id": "CyM_sHbdPYpQ",
        "colab_type": "code",
        "outputId": "79d3fbc6-9da4-41e9-8f08-34823dd9394d",
        "colab": {
          "base_uri": "https://localhost:8080/",
          "height": 54
        }
      },
      "source": [
        "revenue = []\n",
        "tmp = 0\n",
        "for x in revenue_q:\n",
        "  revenue.append(x.text)\n",
        "  if tmp >=4:\n",
        "    break\n",
        "  tmp+=1\n",
        "revenue = list(map(float,revenue))\n",
        "revenue"
      ],
      "execution_count": 95,
      "outputs": [
        {
          "output_type": "execute_result",
          "data": {
            "text/plain": [
              "[83.85, 97.92, 52.72, 39.35, 84.67]"
            ]
          },
          "metadata": {
            "tags": []
          },
          "execution_count": 95
        }
      ]
    },
    {
      "cell_type": "code",
      "metadata": {
        "id": "vh-16JRqT-mv",
        "colab_type": "code",
        "outputId": "551543d8-87fc-429a-b781-294ff2c4af58",
        "colab": {
          "base_uri": "https://localhost:8080/",
          "height": 221
        }
      },
      "source": [
        "revenue_grow = pd.DataFrame({'Revenue':revenue, 'Quarter': datelist})\n",
        "revenue_grow"
      ],
      "execution_count": 96,
      "outputs": [
        {
          "output_type": "execute_result",
          "data": {
            "text/html": [
              "<div>\n",
              "<style scoped>\n",
              "    .dataframe tbody tr th:only-of-type {\n",
              "        vertical-align: middle;\n",
              "    }\n",
              "\n",
              "    .dataframe tbody tr th {\n",
              "        vertical-align: top;\n",
              "    }\n",
              "\n",
              "    .dataframe thead th {\n",
              "        text-align: right;\n",
              "    }\n",
              "</style>\n",
              "<table border=\"1\" class=\"dataframe\">\n",
              "  <thead>\n",
              "    <tr style=\"text-align: right;\">\n",
              "      <th></th>\n",
              "      <th>Revenue</th>\n",
              "      <th>Quarter</th>\n",
              "    </tr>\n",
              "  </thead>\n",
              "  <tbody>\n",
              "    <tr>\n",
              "      <th>0</th>\n",
              "      <td>83.85</td>\n",
              "      <td>2019-09-30</td>\n",
              "    </tr>\n",
              "    <tr>\n",
              "      <th>1</th>\n",
              "      <td>97.92</td>\n",
              "      <td>2019-06-30</td>\n",
              "    </tr>\n",
              "    <tr>\n",
              "      <th>2</th>\n",
              "      <td>52.72</td>\n",
              "      <td>2019-03-31</td>\n",
              "    </tr>\n",
              "    <tr>\n",
              "      <th>3</th>\n",
              "      <td>39.35</td>\n",
              "      <td>2018-12-31</td>\n",
              "    </tr>\n",
              "    <tr>\n",
              "      <th>4</th>\n",
              "      <td>84.67</td>\n",
              "      <td>2018-09-30</td>\n",
              "    </tr>\n",
              "  </tbody>\n",
              "</table>\n",
              "</div>"
            ],
            "text/plain": [
              "   Revenue     Quarter\n",
              "0    83.85  2019-09-30\n",
              "1    97.92  2019-06-30\n",
              "2    52.72  2019-03-31\n",
              "3    39.35  2018-12-31\n",
              "4    84.67  2018-09-30"
            ]
          },
          "metadata": {
            "tags": []
          },
          "execution_count": 96
        }
      ]
    },
    {
      "cell_type": "code",
      "metadata": {
        "id": "u4YNYjecVxjG",
        "colab_type": "code",
        "outputId": "88793ce5-0867-45eb-b9fa-ff2038f9ad9f",
        "colab": {
          "base_uri": "https://localhost:8080/",
          "height": 305
        }
      },
      "source": [
        "plt.figure(figsize=(6,4))\n",
        "plt.plot(revenue_grow['Quarter'], revenue_grow['Revenue'] )\n",
        "plt.legend(['Revenue Growth'])\n",
        "plt.ylabel('Revenue (\"000) SGD')\n",
        "plt.show()"
      ],
      "execution_count": 97,
      "outputs": [
        {
          "output_type": "display_data",
          "data": {
            "image/png": "[encoded data removed]",
            "text/plain": [
              "<Figure size 432x288 with 1 Axes>"
            ]
          },
          "metadata": {
            "tags": []
          }
        }
      ]
    },
    {
      "cell_type": "code",
      "metadata": {
        "id": "oCV1y-J_WiDA",
        "colab_type": "code",
        "outputId": "8e5b582c-a53a-4707-f820-5f003b96b2ce",
        "colab": {
          "base_uri": "https://localhost:8080/",
          "height": 54
        }
      },
      "source": [
        "margin = growth_cal(revenue_grow['Revenue'])\n",
        "margin"
      ],
      "execution_count": 98,
      "outputs": [
        {
          "output_type": "execute_result",
          "data": {
            "text/plain": [
              "[-14.070000000000007, 45.2, 13.369999999999997, -45.32]"
            ]
          },
          "metadata": {
            "tags": []
          },
          "execution_count": 98
        }
      ]
    },
    {
      "cell_type": "code",
      "metadata": {
        "id": "WeLc0F5qXIow",
        "colab_type": "code",
        "outputId": "5bfa3465-22c4-4681-e053-11fa6d20b0fe",
        "colab": {
          "base_uri": "https://localhost:8080/",
          "height": 120
        }
      },
      "source": [
        "print('Current Quarter vs last quarter Revenue:-' ,margin[0],'%')\n",
        "print('Last Quarter vs Two quarters Revenue:-', margin[1],'%')\n",
        "print('Third Quarter vs Fourth quarters Revenue :-', margin[2],'%')\n",
        "print('Fourth Quarter vs Fifth Quarters Revenue :-', margin[3],'%')\n",
        "\n",
        "if margin[0] > margin[1] > margin[2] > margin[3]:\n",
        "  print('Stock can buy as Revenue grow is consistent')\n",
        "  recommendation.loc[7] = ['Current quarter revenue has grown past two quarters', 'Buy','']\n",
        "elif margin[0] > margin[1]:\n",
        "  print('Current quarter revenue is higher than previous quarter')\n",
        "  recommendation.loc[7] = ['Current quarter revenue is higher than previous quarter', 'Buy','Sell']\n",
        "else:\n",
        "  print('Current quarter revenue is lower than last quarter')\n",
        "  recommendation.loc[7] = ['Revenue declined over past quarter', '', 'Sell']"
      ],
      "execution_count": 99,
      "outputs": [
        {
          "output_type": "stream",
          "text": [
            "Current Quarter vs last quarter Revenue:- -14.070000000000007 %\n",
            "Last Quarter vs Two quarters Revenue:- 45.2 %\n",
            "Third Quarter vs Fourth quarters Revenue :- 13.369999999999997 %\n",
            "Fourth Quarter vs Fifth Quarters Revenue :- -45.32 %\n",
            "Current quarter revenue is lower than last quarter\n"
          ],
          "name": "stdout"
        }
      ]
    },
    {
      "cell_type": "markdown",
      "metadata": {
        "id": "0stnvA-3PZV1",
        "colab_type": "text"
      },
      "source": [
        "Forecast Revenue Growth Rate \n",
        "\n",
        "1.   Yahoo! Finance\n",
        "(finance.yahoo.com > ticker symbol >Analysts)\n",
        "sample\n",
        "\n",
        "1.   Check the forecast year-over-year revenue growth percentage for the current quarter vs. MRQ growth rate found in the previous step. \n",
        "\n",
        "Ideally, the growth rate should be accelerating but it's O.K. to buy if the forecast year-over-year revenue growth is at least 75% of historical year-over-year growth. \n",
        "\n",
        "2.   Compare consensus revenue growth forecasts to historical numbers. \n",
        "\n"
      ]
    },
    {
      "cell_type": "markdown",
      "metadata": {
        "id": "hV94bYgdPsOx",
        "colab_type": "text"
      },
      "source": [
        "Accounts Receivables Growth vs. Sales Growth\n",
        "\n",
        "\n",
        "1.   Accounts receivables are monies owed by a company’s customers for goods received. \n",
        "The Accounts Receivables Ratio (ratio) is the total receivables divided by the revenue for the same quarter. \n",
        "A significantly higher ratio vs. year-ago is a red flag pointing to future problems. \n",
        "2.   Compute the ratio for the most recent and the year-ago quarters.\n",
        "\n",
        "Ideally the most recent ratio would be less than year-ago, but it's O.K. to buy if the ratio is the same or lower than year-ago. Ignore increases that are less than 5%, e.g. from 60% to 64%. \n",
        "\n"
      ]
    },
    {
      "cell_type": "code",
      "metadata": {
        "id": "4RFb39tXZDrb",
        "colab_type": "code",
        "colab": {}
      },
      "source": [
        "accounts_url = 'https://www.reuters.com/companies/AEM.SI/financials/balance-sheet-quarterly'\n",
        "accounts_page = requests.get(accounts_url)\n",
        "accounts_soup = BeautifulSoup(accounts_page.content, 'html.parser')"
      ],
      "execution_count": 0,
      "outputs": []
    },
    {
      "cell_type": "code",
      "metadata": {
        "id": "rQk-RC-IaWIJ",
        "colab_type": "code",
        "outputId": "391f302b-8398-466a-f67b-6bf95a0f8d44",
        "colab": {
          "base_uri": "https://localhost:8080/",
          "height": 54
        }
      },
      "source": [
        "accounts_q = accounts_soup.find_all('td', class_ = 'TextLabel__text-label___3oCVw TextLabel__black___2FN-Z TextLabel__regular___2X0ym digits')\n",
        "accounts = []\n",
        "row = 0 \n",
        "for x in accounts_q:\n",
        "  if row >=10 and row <= 14: # receivable data is found in this row 9\n",
        "    accounts.append(x.text)\n",
        "  row +=1\n",
        "  if row >15:\n",
        "    break\n",
        "\n",
        "accounts = list(map(float, accounts))\n",
        "accounts"
      ],
      "execution_count": 101,
      "outputs": [
        {
          "output_type": "execute_result",
          "data": {
            "text/plain": [
              "[41.42, 53.14, 32.36, 22.46, 32.23]"
            ]
          },
          "metadata": {
            "tags": []
          },
          "execution_count": 101
        }
      ]
    },
    {
      "cell_type": "code",
      "metadata": {
        "id": "M952pKE7cdvl",
        "colab_type": "code",
        "outputId": "e558182e-5dc3-42e3-9e86-e4e62eab7953",
        "colab": {
          "base_uri": "https://localhost:8080/",
          "height": 221
        }
      },
      "source": [
        "accounts_grow = pd.DataFrame({'Accounts': accounts, 'Quarters': datelist})\n",
        "accounts_grow"
      ],
      "execution_count": 102,
      "outputs": [
        {
          "output_type": "execute_result",
          "data": {
            "text/html": [
              "<div>\n",
              "<style scoped>\n",
              "    .dataframe tbody tr th:only-of-type {\n",
              "        vertical-align: middle;\n",
              "    }\n",
              "\n",
              "    .dataframe tbody tr th {\n",
              "        vertical-align: top;\n",
              "    }\n",
              "\n",
              "    .dataframe thead th {\n",
              "        text-align: right;\n",
              "    }\n",
              "</style>\n",
              "<table border=\"1\" class=\"dataframe\">\n",
              "  <thead>\n",
              "    <tr style=\"text-align: right;\">\n",
              "      <th></th>\n",
              "      <th>Accounts</th>\n",
              "      <th>Quarters</th>\n",
              "    </tr>\n",
              "  </thead>\n",
              "  <tbody>\n",
              "    <tr>\n",
              "      <th>0</th>\n",
              "      <td>41.42</td>\n",
              "      <td>2019-09-30</td>\n",
              "    </tr>\n",
              "    <tr>\n",
              "      <th>1</th>\n",
              "      <td>53.14</td>\n",
              "      <td>2019-06-30</td>\n",
              "    </tr>\n",
              "    <tr>\n",
              "      <th>2</th>\n",
              "      <td>32.36</td>\n",
              "      <td>2019-03-31</td>\n",
              "    </tr>\n",
              "    <tr>\n",
              "      <th>3</th>\n",
              "      <td>22.46</td>\n",
              "      <td>2018-12-31</td>\n",
              "    </tr>\n",
              "    <tr>\n",
              "      <th>4</th>\n",
              "      <td>32.23</td>\n",
              "      <td>2018-09-30</td>\n",
              "    </tr>\n",
              "  </tbody>\n",
              "</table>\n",
              "</div>"
            ],
            "text/plain": [
              "   Accounts    Quarters\n",
              "0     41.42  2019-09-30\n",
              "1     53.14  2019-06-30\n",
              "2     32.36  2019-03-31\n",
              "3     22.46  2018-12-31\n",
              "4     32.23  2018-09-30"
            ]
          },
          "metadata": {
            "tags": []
          },
          "execution_count": 102
        }
      ]
    },
    {
      "cell_type": "code",
      "metadata": {
        "id": "0TEsUs6jfqD7",
        "colab_type": "code",
        "outputId": "1d2f9f81-6f5e-42af-96ee-34429d0685c4",
        "colab": {
          "base_uri": "https://localhost:8080/",
          "height": 318
        }
      },
      "source": [
        "plt.figure(figsize=(6,4))\n",
        "plt.plot(accounts_grow['Quarters'], accounts_grow['Accounts'])\n",
        "plt.legend(['Accounts Receivable'])\n",
        "plt.ylabel('Account Receivable (\"000) SGD')\n",
        "plt.show()"
      ],
      "execution_count": 104,
      "outputs": [
        {
          "output_type": "display_data",
          "data": {
            "image/png": "[encoded data removed]",
            "text/plain": [
              "<Figure size 432x288 with 1 Axes>"
            ]
          },
          "metadata": {
            "tags": []
          }
        }
      ]
    },
    {
      "cell_type": "code",
      "metadata": {
        "id": "fqzmo9-WgJ5N",
        "colab_type": "code",
        "outputId": "eddeedbd-429d-4404-c2e0-19a07521163e",
        "colab": {
          "base_uri": "https://localhost:8080/",
          "height": 54
        }
      },
      "source": [
        "margin = growth_cal(accounts_grow['Accounts'])\n",
        "margin"
      ],
      "execution_count": 105,
      "outputs": [
        {
          "output_type": "execute_result",
          "data": {
            "text/plain": [
              "[-11.719999999999999, 20.78, 9.899999999999999, -9.769999999999996]"
            ]
          },
          "metadata": {
            "tags": []
          },
          "execution_count": 105
        }
      ]
    },
    {
      "cell_type": "code",
      "metadata": {
        "id": "lxNFQSJvgaed",
        "colab_type": "code",
        "outputId": "56706ac1-2419-4023-fbf9-a8022a50ba73",
        "colab": {
          "base_uri": "https://localhost:8080/",
          "height": 120
        }
      },
      "source": [
        "print('Current quarter vs previous quarter accounts receivable :-', margin[0],'%')\n",
        "print('Previous quarter vs previous quarter accounts receivable :-', margin[1],'%')\n",
        "print('Third quarter vs Forth quarter accounts receivable :-', margin[2],'%')\n",
        "print('Forth quarter vs Fifth quarter accounts receivable :-', margin[3],'%')\n",
        "\n",
        "if margin[0] < margin[1] < margin[3]:\n",
        "  print('Accounts Receivable is declining, managble')\n",
        "  recommendation.loc[8] = ['A/R is declining QonQ','Buy','']\n",
        "elif margin[0] > margin[1]:\n",
        "  print('Current account receivables are higher than preivous quarter. warning on this stock probable bad debts')\n",
        "  recommendation.loc[8] = ['A/R is increasing - warning','','Sell']\n",
        "else:\n",
        "  print('Stock account receivable needs to be improved')\n",
        "  recommendation.loc[8] = ['A/R need improving ', '','Sell']"
      ],
      "execution_count": 106,
      "outputs": [
        {
          "output_type": "stream",
          "text": [
            "Current quarter vs previous quarter accounts receivable :- -11.719999999999999 %\n",
            "Previous quarter vs previous quarter accounts receivable :- 20.78 %\n",
            "Third quarter vs Forth quarter accounts receivable :- 9.899999999999999 %\n",
            "Forth quarter vs Fifth quarter accounts receivable :- -9.769999999999996 %\n",
            "Stock account receivable needs to be improved\n"
          ],
          "name": "stdout"
        }
      ]
    },
    {
      "cell_type": "code",
      "metadata": {
        "id": "Qz5K-7CShP_K",
        "colab_type": "code",
        "colab": {
          "base_uri": "https://localhost:8080/",
          "height": 343
        },
        "outputId": "7d2ee620-61d8-440d-f059-48646a28cb2a"
      },
      "source": [
        "recommendation"
      ],
      "execution_count": 109,
      "outputs": [
        {
          "output_type": "execute_result",
          "data": {
            "text/html": [
              "<div>\n",
              "<style scoped>\n",
              "    .dataframe tbody tr th:only-of-type {\n",
              "        vertical-align: middle;\n",
              "    }\n",
              "\n",
              "    .dataframe tbody tr th {\n",
              "        vertical-align: top;\n",
              "    }\n",
              "\n",
              "    .dataframe thead th {\n",
              "        text-align: right;\n",
              "    }\n",
              "</style>\n",
              "<table border=\"1\" class=\"dataframe\">\n",
              "  <thead>\n",
              "    <tr style=\"text-align: right;\">\n",
              "      <th></th>\n",
              "      <th>Item</th>\n",
              "      <th>Buy</th>\n",
              "      <th>Sell</th>\n",
              "    </tr>\n",
              "  </thead>\n",
              "  <tbody>\n",
              "    <tr>\n",
              "      <th>0</th>\n",
              "      <td>Stock Price above 50 days moving average</td>\n",
              "      <td>Buy</td>\n",
              "      <td></td>\n",
              "    </tr>\n",
              "    <tr>\n",
              "      <th>1</th>\n",
              "      <td>Price/Sales Ratio is below 5</td>\n",
              "      <td>Buy</td>\n",
              "      <td></td>\n",
              "    </tr>\n",
              "    <tr>\n",
              "      <th>2</th>\n",
              "      <td>Cash Flow Positive</td>\n",
              "      <td>Buy</td>\n",
              "      <td></td>\n",
              "    </tr>\n",
              "    <tr>\n",
              "      <th>3</th>\n",
              "      <td>Volume of Share is high</td>\n",
              "      <td>Buy</td>\n",
              "      <td></td>\n",
              "    </tr>\n",
              "    <tr>\n",
              "      <th>4</th>\n",
              "      <td>Current year revenue is higher than last year</td>\n",
              "      <td>Buy</td>\n",
              "      <td></td>\n",
              "    </tr>\n",
              "    <tr>\n",
              "      <th>5</th>\n",
              "      <td>Annual gross margin is higher than previous year</td>\n",
              "      <td>Buy</td>\n",
              "      <td></td>\n",
              "    </tr>\n",
              "    <tr>\n",
              "      <th>6</th>\n",
              "      <td>Quarter margin has declined</td>\n",
              "      <td></td>\n",
              "      <td>Sell</td>\n",
              "    </tr>\n",
              "    <tr>\n",
              "      <th>7</th>\n",
              "      <td>Revenue declined over past quarter</td>\n",
              "      <td></td>\n",
              "      <td>Sell</td>\n",
              "    </tr>\n",
              "    <tr>\n",
              "      <th>8</th>\n",
              "      <td>A/R need improving</td>\n",
              "      <td></td>\n",
              "      <td>Sell</td>\n",
              "    </tr>\n",
              "  </tbody>\n",
              "</table>\n",
              "</div>"
            ],
            "text/plain": [
              "                                               Item  Buy  Sell\n",
              "0          Stock Price above 50 days moving average  Buy      \n",
              "1                      Price/Sales Ratio is below 5  Buy      \n",
              "2                                Cash Flow Positive  Buy      \n",
              "3                           Volume of Share is high  Buy      \n",
              "4     Current year revenue is higher than last year  Buy      \n",
              "5  Annual gross margin is higher than previous year  Buy      \n",
              "6                       Quarter margin has declined       Sell\n",
              "7                Revenue declined over past quarter       Sell\n",
              "8                               A/R need improving        Sell"
            ]
          },
          "metadata": {
            "tags": []
          },
          "execution_count": 109
        }
      ]
    }
  ]
}