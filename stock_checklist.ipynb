{
  "nbformat": 4,
  "nbformat_minor": 0,
  "metadata": {
    "colab": {
      "name": "stock checklist",
      "provenance": [],
      "collapsed_sections": [],
      "authorship_tag": "ABX9TyMjl2p6SbqKwH8tAi6s8PcM",
      "include_colab_link": true
    },
    "kernelspec": {
      "name": "python3",
      "display_name": "Python 3"
    }
  },
  "cells": [
    {
      "cell_type": "markdown",
      "metadata": {
        "id": "view-in-github",
        "colab_type": "text"
      },
      "source": [
        "<a href=\"https://colab.research.google.com/github/Felixwkk/stocks/blob/master/stock_checklist.ipynb\" target=\"_parent\"><img src=\"https://colab.research.google.com/assets/colab-badge.svg\" alt=\"Open In Colab\"/></a>"
      ]
    },
    {
      "cell_type": "markdown",
      "metadata": {
        "id": "fScz8jfSreHy",
        "colab_type": "text"
      },
      "source": [
        "One-year Price chart with 50-day moving average.\n",
        "\n",
        "1.   Buying a stock while it’s in a downtrend is dangerous, as it will likely move lower. A stock is in a downtrend if its price is below its moving average (MA), and in an uptrend if above. Use the 50-day Simple Moving Average (SMA). \n",
        "2.   O.K. to buy if stock price is above its 50-day moving average.\n",
        "\n",
        "\n"
      ]
    },
    {
      "cell_type": "code",
      "metadata": {
        "id": "H9q0eoAirX7o",
        "colab_type": "code",
        "colab": {}
      },
      "source": [
        "import numpy as np\n",
        "import pandas as pd\n",
        "import pandas_datareader as spr\n",
        "import matplotlib.pyplot as plt\n",
        "import datetime \n",
        "from datetime import timedelta\n",
        "from bs4 import BeautifulSoup\n",
        "import requests\n",
        "\n",
        "plt.style.use('fivethirtyeight')\n",
        "plt.rcParams['figure.figsize'] = (25,12)"
      ],
      "execution_count": 0,
      "outputs": []
    },
    {
      "cell_type": "markdown",
      "metadata": {
        "id": "UPreyaAcw9VC",
        "colab_type": "text"
      },
      "source": [
        "AEM analysis example"
      ]
    },
    {
      "cell_type": "code",
      "metadata": {
        "id": "Wjurgzp-rfD8",
        "colab_type": "code",
        "outputId": "1e207cb9-592e-43d9-f722-7a7a56fbefb1",
        "colab": {
          "base_uri": "https://localhost:8080/",
          "height": 252
        }
      },
      "source": [
        "# pick a AEM symbol from Yahoo Finance\n",
        "\n",
        "stocks = spr.get_data_yahoo('AWX.SI', start = datetime.datetime(2015,1,1), end = datetime.datetime(2020,2,11))\n",
        "stocks.head()"
      ],
      "execution_count": 2,
      "outputs": [
        {
          "output_type": "execute_result",
          "data": {
            "text/html": [
              "<div>\n",
              "<style scoped>\n",
              "    .dataframe tbody tr th:only-of-type {\n",
              "        vertical-align: middle;\n",
              "    }\n",
              "\n",
              "    .dataframe tbody tr th {\n",
              "        vertical-align: top;\n",
              "    }\n",
              "\n",
              "    .dataframe thead th {\n",
              "        text-align: right;\n",
              "    }\n",
              "</style>\n",
              "<table border=\"1\" class=\"dataframe\">\n",
              "  <thead>\n",
              "    <tr style=\"text-align: right;\">\n",
              "      <th></th>\n",
              "      <th>High</th>\n",
              "      <th>Low</th>\n",
              "      <th>Open</th>\n",
              "      <th>Close</th>\n",
              "      <th>Volume</th>\n",
              "      <th>Adj Close</th>\n",
              "    </tr>\n",
              "    <tr>\n",
              "      <th>Date</th>\n",
              "      <th></th>\n",
              "      <th></th>\n",
              "      <th></th>\n",
              "      <th></th>\n",
              "      <th></th>\n",
              "      <th></th>\n",
              "    </tr>\n",
              "  </thead>\n",
              "  <tbody>\n",
              "    <tr>\n",
              "      <th>2015-01-02</th>\n",
              "      <td>0.09000</td>\n",
              "      <td>0.08667</td>\n",
              "      <td>0.08667</td>\n",
              "      <td>0.09000</td>\n",
              "      <td>29400.0</td>\n",
              "      <td>0.060804</td>\n",
              "    </tr>\n",
              "    <tr>\n",
              "      <th>2015-01-05</th>\n",
              "      <td>0.09000</td>\n",
              "      <td>0.09000</td>\n",
              "      <td>0.09000</td>\n",
              "      <td>0.09000</td>\n",
              "      <td>0.0</td>\n",
              "      <td>0.060804</td>\n",
              "    </tr>\n",
              "    <tr>\n",
              "      <th>2015-01-06</th>\n",
              "      <td>0.08667</td>\n",
              "      <td>0.08667</td>\n",
              "      <td>0.08667</td>\n",
              "      <td>0.08667</td>\n",
              "      <td>60000.0</td>\n",
              "      <td>0.058554</td>\n",
              "    </tr>\n",
              "    <tr>\n",
              "      <th>2015-01-07</th>\n",
              "      <td>0.08667</td>\n",
              "      <td>0.08667</td>\n",
              "      <td>0.08667</td>\n",
              "      <td>0.08667</td>\n",
              "      <td>0.0</td>\n",
              "      <td>0.058554</td>\n",
              "    </tr>\n",
              "    <tr>\n",
              "      <th>2015-01-08</th>\n",
              "      <td>0.08667</td>\n",
              "      <td>0.08667</td>\n",
              "      <td>0.08667</td>\n",
              "      <td>0.08667</td>\n",
              "      <td>0.0</td>\n",
              "      <td>0.058554</td>\n",
              "    </tr>\n",
              "  </tbody>\n",
              "</table>\n",
              "</div>"
            ],
            "text/plain": [
              "               High      Low     Open    Close   Volume  Adj Close\n",
              "Date                                                              \n",
              "2015-01-02  0.09000  0.08667  0.08667  0.09000  29400.0   0.060804\n",
              "2015-01-05  0.09000  0.09000  0.09000  0.09000      0.0   0.060804\n",
              "2015-01-06  0.08667  0.08667  0.08667  0.08667  60000.0   0.058554\n",
              "2015-01-07  0.08667  0.08667  0.08667  0.08667      0.0   0.058554\n",
              "2015-01-08  0.08667  0.08667  0.08667  0.08667      0.0   0.058554"
            ]
          },
          "metadata": {
            "tags": []
          },
          "execution_count": 2
        }
      ]
    },
    {
      "cell_type": "code",
      "metadata": {
        "id": "MIF7ii7I08pG",
        "colab_type": "code",
        "colab": {}
      },
      "source": [
        "stocks = stocks.reindex(index = stocks.index[::-1]) # reindex from latest date"
      ],
      "execution_count": 0,
      "outputs": []
    },
    {
      "cell_type": "code",
      "metadata": {
        "id": "fxXVCb4-85v5",
        "colab_type": "code",
        "outputId": "047d71a3-3eb0-4c0a-e2ce-832d451fe405",
        "colab": {
          "base_uri": "https://localhost:8080/",
          "height": 252
        }
      },
      "source": [
        "stocks.head()"
      ],
      "execution_count": 4,
      "outputs": [
        {
          "output_type": "execute_result",
          "data": {
            "text/html": [
              "<div>\n",
              "<style scoped>\n",
              "    .dataframe tbody tr th:only-of-type {\n",
              "        vertical-align: middle;\n",
              "    }\n",
              "\n",
              "    .dataframe tbody tr th {\n",
              "        vertical-align: top;\n",
              "    }\n",
              "\n",
              "    .dataframe thead th {\n",
              "        text-align: right;\n",
              "    }\n",
              "</style>\n",
              "<table border=\"1\" class=\"dataframe\">\n",
              "  <thead>\n",
              "    <tr style=\"text-align: right;\">\n",
              "      <th></th>\n",
              "      <th>High</th>\n",
              "      <th>Low</th>\n",
              "      <th>Open</th>\n",
              "      <th>Close</th>\n",
              "      <th>Volume</th>\n",
              "      <th>Adj Close</th>\n",
              "    </tr>\n",
              "    <tr>\n",
              "      <th>Date</th>\n",
              "      <th></th>\n",
              "      <th></th>\n",
              "      <th></th>\n",
              "      <th></th>\n",
              "      <th></th>\n",
              "      <th></th>\n",
              "    </tr>\n",
              "  </thead>\n",
              "  <tbody>\n",
              "    <tr>\n",
              "      <th>2020-02-12</th>\n",
              "      <td>2.00</td>\n",
              "      <td>1.93</td>\n",
              "      <td>1.95</td>\n",
              "      <td>2.00</td>\n",
              "      <td>4005400.0</td>\n",
              "      <td>2.00</td>\n",
              "    </tr>\n",
              "    <tr>\n",
              "      <th>2020-02-11</th>\n",
              "      <td>1.96</td>\n",
              "      <td>1.90</td>\n",
              "      <td>1.90</td>\n",
              "      <td>1.95</td>\n",
              "      <td>9512400.0</td>\n",
              "      <td>1.95</td>\n",
              "    </tr>\n",
              "    <tr>\n",
              "      <th>2020-02-10</th>\n",
              "      <td>1.89</td>\n",
              "      <td>1.81</td>\n",
              "      <td>1.83</td>\n",
              "      <td>1.88</td>\n",
              "      <td>3480400.0</td>\n",
              "      <td>1.88</td>\n",
              "    </tr>\n",
              "    <tr>\n",
              "      <th>2020-02-07</th>\n",
              "      <td>1.95</td>\n",
              "      <td>1.86</td>\n",
              "      <td>1.95</td>\n",
              "      <td>1.87</td>\n",
              "      <td>6246400.0</td>\n",
              "      <td>1.87</td>\n",
              "    </tr>\n",
              "    <tr>\n",
              "      <th>2020-02-06</th>\n",
              "      <td>1.97</td>\n",
              "      <td>1.91</td>\n",
              "      <td>1.94</td>\n",
              "      <td>1.96</td>\n",
              "      <td>6254700.0</td>\n",
              "      <td>1.96</td>\n",
              "    </tr>\n",
              "  </tbody>\n",
              "</table>\n",
              "</div>"
            ],
            "text/plain": [
              "            High   Low  Open  Close     Volume  Adj Close\n",
              "Date                                                     \n",
              "2020-02-12  2.00  1.93  1.95   2.00  4005400.0       2.00\n",
              "2020-02-11  1.96  1.90  1.90   1.95  9512400.0       1.95\n",
              "2020-02-10  1.89  1.81  1.83   1.88  3480400.0       1.88\n",
              "2020-02-07  1.95  1.86  1.95   1.87  6246400.0       1.87\n",
              "2020-02-06  1.97  1.91  1.94   1.96  6254700.0       1.96"
            ]
          },
          "metadata": {
            "tags": []
          },
          "execution_count": 4
        }
      ]
    },
    {
      "cell_type": "code",
      "metadata": {
        "id": "yPHZxIKq_SBA",
        "colab_type": "code",
        "colab": {}
      },
      "source": [
        "# moving average of 20, 50, 200 days\n",
        "df = stocks \n",
        "df['SMA_20'] = df.iloc[:,1].rolling(window=20).mean()\n",
        "df['SMA_50'] = df.iloc[:,1].rolling(window=50).mean()\n",
        "df['SMA_200'] = df.iloc[:,1].rolling(window=200).mean()\n"
      ],
      "execution_count": 0,
      "outputs": []
    },
    {
      "cell_type": "code",
      "metadata": {
        "id": "IXrL6Q1jAUlq",
        "colab_type": "code",
        "outputId": "e5e7de36-3b0b-4b0c-b86b-3da769d24acd",
        "colab": {
          "base_uri": "https://localhost:8080/",
          "height": 252
        }
      },
      "source": [
        "df.head()"
      ],
      "execution_count": 6,
      "outputs": [
        {
          "output_type": "execute_result",
          "data": {
            "text/html": [
              "<div>\n",
              "<style scoped>\n",
              "    .dataframe tbody tr th:only-of-type {\n",
              "        vertical-align: middle;\n",
              "    }\n",
              "\n",
              "    .dataframe tbody tr th {\n",
              "        vertical-align: top;\n",
              "    }\n",
              "\n",
              "    .dataframe thead th {\n",
              "        text-align: right;\n",
              "    }\n",
              "</style>\n",
              "<table border=\"1\" class=\"dataframe\">\n",
              "  <thead>\n",
              "    <tr style=\"text-align: right;\">\n",
              "      <th></th>\n",
              "      <th>High</th>\n",
              "      <th>Low</th>\n",
              "      <th>Open</th>\n",
              "      <th>Close</th>\n",
              "      <th>Volume</th>\n",
              "      <th>Adj Close</th>\n",
              "      <th>SMA_20</th>\n",
              "      <th>SMA_50</th>\n",
              "      <th>SMA_200</th>\n",
              "    </tr>\n",
              "    <tr>\n",
              "      <th>Date</th>\n",
              "      <th></th>\n",
              "      <th></th>\n",
              "      <th></th>\n",
              "      <th></th>\n",
              "      <th></th>\n",
              "      <th></th>\n",
              "      <th></th>\n",
              "      <th></th>\n",
              "      <th></th>\n",
              "    </tr>\n",
              "  </thead>\n",
              "  <tbody>\n",
              "    <tr>\n",
              "      <th>2020-02-12</th>\n",
              "      <td>2.00</td>\n",
              "      <td>1.93</td>\n",
              "      <td>1.95</td>\n",
              "      <td>2.00</td>\n",
              "      <td>4005400.0</td>\n",
              "      <td>2.00</td>\n",
              "      <td>NaN</td>\n",
              "      <td>NaN</td>\n",
              "      <td>NaN</td>\n",
              "    </tr>\n",
              "    <tr>\n",
              "      <th>2020-02-11</th>\n",
              "      <td>1.96</td>\n",
              "      <td>1.90</td>\n",
              "      <td>1.90</td>\n",
              "      <td>1.95</td>\n",
              "      <td>9512400.0</td>\n",
              "      <td>1.95</td>\n",
              "      <td>NaN</td>\n",
              "      <td>NaN</td>\n",
              "      <td>NaN</td>\n",
              "    </tr>\n",
              "    <tr>\n",
              "      <th>2020-02-10</th>\n",
              "      <td>1.89</td>\n",
              "      <td>1.81</td>\n",
              "      <td>1.83</td>\n",
              "      <td>1.88</td>\n",
              "      <td>3480400.0</td>\n",
              "      <td>1.88</td>\n",
              "      <td>NaN</td>\n",
              "      <td>NaN</td>\n",
              "      <td>NaN</td>\n",
              "    </tr>\n",
              "    <tr>\n",
              "      <th>2020-02-07</th>\n",
              "      <td>1.95</td>\n",
              "      <td>1.86</td>\n",
              "      <td>1.95</td>\n",
              "      <td>1.87</td>\n",
              "      <td>6246400.0</td>\n",
              "      <td>1.87</td>\n",
              "      <td>NaN</td>\n",
              "      <td>NaN</td>\n",
              "      <td>NaN</td>\n",
              "    </tr>\n",
              "    <tr>\n",
              "      <th>2020-02-06</th>\n",
              "      <td>1.97</td>\n",
              "      <td>1.91</td>\n",
              "      <td>1.94</td>\n",
              "      <td>1.96</td>\n",
              "      <td>6254700.0</td>\n",
              "      <td>1.96</td>\n",
              "      <td>NaN</td>\n",
              "      <td>NaN</td>\n",
              "      <td>NaN</td>\n",
              "    </tr>\n",
              "  </tbody>\n",
              "</table>\n",
              "</div>"
            ],
            "text/plain": [
              "            High   Low  Open  Close  ...  Adj Close  SMA_20  SMA_50  SMA_200\n",
              "Date                                 ...                                    \n",
              "2020-02-12  2.00  1.93  1.95   2.00  ...       2.00     NaN     NaN      NaN\n",
              "2020-02-11  1.96  1.90  1.90   1.95  ...       1.95     NaN     NaN      NaN\n",
              "2020-02-10  1.89  1.81  1.83   1.88  ...       1.88     NaN     NaN      NaN\n",
              "2020-02-07  1.95  1.86  1.95   1.87  ...       1.87     NaN     NaN      NaN\n",
              "2020-02-06  1.97  1.91  1.94   1.96  ...       1.96     NaN     NaN      NaN\n",
              "\n",
              "[5 rows x 9 columns]"
            ]
          },
          "metadata": {
            "tags": []
          },
          "execution_count": 6
        }
      ]
    },
    {
      "cell_type": "code",
      "metadata": {
        "id": "XP20Aw94BVnR",
        "colab_type": "code",
        "outputId": "477a3788-995d-4407-8531-c04a754b5adc",
        "colab": {
          "base_uri": "https://localhost:8080/",
          "height": 884
        }
      },
      "source": [
        "plt.grid(True)\n",
        "plt.plot(df['Close'],label='data')\n",
        "plt.plot(df['SMA_20'],label='SMA  20 Days')\n",
        "plt.plot(df['SMA_50'],label='SMA 50 Days')\n",
        "plt.plot(df['SMA_200'], label = 'SMA 200 Days')\n",
        "plt.legend(loc=2)"
      ],
      "execution_count": 7,
      "outputs": [
        {
          "output_type": "stream",
          "text": [
            "/usr/local/lib/python3.6/dist-packages/pandas/plotting/_matplotlib/converter.py:103: FutureWarning: Using an implicitly registered datetime converter for a matplotlib plotting method. The converter was registered by pandas on import. Future versions of pandas will require you to explicitly register matplotlib converters.\n",
            "\n",
            "To register the converters:\n",
            "\t>>> from pandas.plotting import register_matplotlib_converters\n",
            "\t>>> register_matplotlib_converters()\n",
            "  warnings.warn(msg, FutureWarning)\n"
          ],
          "name": "stderr"
        },
        {
          "output_type": "execute_result",
          "data": {
            "text/plain": [
              "<matplotlib.legend.Legend at 0x7f82715f9cf8>"
            ]
          },
          "metadata": {
            "tags": []
          },
          "execution_count": 7
        },
        {
          "output_type": "display_data",
          "data": {
            "image/png": "[encoded data removed]",
            "text/plain": [
              "<Figure size 1800x864 with 1 Axes>"
            ]
          },
          "metadata": {
            "tags": []
          }
        }
      ]
    },
    {
      "cell_type": "code",
      "metadata": {
        "id": "3v7Dm5Y4CpTj",
        "colab_type": "code",
        "outputId": "a6cfa61c-8a70-4d59-f72b-7bb0d10cc342",
        "colab": {
          "base_uri": "https://localhost:8080/",
          "height": 87
        }
      },
      "source": [
        "df['Close'][0]\n",
        "print('Latest Stock price :-', df['Close'][0])\n",
        "print('50 Days moving average :-' ,df['SMA_50'][49])\n",
        "if df['Close'][0] >= df['SMA_50'][49]:\n",
        "  print('Is the stock price above the 50 days moving average ? Yes, Buy')\n",
        "else:\n",
        "  print('Do not Buy')"
      ],
      "execution_count": 8,
      "outputs": [
        {
          "output_type": "stream",
          "text": [
            "Latest Stock price :- 2.0\n",
            "50 Days moving average :- 1.9573999905586243\n",
            "Is the stock price above the 50 days moving average ? Yes, Buy\n"
          ],
          "name": "stdout"
        }
      ]
    },
    {
      "cell_type": "markdown",
      "metadata": {
        "id": "YamSD7nAHehE",
        "colab_type": "text"
      },
      "source": [
        "Price/Sales ratio (P/S)\n",
        "\n",
        "1.   Valuation check. A stock with a P/S above 10 is momentum priced.\n",
        "2.   O.K. to buy if P/S is less than 10. P/S ratios between 3 and 5 are best for growth stocks.\n",
        "3.   Ratios below 2 reflect value priced stocks.  \n",
        "\n",
        "\n",
        "\n"
      ]
    },
    {
      "cell_type": "code",
      "metadata": {
        "id": "BKL4VVvbHd-z",
        "colab_type": "code",
        "colab": {}
      },
      "source": [
        "url = 'https://sg.finance.yahoo.com/quote/AWX.SI/key-statistics?p=AWX.SI'\n",
        "page = requests.get(url)\n",
        "soup = BeautifulSoup(page.content, 'html.parser')\n"
      ],
      "execution_count": 0,
      "outputs": []
    },
    {
      "cell_type": "code",
      "metadata": {
        "id": "ivkKBqsAJgK-",
        "colab_type": "code",
        "outputId": "3d25b466-518d-4f7c-afe1-3083c3649b60",
        "colab": {
          "base_uri": "https://localhost:8080/",
          "height": 71
        }
      },
      "source": [
        "# web scrape to find price/sales ratio\n",
        "price_sales = soup.find_all('span',attrs ={'data-reactid':'53'})\n",
        "price_sales_number = soup.find('td',attrs = {'data-reactid' :'57'} )\n",
        "print('Price.Sales Ratio :- ', price_sales_number.text)\n",
        "if float(price_sales_number.text) < 5:\n",
        "  print('Stock is ok to Buy')\n",
        "else:\n",
        "  print('DO not buy')"
      ],
      "execution_count": 48,
      "outputs": [
        {
          "output_type": "stream",
          "text": [
            "Price.Sales Ratio :-  2.05\n",
            "Stock is ok to Buy\n"
          ],
          "name": "stdout"
        }
      ]
    },
    {
      "cell_type": "markdown",
      "metadata": {
        "id": "YatT_6NQyPcQ",
        "colab_type": "text"
      },
      "source": [
        "Cash Flow\n",
        "\n",
        "1.   Companies with positive operating cash flow are safer investments than cash burners (negative cash flow). \n",
        "2.   O.K. to buy if Cash Flow is a positive number. def value_to_float(x):\n",
        "    \n",
        "\n",
        "\n"
      ]
    },
    {
      "cell_type": "code",
      "metadata": {
        "id": "rAVrOrt0Klq6",
        "colab_type": "code",
        "outputId": "ca35a8d4-5456-42d9-94c6-98d69f513b99",
        "colab": {
          "base_uri": "https://localhost:8080/",
          "height": 87
        }
      },
      "source": [
        "def value_to_float(x):\n",
        "    if type(x) == float or type(x) == int:\n",
        "        return x\n",
        "    if 'K' in x:\n",
        "        if len(x) > 1:\n",
        "            return float(x.replace('K', '')) * 1000\n",
        "        return 1000.0\n",
        "    if 'M' in x:\n",
        "        if len(x) > 1:\n",
        "            return float(x.replace('M', '')) * 1000000\n",
        "        return 1000000.0\n",
        "    if 'B' in x:\n",
        "        return float(x.replace('B', '')) * 1000000000\n",
        "    if ',' in x:\n",
        "        return float(x.replace(',',''))\n",
        "    return 0.0\n",
        "\n",
        "\n",
        "# Find cash flow\n",
        "cash = soup.find_all('td', class_ = 'Fz(s) Fw(500) Ta(end) Pstart(10px) Miw(60px)')\n",
        "cash_flow = soup.find('td', attrs = {'data-reactid' : '496'})\n",
        "cash_flow_lever = soup.find('td', attrs = {'data-reactid' : '503'})\n",
        "\n",
        "print('Operating cash flow :-', cash_flow.text)\n",
        "print('Levered free cash flow :-' , cash_flow_lever.text)\n",
        "\n",
        "if value_to_float(cash_flow.text) >0:\n",
        "  print('Stock can buy as the cash flow is positive')\n",
        "else:\n",
        "  print('Stock cannot buy')"
      ],
      "execution_count": 141,
      "outputs": [
        {
          "output_type": "stream",
          "text": [
            "Operating cash flow :- 38.64M\n",
            "Levered free cash flow :- 26.35M\n",
            "Stock can buy as the cash flow is positive\n"
          ],
          "name": "stdout"
        }
      ]
    },
    {
      "cell_type": "markdown",
      "metadata": {
        "id": "2xxY4kSSAdeu",
        "colab_type": "text"
      },
      "source": [
        "Average Daily Volume (shares)\n",
        "\n",
        "\n",
        "1.   O.K. to buy if Average Daily Volume is 150,000 shares or higher, and above one million shares is best. \n",
        "\n",
        "\n"
      ]
    },
    {
      "cell_type": "code",
      "metadata": {
        "id": "pUXNY4e_R8ru",
        "colab_type": "code",
        "outputId": "25952162-91de-4f4a-84fd-ada11a177923",
        "colab": {
          "base_uri": "https://localhost:8080/",
          "height": 87
        }
      },
      "source": [
        "print(' Average Volume of share in pase 100 days :-', df['Volume'][0:100].mean())\n",
        "print('Today\"s volume :- ', df['Volume'][0])\n",
        "if df['Volume'][0] < 150000:\n",
        "  print('Stock cannot buy')\n",
        "elif df['Volume'][0]> 1000000:\n",
        "  print('Good Volume')\n",
        "    "
      ],
      "execution_count": 91,
      "outputs": [
        {
          "output_type": "stream",
          "text": [
            " Average Volume of share in pase 100 days :- 6862904.0\n",
            "Today\"s volume :-  4005400.0\n",
            "Good Volume\n"
          ],
          "name": "stdout"
        }
      ]
    },
    {
      "cell_type": "markdown",
      "metadata": {
        "id": "Qvo6tAGnCjP0",
        "colab_type": "text"
      },
      "source": [
        "Got Growth \n",
        "\n",
        "1.   O.K. to buy if recent quarterly growth numbers are 8% min. (higher is better). Best case is when year-over-year (YoY) growth is accelerating.\n",
        "\n",
        "\n"
      ]
    },
    {
      "cell_type": "code",
      "metadata": {
        "id": "ex6cmA-3EzQv",
        "colab_type": "code",
        "colab": {}
      },
      "source": [
        "# new url\n",
        "new_url = 'https://sg.finance.yahoo.com/quote/AWX.SI/financials?p=AWX.SI'\n",
        "new_page = requests.get(new_url)\n",
        "revenue_soup = BeautifulSoup(new_page.content,'html.parser')"
      ],
      "execution_count": 0,
      "outputs": []
    },
    {
      "cell_type": "code",
      "metadata": {
        "id": "MZfLKyXtCbl5",
        "colab_type": "code",
        "colab": {
          "base_uri": "https://localhost:8080/",
          "height": 87
        },
        "outputId": "689546b2-293d-4894-d062-62e5e347a0b4"
      },
      "source": [
        "# read last quarters revenue\n",
        "revenue_q = revenue_soup.find('span' , attrs = {'data-reactid': '49'})\n",
        "revenue_q1 = revenue_soup.find('span', attrs = {'data-reactid':'51'})\n",
        "\n",
        "print('Current year Revenue :-', revenue_q.text)\n",
        "print('Previous year revenue :-', revenue_q1.text)\n",
        "\n",
        "if value_to_float(revenue_q.text) > value_to_float(revenue_q1.text):\n",
        "  print('Current year revenue is higher. Stock can buy')\n",
        "else:\n",
        "  print('Last year revenue is higher. Stock cannot buy')"
      ],
      "execution_count": 235,
      "outputs": [
        {
          "output_type": "stream",
          "text": [
            "Current year Revenue :- 273,832\n",
            "Previous year revenue :- 262,325\n",
            "Current year revenue is higher. Stock can buy\n"
          ],
          "name": "stdout"
        }
      ]
    },
    {
      "cell_type": "markdown",
      "metadata": {
        "id": "uGKTVRCaL_UJ",
        "colab_type": "text"
      },
      "source": [
        "Number of Analysts Making Buy/Hold/Sell Recs.\n",
        "\n",
        "\n",
        "1.   O.K. to buy if a total of at least four analysts are listed as currently making strong buy, buy, hold, underperform, or sell recommendations. \n",
        "2.   Look only at the total number of analysts making recommendations, not whether there are more buys than holds, etc. \n",
        "\n"
      ]
    },
    {
      "cell_type": "code",
      "metadata": {
        "id": "Bpgn44jiL-8W",
        "colab_type": "code",
        "colab": {}
      },
      "source": [
        "broker_url = 'https://sginvestors.io/sgx/stock/awx-aem/target-price'\n",
        "broker_page = requests.get(broker_url)\n",
        "soup_broker = BeautifulSoup(broker_page.content, 'html.parser')"
      ],
      "execution_count": 0,
      "outputs": []
    },
    {
      "cell_type": "code",
      "metadata": {
        "id": "09XQWYHxL_DV",
        "colab_type": "code",
        "colab": {}
      },
      "source": [
        ""
      ],
      "execution_count": 0,
      "outputs": []
    },
    {
      "cell_type": "code",
      "metadata": {
        "id": "yhEUopVICdnm",
        "colab_type": "code",
        "colab": {
          "base_uri": "https://localhost:8080/",
          "height": 71
        },
        "outputId": "462b5e5c-c995-4c72-c13f-524394c13f0d"
      },
      "source": [
        "#find the number of brokers\n",
        "broker_count = soup_broker.find_all('div', class_='targetpriceitem')\n",
        "print('Number of Analysts :-', len(broker_count))\n",
        "if len(broker_count) <4:\n",
        "  print('Recommend at least Four Analysts to suggest a BUY')"
      ],
      "execution_count": 183,
      "outputs": [
        {
          "output_type": "stream",
          "text": [
            "Number of Analysts :- 3\n",
            "Recommend at least Four Analysts to suggest a BUY\n"
          ],
          "name": "stdout"
        }
      ]
    },
    {
      "cell_type": "code",
      "metadata": {
        "id": "MtGRkansCORz",
        "colab_type": "code",
        "colab": {
          "base_uri": "https://localhost:8080/",
          "height": 253
        },
        "outputId": "d18a45bd-aac3-4d5c-d2c1-7c73c8e8f465"
      },
      "source": [
        "print('The analysts List :-')\n",
        "for x in broker_count_number:\n",
        "  print(x.find('div' , class_='BROKER').text)\n",
        "  print('Date :', x.find('div', class_='tpdate').text)\n",
        "  print( x.find('div', class_= 'TPCALLBUY').text)\n",
        "  print( x.find('div', class_ = 'TPPRICE').text)"
      ],
      "execution_count": 181,
      "outputs": [
        {
          "output_type": "stream",
          "text": [
            "The analysts List :-\n",
            "CGS-CIMB\n",
            "Date : 2020-01-09\n",
            "Rating: ADD\n",
            "Price Target: 2.380\n",
            "DBS Research\n",
            "Date : 2019-12-12\n",
            "Rating: BUY\n",
            "Price Target: 2.380\n",
            "Maybank Kim Eng\n",
            "Date : 2020-02-10\n",
            "Rating: BUY\n",
            "Price Target: 2.580\n"
          ],
          "name": "stdout"
        }
      ]
    },
    {
      "cell_type": "markdown",
      "metadata": {
        "id": "mg0cG-keXQkG",
        "colab_type": "text"
      },
      "source": [
        "Gross Margin Trend\n",
        "\n",
        "\n",
        "1.   Changes in gross margin percentages from quarter to quarter point to changes in a company’s competitive position in its marketplace. \n",
        "2.   Increasing gross margins signal an improving competitive position, and declining margins warn of increasing competition. \n",
        "3.   Gross margin (GM) is the \"Gross Income\" divided by \"Revenue,\" expressed as a percentage.\n",
        "4.   Calculate the GM for each of the past 3 or more quarters, and observe the GM trend.\n",
        "\n",
        "O.K. to buy if the trend is flat or increasing (best). Ignore variations of less than 1%, e.g. from 41% to 40.5%.\n",
        "\n",
        "\n",
        "\n"
      ]
    },
    {
      "cell_type": "code",
      "metadata": {
        "id": "IIsuRGnG63Kx",
        "colab_type": "code",
        "colab": {}
      },
      "source": [
        "# using this trick to find the data-reactid values\n",
        "profit_q = revenue_soup.find_all('span', attrs= {})\n",
        "profit_q"
      ],
      "execution_count": 0,
      "outputs": []
    },
    {
      "cell_type": "code",
      "metadata": {
        "id": "_USHtcRWaN4m",
        "colab_type": "code",
        "colab": {
          "base_uri": "https://localhost:8080/",
          "height": 87
        },
        "outputId": "6728b8e0-e617-4a45-9bcd-c029d88fa4be"
      },
      "source": [
        "profit_q1 = revenue_soup.find('span', attrs= {'data-reactid': '81'})\n",
        "profit_q2 = revenue_soup.find('span', attrs = {'data-reactid':'83'})\n",
        "profit_q3 = revenue_soup.find('span', attrs = {'data-reactid': '85'})\n",
        "\n",
        "print('Gross Margins for current Year :-' , profit_q1.text)\n",
        "print('Gross Margins for previous Year :-', profit_q2.text)\n",
        "print('Gross Margins for last two Years :-', profit_q3.text)\n"
      ],
      "execution_count": 219,
      "outputs": [
        {
          "output_type": "stream",
          "text": [
            "Gross Margins for current Year :- 89,103\n",
            "Gross Margins for previous Year :- 73,023\n",
            "Gross Margins for last two Years :- 26,234\n"
          ],
          "name": "stdout"
        }
      ]
    },
    {
      "cell_type": "code",
      "metadata": {
        "id": "oe9jPmBKbajF",
        "colab_type": "code",
        "colab": {
          "base_uri": "https://localhost:8080/",
          "height": 302
        },
        "outputId": "11e30f75-2e2b-4651-c214-861bdd15c71c"
      },
      "source": [
        "profit = [value_to_float(profit_q3.text),value_to_float(profit_q2.text), value_to_float(profit_q1.text)]\n",
        "quarters = ['A1','A2','A3']\n",
        "plt.figure(figsize = (3,4))\n",
        "plt.bar(quarters, profit)\n",
        "plt.ylabel('Gross Margins SGD (\"000)')\n",
        "plt.show()"
      ],
      "execution_count": 218,
      "outputs": [
        {
          "output_type": "display_data",
          "data": {
            "image/png": "[encoded data removed]",
            "text/plain": [
              "<Figure size 216x288 with 1 Axes>"
            ]
          },
          "metadata": {
            "tags": []
          }
        }
      ]
    },
    {
      "cell_type": "code",
      "metadata": {
        "id": "qJLwCzwve__b",
        "colab_type": "code",
        "colab": {
          "base_uri": "https://localhost:8080/",
          "height": 54
        },
        "outputId": "a84c8bbe-af9d-41ea-bd47-1b7273c37c33"
      },
      "source": [
        "if value_to_float(profit_q1.text) > value_to_float(profit_q2.text) > value_to_float(profit_q3.text):\n",
        "  print('Stock is good to buy as the gross margins are growing every quarter')\n",
        "else :\n",
        "  print('Stock gross marings is not growing')"
      ],
      "execution_count": 215,
      "outputs": [
        {
          "output_type": "stream",
          "text": [
            "Stock is good to buy as the gross margins are growing every quarter\n"
          ],
          "name": "stdout"
        }
      ]
    },
    {
      "cell_type": "code",
      "metadata": {
        "id": "Jn-xhK-ygrsG",
        "colab_type": "code",
        "colab": {
          "base_uri": "https://localhost:8080/",
          "height": 71
        },
        "outputId": "75fe528d-ef1d-42f6-d4d7-e8688c6dd63e"
      },
      "source": [
        "def percentage(part, whole):\n",
        "  return 100 * float(whole - part)/float(whole)\n",
        "\n",
        "print('Profit growth Current YoY :-', percentage(value_to_float(profit_q2.text),value_to_float(profit_q1.text)),'%')\n",
        "print('Profit growth Previous Yoy :-', percentage(value_to_float(profit_q3.text), value_to_float(profit_q2.text)),'%')"
      ],
      "execution_count": 234,
      "outputs": [
        {
          "output_type": "stream",
          "text": [
            "Profit growth Current YoY :- 18.046530419851184 %\n",
            "Profit growth Previous Yoy :- 64.07433274447777 %\n"
          ],
          "name": "stdout"
        }
      ]
    },
    {
      "cell_type": "code",
      "metadata": {
        "id": "rAkzdw5gtea5",
        "colab_type": "code",
        "colab": {}
      },
      "source": [
        "reuters_income_url = 'https://www.reuters.com/companies/AEM.SI/financials/income-statement-quarterly'\n",
        "reuters_page = requests.get(reuters_income_url)\n",
        "reuters_soup = BeautifulSoup(reuters_page.content, 'html.parser')"
      ],
      "execution_count": 0,
      "outputs": []
    },
    {
      "cell_type": "code",
      "metadata": {
        "id": "MVUzgcISuizy",
        "colab_type": "code",
        "colab": {}
      },
      "source": [
        "gross_q = reuters_soup.find_all('td', class_ = 'TextLabel__text-label___3oCVw TextLabel__black___2FN-Z TextLabel__regular___2X0ym digits')"
      ],
      "execution_count": 0,
      "outputs": []
    },
    {
      "cell_type": "code",
      "metadata": {
        "id": "1t01s0zGu3jc",
        "colab_type": "code",
        "colab": {
          "base_uri": "https://localhost:8080/",
          "height": 54
        },
        "outputId": "869712db-55ea-48a3-e629-ffac28ef7ca6"
      },
      "source": [
        "five = 0\n",
        "gross = []\n",
        "for x in gross_q:\n",
        "  five += 1\n",
        "  if five <= 5:\n",
        "   gross.append(x.text)       \n",
        "  else:\n",
        "    exit\n",
        "gross = list(map(float, gross)) # convert from string to numbers\n",
        "gross"
      ],
      "execution_count": 434,
      "outputs": [
        {
          "output_type": "execute_result",
          "data": {
            "text/plain": [
              "[83.85, 97.92, 52.72, 39.35, 84.67]"
            ]
          },
          "metadata": {
            "tags": []
          },
          "execution_count": 434
        }
      ]
    },
    {
      "cell_type": "code",
      "metadata": {
        "id": "NhE-UcVQwqcM",
        "colab_type": "code",
        "colab": {
          "base_uri": "https://localhost:8080/",
          "height": 221
        },
        "outputId": "d72d9ac6-2a27-444f-dbe8-56026ab97d4c"
      },
      "source": [
        "\n",
        "gross_margins = pd.DataFrame({'Gross': gross, 'Quarters':['Q1','Q2','Q3','Q4','Q5']})\n",
        "gross_margins"
      ],
      "execution_count": 353,
      "outputs": [
        {
          "output_type": "execute_result",
          "data": {
            "text/html": [
              "<div>\n",
              "<style scoped>\n",
              "    .dataframe tbody tr th:only-of-type {\n",
              "        vertical-align: middle;\n",
              "    }\n",
              "\n",
              "    .dataframe tbody tr th {\n",
              "        vertical-align: top;\n",
              "    }\n",
              "\n",
              "    .dataframe thead th {\n",
              "        text-align: right;\n",
              "    }\n",
              "</style>\n",
              "<table border=\"1\" class=\"dataframe\">\n",
              "  <thead>\n",
              "    <tr style=\"text-align: right;\">\n",
              "      <th></th>\n",
              "      <th>Gross</th>\n",
              "      <th>Quarters</th>\n",
              "    </tr>\n",
              "  </thead>\n",
              "  <tbody>\n",
              "    <tr>\n",
              "      <th>0</th>\n",
              "      <td>83.85</td>\n",
              "      <td>Q1</td>\n",
              "    </tr>\n",
              "    <tr>\n",
              "      <th>1</th>\n",
              "      <td>97.92</td>\n",
              "      <td>Q2</td>\n",
              "    </tr>\n",
              "    <tr>\n",
              "      <th>2</th>\n",
              "      <td>52.72</td>\n",
              "      <td>Q3</td>\n",
              "    </tr>\n",
              "    <tr>\n",
              "      <th>3</th>\n",
              "      <td>39.35</td>\n",
              "      <td>Q4</td>\n",
              "    </tr>\n",
              "    <tr>\n",
              "      <th>4</th>\n",
              "      <td>84.67</td>\n",
              "      <td>Q5</td>\n",
              "    </tr>\n",
              "  </tbody>\n",
              "</table>\n",
              "</div>"
            ],
            "text/plain": [
              "   Gross Quarters\n",
              "0  83.85       Q1\n",
              "1  97.92       Q2\n",
              "2  52.72       Q3\n",
              "3  39.35       Q4\n",
              "4  84.67       Q5"
            ]
          },
          "metadata": {
            "tags": []
          },
          "execution_count": 353
        }
      ]
    },
    {
      "cell_type": "code",
      "metadata": {
        "id": "6MAXSgbczUbi",
        "colab_type": "code",
        "colab": {
          "base_uri": "https://localhost:8080/",
          "height": 321
        },
        "outputId": "cc906a0c-7dc7-4110-8523-73a74f4c757b"
      },
      "source": [
        "plt.figure(figsize=(5,4))\n",
        "plt.plot( gross_margins['Quarters'],gross_margins['Gross'])\n",
        "plt.legend(['Gross Margins'])\n",
        "plt.ylabel('Gross Margins (\"000) SGD')\n"
      ],
      "execution_count": 390,
      "outputs": [
        {
          "output_type": "execute_result",
          "data": {
            "text/plain": [
              "Text(0, 0.5, 'Gross Margins (\"000) SGD')"
            ]
          },
          "metadata": {
            "tags": []
          },
          "execution_count": 390
        },
        {
          "output_type": "display_data",
          "data": {
            "image/png": "[encoded data removed]",
            "text/plain": [
              "<Figure size 360x288 with 1 Axes>"
            ]
          },
          "metadata": {
            "tags": []
          }
        }
      ]
    },
    {
      "cell_type": "code",
      "metadata": {
        "id": "GWUQnOEA_tpx",
        "colab_type": "code",
        "colab": {
          "base_uri": "https://localhost:8080/",
          "height": 54
        },
        "outputId": "5b1814e4-9709-402f-b34c-7fb8ae90110c"
      },
      "source": [
        "def growth_cal( values):\n",
        "  tmp=0\n",
        "  margin = []\n",
        "\n",
        "  for x in values:\n",
        "    z = x - values[tmp+1]\n",
        "    margin.append(z)\n",
        "    tmp +=1\n",
        "    if tmp == 4:\n",
        "      break\n",
        "  return margin\n",
        "margin = growth_cal(gross_margins['Gross'])\n",
        "margin"
      ],
      "execution_count": 410,
      "outputs": [
        {
          "output_type": "execute_result",
          "data": {
            "text/plain": [
              "[-14.070000000000007, 45.2, 13.369999999999997, -45.32]"
            ]
          },
          "metadata": {
            "tags": []
          },
          "execution_count": 410
        }
      ]
    },
    {
      "cell_type": "code",
      "metadata": {
        "id": "oIhq1ZeyLM9p",
        "colab_type": "code",
        "colab": {
          "base_uri": "https://localhost:8080/",
          "height": 120
        },
        "outputId": "684a8e4a-4305-4a84-baa1-471a565a04db"
      },
      "source": [
        "print('Quarter One vs Quarter Two Gross Margins :-', margin[0],'%')\n",
        "print('Quarter Two vs Quarter Three Gross Margins :-', margin[1],'%')\n",
        "print('Quarter Three vs Quarter Four Gross Margins :-', margin[2],'%')\n",
        "print('Quarter Four vs Quarter Five Gross Margins :-', margin[3],'%')\n",
        "\n",
        "if margin[0] > margin[1] > margin[2] > margin[3]:\n",
        "  print('QonQ growth of gross margins')\n",
        "elif margin[0] > margin [1]:\n",
        "  print('Current quarter margin has increased')\n",
        "else:\n",
        "  print('Current quarter margin has decreased')"
      ],
      "execution_count": 420,
      "outputs": [
        {
          "output_type": "stream",
          "text": [
            "Quarter One vs Quarter Two Gross Margins :- -14.070000000000007 %\n",
            "Quarter Two vs Quarter Three Gross Margins :- 45.2 %\n",
            "Quarter Three vs Quarter Four Gross Margins :- 13.369999999999997 %\n",
            "Quarter Four vs Quarter Five Gross Margins :- -45.32 %\n",
            "Current quarter margin has decreased\n"
          ],
          "name": "stdout"
        }
      ]
    },
    {
      "cell_type": "markdown",
      "metadata": {
        "id": "d_-j3seafbfY",
        "colab_type": "text"
      },
      "source": [
        "Revenue (sales)  Growth Rate\n",
        "Latest Quarter compared to previous quarter & most recent year.\n",
        "\n",
        "1.   Slowing revenue (sales) growth is a “red flag” signaling danger ahead. \n",
        "2.   Compare the most recent quarter's (MRQ) year-over-year sales growth rate to previous quarters and to the most recent year.\n",
        "\n",
        "Ideally, revenue growth would be accelerating or at least equal to earlier numbers. But, it's O.K. to buy if MRQ growth is at least 75% of recent growth numbers. \n",
        "\n"
      ]
    },
    {
      "cell_type": "code",
      "metadata": {
        "id": "IZaU33uTPRlW",
        "colab_type": "code",
        "colab": {}
      },
      "source": [
        "revenue_q = reuters_soup.find_all('td', class_ ='TextLabel__text-label___3oCVw TextLabel__black___2FN-Z TextLabel__regular___2X0ym digits')"
      ],
      "execution_count": 0,
      "outputs": []
    },
    {
      "cell_type": "code",
      "metadata": {
        "id": "CyM_sHbdPYpQ",
        "colab_type": "code",
        "colab": {
          "base_uri": "https://localhost:8080/",
          "height": 54
        },
        "outputId": "46894168-6140-4476-a57d-70af8718c3ee"
      },
      "source": [
        "revenue = []\n",
        "tmp = 0\n",
        "for x in revenue_q:\n",
        "  revenue.append(x.text)\n",
        "  if tmp >=4:\n",
        "    break\n",
        "  tmp+=1\n",
        "revenue = list(map(float,revenue))\n",
        "revenue"
      ],
      "execution_count": 460,
      "outputs": [
        {
          "output_type": "execute_result",
          "data": {
            "text/plain": [
              "[83.85, 97.92, 52.72, 39.35, 84.67]"
            ]
          },
          "metadata": {
            "tags": []
          },
          "execution_count": 460
        }
      ]
    },
    {
      "cell_type": "code",
      "metadata": {
        "id": "vh-16JRqT-mv",
        "colab_type": "code",
        "colab": {
          "base_uri": "https://localhost:8080/",
          "height": 221
        },
        "outputId": "ab1d2be4-7c78-4eb1-accb-c501938d6b9d"
      },
      "source": [
        "revenue_grow = pd.DataFrame({'Revenue':revenue, 'Quarter': ['Q1','Q2','Q3','Q4','Q5']})\n",
        "revenue_grow"
      ],
      "execution_count": 461,
      "outputs": [
        {
          "output_type": "execute_result",
          "data": {
            "text/html": [
              "<div>\n",
              "<style scoped>\n",
              "    .dataframe tbody tr th:only-of-type {\n",
              "        vertical-align: middle;\n",
              "    }\n",
              "\n",
              "    .dataframe tbody tr th {\n",
              "        vertical-align: top;\n",
              "    }\n",
              "\n",
              "    .dataframe thead th {\n",
              "        text-align: right;\n",
              "    }\n",
              "</style>\n",
              "<table border=\"1\" class=\"dataframe\">\n",
              "  <thead>\n",
              "    <tr style=\"text-align: right;\">\n",
              "      <th></th>\n",
              "      <th>Revenue</th>\n",
              "      <th>Quarter</th>\n",
              "    </tr>\n",
              "  </thead>\n",
              "  <tbody>\n",
              "    <tr>\n",
              "      <th>0</th>\n",
              "      <td>83.85</td>\n",
              "      <td>Q1</td>\n",
              "    </tr>\n",
              "    <tr>\n",
              "      <th>1</th>\n",
              "      <td>97.92</td>\n",
              "      <td>Q2</td>\n",
              "    </tr>\n",
              "    <tr>\n",
              "      <th>2</th>\n",
              "      <td>52.72</td>\n",
              "      <td>Q3</td>\n",
              "    </tr>\n",
              "    <tr>\n",
              "      <th>3</th>\n",
              "      <td>39.35</td>\n",
              "      <td>Q4</td>\n",
              "    </tr>\n",
              "    <tr>\n",
              "      <th>4</th>\n",
              "      <td>84.67</td>\n",
              "      <td>Q5</td>\n",
              "    </tr>\n",
              "  </tbody>\n",
              "</table>\n",
              "</div>"
            ],
            "text/plain": [
              "   Revenue Quarter\n",
              "0    83.85      Q1\n",
              "1    97.92      Q2\n",
              "2    52.72      Q3\n",
              "3    39.35      Q4\n",
              "4    84.67      Q5"
            ]
          },
          "metadata": {
            "tags": []
          },
          "execution_count": 461
        }
      ]
    },
    {
      "cell_type": "code",
      "metadata": {
        "id": "u4YNYjecVxjG",
        "colab_type": "code",
        "colab": {
          "base_uri": "https://localhost:8080/",
          "height": 305
        },
        "outputId": "8814e172-924c-4256-94d5-3e8c31d0ca66"
      },
      "source": [
        "plt.figure(figsize=(5,4))\n",
        "plt.plot(revenue_grow['Quarter'], revenue_grow['Revenue'] )\n",
        "plt.legend(['Revenue Growth'])\n",
        "plt.ylabel('Revenue (\"000) SGD')\n",
        "plt.show()"
      ],
      "execution_count": 465,
      "outputs": [
        {
          "output_type": "display_data",
          "data": {
            "image/png": "[encoded data removed]",
            "text/plain": [
              "<Figure size 360x288 with 1 Axes>"
            ]
          },
          "metadata": {
            "tags": []
          }
        }
      ]
    },
    {
      "cell_type": "code",
      "metadata": {
        "id": "oCV1y-J_WiDA",
        "colab_type": "code",
        "colab": {
          "base_uri": "https://localhost:8080/",
          "height": 54
        },
        "outputId": "dc3cf329-ec91-451f-fd99-c954919cbd15"
      },
      "source": [
        "margin = growth_cal(revenue_grow['Revenue'])\n",
        "margin"
      ],
      "execution_count": 466,
      "outputs": [
        {
          "output_type": "execute_result",
          "data": {
            "text/plain": [
              "[-14.070000000000007, 45.2, 13.369999999999997, -45.32]"
            ]
          },
          "metadata": {
            "tags": []
          },
          "execution_count": 466
        }
      ]
    },
    {
      "cell_type": "code",
      "metadata": {
        "id": "WeLc0F5qXIow",
        "colab_type": "code",
        "colab": {
          "base_uri": "https://localhost:8080/",
          "height": 120
        },
        "outputId": "77f7955a-9dbe-4bbc-8067-ef34921a7b90"
      },
      "source": [
        "print('Current Quarter vs last quarter Revenue:-' ,margin[0],'%')\n",
        "print('Last Quarter vs Two quarters Revenue:-', margin[1],'%')\n",
        "print('Third Quarter vs Fourth quarters Revenue :-', margin[2],'%')\n",
        "print('Fourth Quarter vs Fifth Quarters Revenue :-', margin[3],'%')\n",
        "\n",
        "if margin[0] > margin[1] > margin[2] > margin[3]:\n",
        "  print('Stock can buy as Revenue grow is consistent')\n",
        "elif margin[0] > margin[1]:\n",
        "  print('Current quarter revenue is higher than previous quarter')\n",
        "else:\n",
        "  print('Current quarter revenue is lower than last quarter')"
      ],
      "execution_count": 469,
      "outputs": [
        {
          "output_type": "stream",
          "text": [
            "Current Quarter vs last quarter Revenue:- -14.070000000000007 %\n",
            "Last Quarter vs Two quarters Revenue:- 45.2 %\n",
            "Third Quarter vs Fourth quarters Revenue :- 13.369999999999997 %\n",
            "Fourth Quarter vs Fifth Quarters Revenue :- -45.32 %\n",
            "Current quarter revenue is lower than last quarter\n"
          ],
          "name": "stdout"
        }
      ]
    },
    {
      "cell_type": "markdown",
      "metadata": {
        "id": "0stnvA-3PZV1",
        "colab_type": "text"
      },
      "source": [
        "Forecast Revenue Growth Rate \n",
        "\n",
        "1.   Yahoo! Finance\n",
        "(finance.yahoo.com > ticker symbol >Analysts)\n",
        "sample\n",
        "\n",
        "1.   Check the forecast year-over-year revenue growth percentage for the current quarter vs. MRQ growth rate found in the previous step. \n",
        "\n",
        "Ideally, the growth rate should be accelerating but it's O.K. to buy if the forecast year-over-year revenue growth is at least 75% of historical year-over-year growth. \n",
        "\n",
        "2.   Compare consensus revenue growth forecasts to historical numbers. \n",
        "\n"
      ]
    },
    {
      "cell_type": "markdown",
      "metadata": {
        "id": "hV94bYgdPsOx",
        "colab_type": "text"
      },
      "source": [
        "Accounts Receivables Growth vs. Sales Growth\n",
        "\n",
        "\n",
        "1.   Accounts receivables are monies owed by a company’s customers for goods received. \n",
        "The Accounts Receivables Ratio (ratio) is the total receivables divided by the revenue for the same quarter. \n",
        "A significantly higher ratio vs. year-ago is a red flag pointing to future problems. \n",
        "2.   Compute the ratio for the most recent and the year-ago quarters.\n",
        "\n",
        "Ideally the most recent ratio would be less than year-ago, but it's O.K. to buy if the ratio is the same or lower than year-ago. Ignore increases that are less than 5%, e.g. from 60% to 64%. \n",
        "\n"
      ]
    },
    {
      "cell_type": "code",
      "metadata": {
        "id": "4RFb39tXZDrb",
        "colab_type": "code",
        "colab": {}
      },
      "source": [
        "accounts_url = 'https://www.reuters.com/companies/AEM.SI/financials/balance-sheet-quarterly'\n",
        "accounts_page = requests.get(accounts_url)\n",
        "accounts_soup = BeautifulSoup(accounts_page.content, 'html.parser')"
      ],
      "execution_count": 0,
      "outputs": []
    },
    {
      "cell_type": "code",
      "metadata": {
        "id": "rQk-RC-IaWIJ",
        "colab_type": "code",
        "colab": {
          "base_uri": "https://localhost:8080/",
          "height": 54
        },
        "outputId": "0ab2bbba-ff55-46a1-b22f-ed46729b58a1"
      },
      "source": [
        "accounts_q = accounts_soup.find_all('td', class_ = 'TextLabel__text-label___3oCVw TextLabel__black___2FN-Z TextLabel__regular___2X0ym digits')\n",
        "accounts = []\n",
        "row = 0 \n",
        "for x in accounts_q:\n",
        "  if row >=10 and row <= 14: # receivable data is found in this row 9\n",
        "    accounts.append(x.text)\n",
        "  row +=1\n",
        "  if row >15:\n",
        "    break\n",
        "\n",
        "accounts = list(map(float, accounts))\n",
        "accounts"
      ],
      "execution_count": 487,
      "outputs": [
        {
          "output_type": "execute_result",
          "data": {
            "text/plain": [
              "[41.42, 53.14, 32.36, 22.46, 32.23]"
            ]
          },
          "metadata": {
            "tags": []
          },
          "execution_count": 487
        }
      ]
    },
    {
      "cell_type": "code",
      "metadata": {
        "id": "M952pKE7cdvl",
        "colab_type": "code",
        "colab": {
          "base_uri": "https://localhost:8080/",
          "height": 221
        },
        "outputId": "7c3df670-2c7f-4e1c-939b-c6666b174d9f"
      },
      "source": [
        "accounts_grow = pd.DataFrame({'Accounts': accounts, 'Quarters': ['Q1','Q2','Q3','Q4','Q5']})\n",
        "accounts_grow"
      ],
      "execution_count": 488,
      "outputs": [
        {
          "output_type": "execute_result",
          "data": {
            "text/html": [
              "<div>\n",
              "<style scoped>\n",
              "    .dataframe tbody tr th:only-of-type {\n",
              "        vertical-align: middle;\n",
              "    }\n",
              "\n",
              "    .dataframe tbody tr th {\n",
              "        vertical-align: top;\n",
              "    }\n",
              "\n",
              "    .dataframe thead th {\n",
              "        text-align: right;\n",
              "    }\n",
              "</style>\n",
              "<table border=\"1\" class=\"dataframe\">\n",
              "  <thead>\n",
              "    <tr style=\"text-align: right;\">\n",
              "      <th></th>\n",
              "      <th>Accounts</th>\n",
              "      <th>Quarters</th>\n",
              "    </tr>\n",
              "  </thead>\n",
              "  <tbody>\n",
              "    <tr>\n",
              "      <th>0</th>\n",
              "      <td>41.42</td>\n",
              "      <td>Q1</td>\n",
              "    </tr>\n",
              "    <tr>\n",
              "      <th>1</th>\n",
              "      <td>53.14</td>\n",
              "      <td>Q2</td>\n",
              "    </tr>\n",
              "    <tr>\n",
              "      <th>2</th>\n",
              "      <td>32.36</td>\n",
              "      <td>Q3</td>\n",
              "    </tr>\n",
              "    <tr>\n",
              "      <th>3</th>\n",
              "      <td>22.46</td>\n",
              "      <td>Q4</td>\n",
              "    </tr>\n",
              "    <tr>\n",
              "      <th>4</th>\n",
              "      <td>32.23</td>\n",
              "      <td>Q5</td>\n",
              "    </tr>\n",
              "  </tbody>\n",
              "</table>\n",
              "</div>"
            ],
            "text/plain": [
              "   Accounts Quarters\n",
              "0     41.42       Q1\n",
              "1     53.14       Q2\n",
              "2     32.36       Q3\n",
              "3     22.46       Q4\n",
              "4     32.23       Q5"
            ]
          },
          "metadata": {
            "tags": []
          },
          "execution_count": 488
        }
      ]
    },
    {
      "cell_type": "code",
      "metadata": {
        "id": "0TEsUs6jfqD7",
        "colab_type": "code",
        "colab": {
          "base_uri": "https://localhost:8080/",
          "height": 318
        },
        "outputId": "12fa16d1-14fc-478c-d5bd-2e3adf11d717"
      },
      "source": [
        "plt.figure(figsize=(5,4))\n",
        "plt.plot(accounts_grow['Quarters'], accounts_grow['Accounts'])\n",
        "plt.legend(['Accounts Receivable'])\n",
        "plt.ylabel('Account Receivable (\"000) SGD')\n",
        "plt.show()"
      ],
      "execution_count": 489,
      "outputs": [
        {
          "output_type": "display_data",
          "data": {
            "image/png": "[encoded data removed]",
            "text/plain": [
              "<Figure size 360x288 with 1 Axes>"
            ]
          },
          "metadata": {
            "tags": []
          }
        }
      ]
    },
    {
      "cell_type": "code",
      "metadata": {
        "id": "fqzmo9-WgJ5N",
        "colab_type": "code",
        "colab": {
          "base_uri": "https://localhost:8080/",
          "height": 54
        },
        "outputId": "1db4f1c6-359b-4eb4-d99c-2b8e4bfa736f"
      },
      "source": [
        "margin = growth_cal(accounts_grow['Accounts'])\n",
        "margin"
      ],
      "execution_count": 490,
      "outputs": [
        {
          "output_type": "execute_result",
          "data": {
            "text/plain": [
              "[-11.719999999999999, 20.78, 9.899999999999999, -9.769999999999996]"
            ]
          },
          "metadata": {
            "tags": []
          },
          "execution_count": 490
        }
      ]
    },
    {
      "cell_type": "code",
      "metadata": {
        "id": "lxNFQSJvgaed",
        "colab_type": "code",
        "colab": {
          "base_uri": "https://localhost:8080/",
          "height": 120
        },
        "outputId": "8bfd1b76-4da9-4242-f4b1-41c91d11134b"
      },
      "source": [
        "print('Current quarter vs previous quarter accounts receivable :-', margin[0],'%')\n",
        "print('Previous quarter vs previous quarter accounts receivable :-', margin[1],'%')\n",
        "print('Third quarter vs Forth quarter accounts receivable :-', margin[2],'%')\n",
        "print('Forth quarter vs Fifth quarter accounts receivable :-', margin[3],'%')\n",
        "\n",
        "if margin[0] < margin[1] < margin[3]:\n",
        "  print('Accounts Receivable is declining, managble')\n",
        "elif margin[0] > margin[1]:\n",
        "  print('Current account receivables are higher than preivous quarter. warning on this stock probable bad debts')\n",
        "else:\n",
        "  print('Stock account receivable needs to be improved')"
      ],
      "execution_count": 492,
      "outputs": [
        {
          "output_type": "stream",
          "text": [
            "Current quarter vs previous quarter accounts receivable :- -11.719999999999999 %\n",
            "Previous quarter vs previous quarter accounts receivable :- 20.78 %\n",
            "Third quarter vs Forth quarter accounts receivable :- 9.899999999999999 %\n",
            "Forth quarter vs Fifth quarter accounts receivable :- -9.769999999999996 %\n",
            "Stock account receivable needs to be improved\n"
          ],
          "name": "stdout"
        }
      ]
    },
    {
      "cell_type": "code",
      "metadata": {
        "id": "Qz5K-7CShP_K",
        "colab_type": "code",
        "colab": {}
      },
      "source": [
        ""
      ],
      "execution_count": 0,
      "outputs": []
    }
  ]
}